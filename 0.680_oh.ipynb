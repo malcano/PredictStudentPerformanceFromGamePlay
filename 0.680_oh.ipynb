{
 "cells": [
  {
   "cell_type": "markdown",
   "id": "5164e4fd",
   "metadata": {
    "papermill": {
     "duration": 0.006798,
     "end_time": "2023-02-17T16:01:07.344033",
     "exception": false,
     "start_time": "2023-02-17T16:01:07.337235",
     "status": "completed"
    },
    "tags": []
   },
   "source": [
    "This is a modified Version of Chris's notebook:https://www.kaggle.com/code/cdeotte/xgboost-baseline-0-676"
   ]
  },
  {
   "cell_type": "code",
   "execution_count": 3,
   "id": "f1b58c7e",
   "metadata": {
    "execution": {
     "iopub.execute_input": "2023-02-17T16:01:07.357284Z",
     "iopub.status.busy": "2023-02-17T16:01:07.356555Z",
     "iopub.status.idle": "2023-02-17T16:01:09.450742Z",
     "shell.execute_reply": "2023-02-17T16:01:09.449912Z"
    },
    "papermill": {
     "duration": 2.103211,
     "end_time": "2023-02-17T16:01:09.453124",
     "exception": false,
     "start_time": "2023-02-17T16:01:07.349913",
     "status": "completed"
    },
    "tags": []
   },
   "outputs": [],
   "source": [
    "import pandas as pd, numpy as np\n",
    "from sklearn.model_selection import KFold, GroupKFold\n",
    "from xgboost import XGBClassifier\n",
    "# import lightgbm as lgb\n",
    "from sklearn.metrics import f1_score"
   ]
  },
  {
   "cell_type": "markdown",
   "id": "a0f7062e",
   "metadata": {
    "papermill": {
     "duration": 0.005406,
     "end_time": "2023-02-17T16:01:09.464559",
     "exception": false,
     "start_time": "2023-02-17T16:01:09.459153",
     "status": "completed"
    },
    "tags": []
   },
   "source": [
    "# Load Train Data and Labels"
   ]
  },
  {
   "cell_type": "code",
   "execution_count": 42,
   "id": "0bc496b4",
   "metadata": {
    "execution": {
     "iopub.execute_input": "2023-02-17T16:01:09.477940Z",
     "iopub.status.busy": "2023-02-17T16:01:09.477262Z",
     "iopub.status.idle": "2023-02-17T16:02:13.114681Z",
     "shell.execute_reply": "2023-02-17T16:02:13.113656Z"
    },
    "papermill": {
     "duration": 63.647097,
     "end_time": "2023-02-17T16:02:13.117300",
     "exception": false,
     "start_time": "2023-02-17T16:01:09.470203",
     "status": "completed"
    },
    "tags": []
   },
   "outputs": [],
   "source": [
    "train = pd.read_csv('predict-student-performance-from-game-play/train.csv').astype({'level':'int16', 'index': 'int16', 'elapsed_time':'int16','room_coor_x':'float32','room_coor_y':'float32','screen_coor_x':'float32','screen_coor_y':'float32'}).drop(['index','fullscreen','hq','music','name','text'], axis=1)"
   ]
  },
  {
   "cell_type": "code",
   "execution_count": 41,
   "id": "e16eef32",
   "metadata": {
    "execution": {
     "iopub.execute_input": "2023-02-17T16:02:13.131600Z",
     "iopub.status.busy": "2023-02-17T16:02:13.130705Z",
     "iopub.status.idle": "2023-02-17T16:02:13.715114Z",
     "shell.execute_reply": "2023-02-17T16:02:13.714119Z"
    },
    "papermill": {
     "duration": 0.593918,
     "end_time": "2023-02-17T16:02:13.717461",
     "exception": false,
     "start_time": "2023-02-17T16:02:13.123543",
     "status": "completed"
    },
    "tags": []
   },
   "outputs": [],
   "source": [
    "def df_scale(train):\n",
    "    # train.drop(['fullscreen', 'hq', 'music'], axis=1, inplace=True)\n",
    "    train['room_coor_x'] = train['room_coor_x'].fillna(0)\n",
    "    train['room_coor_y'] = train['room_coor_y'].fillna(0)\n",
    "    train['screen_coor_x'] = train['screen_coor_x'].fillna(0)\n",
    "    train['screen_coor_y'] = train['screen_coor_y'].fillna(0)\n",
    "    train['hover_duration'] = train['hover_duration'].fillna(0)\n",
    "    train['page'].fillna(-1)\n",
    "    return train\n"
   ]
  },
  {
   "cell_type": "code",
   "execution_count": 6,
   "id": "8c2e9cd8",
   "metadata": {},
   "outputs": [],
   "source": [
    "train = df_scale(train)"
   ]
  },
  {
   "cell_type": "code",
   "execution_count": 7,
   "id": "49293c29",
   "metadata": {
    "execution": {
     "iopub.execute_input": "2023-02-17T16:02:13.731007Z",
     "iopub.status.busy": "2023-02-17T16:02:13.730175Z",
     "iopub.status.idle": "2023-02-17T16:02:14.339924Z",
     "shell.execute_reply": "2023-02-17T16:02:14.338211Z"
    },
    "papermill": {
     "duration": 0.619152,
     "end_time": "2023-02-17T16:02:14.342402",
     "exception": false,
     "start_time": "2023-02-17T16:02:13.723250",
     "status": "completed"
    },
    "tags": []
   },
   "outputs": [
    {
     "name": "stdout",
     "output_type": "stream",
     "text": [
      "(212022, 4)\n"
     ]
    },
    {
     "data": {
      "text/html": [
       "<div>\n",
       "<style scoped>\n",
       "    .dataframe tbody tr th:only-of-type {\n",
       "        vertical-align: middle;\n",
       "    }\n",
       "\n",
       "    .dataframe tbody tr th {\n",
       "        vertical-align: top;\n",
       "    }\n",
       "\n",
       "    .dataframe thead th {\n",
       "        text-align: right;\n",
       "    }\n",
       "</style>\n",
       "<table border=\"1\" class=\"dataframe\">\n",
       "  <thead>\n",
       "    <tr style=\"text-align: right;\">\n",
       "      <th></th>\n",
       "      <th>session_id</th>\n",
       "      <th>correct</th>\n",
       "      <th>session</th>\n",
       "      <th>q</th>\n",
       "    </tr>\n",
       "  </thead>\n",
       "  <tbody>\n",
       "    <tr>\n",
       "      <th>0</th>\n",
       "      <td>20090312431273200_q1</td>\n",
       "      <td>1</td>\n",
       "      <td>20090312431273200</td>\n",
       "      <td>1</td>\n",
       "    </tr>\n",
       "    <tr>\n",
       "      <th>1</th>\n",
       "      <td>20090312433251036_q1</td>\n",
       "      <td>0</td>\n",
       "      <td>20090312433251036</td>\n",
       "      <td>1</td>\n",
       "    </tr>\n",
       "    <tr>\n",
       "      <th>2</th>\n",
       "      <td>20090314121766812_q1</td>\n",
       "      <td>1</td>\n",
       "      <td>20090314121766812</td>\n",
       "      <td>1</td>\n",
       "    </tr>\n",
       "    <tr>\n",
       "      <th>3</th>\n",
       "      <td>20090314363702160_q1</td>\n",
       "      <td>1</td>\n",
       "      <td>20090314363702160</td>\n",
       "      <td>1</td>\n",
       "    </tr>\n",
       "    <tr>\n",
       "      <th>4</th>\n",
       "      <td>20090314441803444_q1</td>\n",
       "      <td>1</td>\n",
       "      <td>20090314441803444</td>\n",
       "      <td>1</td>\n",
       "    </tr>\n",
       "  </tbody>\n",
       "</table>\n",
       "</div>"
      ],
      "text/plain": [
       "             session_id  correct            session  q\n",
       "0  20090312431273200_q1        1  20090312431273200  1\n",
       "1  20090312433251036_q1        0  20090312433251036  1\n",
       "2  20090314121766812_q1        1  20090314121766812  1\n",
       "3  20090314363702160_q1        1  20090314363702160  1\n",
       "4  20090314441803444_q1        1  20090314441803444  1"
      ]
     },
     "execution_count": 7,
     "metadata": {},
     "output_type": "execute_result"
    }
   ],
   "source": [
    "targets = pd.read_csv('predict-student-performance-from-game-play/train_labels.csv')\n",
    "targets['session'] = targets.session_id.apply(lambda x: int(x.split('_')[0]) )\n",
    "targets['q'] = targets.session_id.apply(lambda x: int(x.split('_')[-1][1:]) )\n",
    "print( targets.shape )\n",
    "targets.head()"
   ]
  },
  {
   "cell_type": "code",
   "execution_count": 8,
   "id": "75bf7342",
   "metadata": {},
   "outputs": [],
   "source": [
    "from sklearn.preprocessing import OneHotEncoder\n",
    "items = train['page'].values\n",
    "labels = items.reshape(-1,1)\n",
    "\n",
    "oh_page_encoder = OneHotEncoder()\n",
    "\n",
    "oh_page_encoder.fit(labels)\n",
    "oh_page_labels = oh_page_encoder.transform(labels)\n"
   ]
  },
  {
   "cell_type": "code",
   "execution_count": 9,
   "id": "4d55d454",
   "metadata": {},
   "outputs": [],
   "source": [
    "def oh_page_out(df: pd.DataFrame) -> None:\n",
    "    train_cat = oh_page_labels.toarray()\n",
    "\n",
    "    tmp_df = pd.DataFrame(train_cat, columns=[\n",
    "                          'page_' + str(col) for col in range(-1, 7)]).astype(dtype = 'int8')\n",
    "    pd.concat([df[['session_id', 'level_group']], tmp_df], axis=1).to_csv(\"temp/page_train.csv\")\n"
   ]
  },
  {
   "cell_type": "code",
   "execution_count": 10,
   "id": "c285931a",
   "metadata": {},
   "outputs": [],
   "source": [
    "oh_page_out(train)"
   ]
  },
  {
   "cell_type": "code",
   "execution_count": 11,
   "id": "7c6c6aa9",
   "metadata": {},
   "outputs": [],
   "source": [
    "train = train.drop(columns=['page'],axis=1)"
   ]
  },
  {
   "cell_type": "code",
   "execution_count": 12,
   "id": "b217d3ae",
   "metadata": {},
   "outputs": [
    {
     "data": {
      "text/plain": [
       "Index(['session_id', 'index', 'elapsed_time', 'event_name', 'name', 'level',\n",
       "       'room_coor_x', 'room_coor_y', 'screen_coor_x', 'screen_coor_y',\n",
       "       'hover_duration', 'text', 'fqid', 'room_fqid', 'text_fqid',\n",
       "       'level_group'],\n",
       "      dtype='object')"
      ]
     },
     "execution_count": 12,
     "metadata": {},
     "output_type": "execute_result"
    }
   ],
   "source": [
    "train.columns"
   ]
  },
  {
   "cell_type": "markdown",
   "id": "1baa0029",
   "metadata": {
    "papermill": {
     "duration": 0.006458,
     "end_time": "2023-02-17T16:02:14.355132",
     "exception": false,
     "start_time": "2023-02-17T16:02:14.348674",
     "status": "completed"
    },
    "tags": []
   },
   "source": [
    "# Feature Engineer\n",
    "We create basic aggregate features. Try creating more features to boost CV and LB! The idea for EVENTS feature is from [here][1]\n",
    "\n",
    "[1]: https://www.kaggle.com/code/kimtaehun/lightgbm-baseline-with-aggregated-log-data"
   ]
  },
  {
   "cell_type": "code",
   "execution_count": 13,
   "id": "9a27ef7b",
   "metadata": {
    "execution": {
     "iopub.execute_input": "2023-02-17T16:02:14.369136Z",
     "iopub.status.busy": "2023-02-17T16:02:14.368451Z",
     "iopub.status.idle": "2023-02-17T16:02:14.374029Z",
     "shell.execute_reply": "2023-02-17T16:02:14.373273Z"
    },
    "papermill": {
     "duration": 0.014789,
     "end_time": "2023-02-17T16:02:14.375968",
     "exception": false,
     "start_time": "2023-02-17T16:02:14.361179",
     "status": "completed"
    },
    "tags": []
   },
   "outputs": [],
   "source": [
    "NUNIQUE = ['event_name','fqid', 'room_fqid']\n",
    "MMS = ['elapsed_time', 'hover_duration','index'] # mean,std\n",
    "MEAN = ['level']\n",
    "STD = ['room_coor_x', 'room_coor_y','screen_coor_x','screen_coor_y']\n",
    "EVENTS = ['navigate_click','person_click','cutscene_click','object_click',\n",
    "          'map_hover','notification_click','map_click','observation_click',\n",
    "          'checkpoint']\n",
    "SUM = ['index']\n",
    "PAGE = ['page_-1', 'page_0', 'page_1', 'page_2',\n",
    "        'page_3', 'page_4', 'page_5', 'page_6']\n"
   ]
  },
  {
   "cell_type": "code",
   "execution_count": 14,
   "id": "01b2510c",
   "metadata": {},
   "outputs": [
    {
     "data": {
      "text/plain": [
       "Index(['session_id', 'index', 'elapsed_time', 'event_name', 'name', 'level',\n",
       "       'room_coor_x', 'room_coor_y', 'screen_coor_x', 'screen_coor_y',\n",
       "       'hover_duration', 'text', 'fqid', 'room_fqid', 'text_fqid',\n",
       "       'level_group'],\n",
       "      dtype='object')"
      ]
     },
     "execution_count": 14,
     "metadata": {},
     "output_type": "execute_result"
    }
   ],
   "source": [
    "train.columns"
   ]
  },
  {
   "cell_type": "code",
   "execution_count": 15,
   "id": "2b2ab223",
   "metadata": {},
   "outputs": [
    {
     "data": {
      "text/plain": [
       "tunic.historicalsociety.cage.confrontation               333363\n",
       "tunic.wildlife.center.crane_ranger.crane                 235368\n",
       "tunic.historicalsociety.frontdesk.archivist.newspaper    214637\n",
       "tunic.historicalsociety.entry.groupconvo                 213592\n",
       "tunic.wildlife.center.wells.nodeer                       199978\n",
       "                                                          ...  \n",
       "tunic.wildlife.center.fox.concern                           111\n",
       "tunic.drycleaner.frontdesk.block_0                          106\n",
       "tunic.historicalsociety.entry.gramps.hub                     21\n",
       "tunic.humanecology.frontdesk.block_1                          8\n",
       "tunic.drycleaner.frontdesk.block_1                            3\n",
       "Name: text_fqid, Length: 126, dtype: int64"
      ]
     },
     "execution_count": 15,
     "metadata": {},
     "output_type": "execute_result"
    }
   ],
   "source": [
    "train['text_fqid'].value_counts() # name 6개, event_name 11개, "
   ]
  },
  {
   "cell_type": "code",
   "execution_count": 16,
   "id": "c83655de",
   "metadata": {
    "execution": {
     "iopub.execute_input": "2023-02-17T16:02:14.389991Z",
     "iopub.status.busy": "2023-02-17T16:02:14.389130Z",
     "iopub.status.idle": "2023-02-17T16:02:14.401761Z",
     "shell.execute_reply": "2023-02-17T16:02:14.400972Z"
    },
    "papermill": {
     "duration": 0.021863,
     "end_time": "2023-02-17T16:02:14.403828",
     "exception": false,
     "start_time": "2023-02-17T16:02:14.381965",
     "status": "completed"
    },
    "tags": []
   },
   "outputs": [],
   "source": [
    "def feature_engineer(train):\n",
    "    dfs = []\n",
    "    for c in NUNIQUE:\n",
    "        tmp = train.groupby(['session_id','level_group'])[c].agg('nunique')\n",
    "        tmp.name = tmp.name + '_nunique'\n",
    "        dfs.append(tmp)\n",
    "    # for c in MMS:\n",
    "    #     tmp = train.groupby(['session_id','level_group'])[c].agg('mean')\n",
    "    #     tmp.name = tmp.name + '_mean'\n",
    "    #     dfs.append(tmp)\n",
    "    # for c in PAGE:\n",
    "    #     tmp = train.groupby(['session_id', 'level_group'])[c].agg('sum')\n",
    "    #     tmp.name = tmp.name + '_sum'\n",
    "    #     dfs.append(tmp)\n",
    "    for c in MMS:\n",
    "        tmp = train.groupby(['session_id','level_group'])[c].agg('max')\n",
    "        tmp.name = tmp.name + '_max'\n",
    "        dfs.append(tmp)\n",
    "    for c in MMS:\n",
    "        tmp = train.groupby(['session_id','level_group'])[c].agg('min')\n",
    "        tmp.name = tmp.name + '_min'\n",
    "        dfs.append(tmp)\n",
    "    for c in MMS:\n",
    "        tmp = train.groupby(['session_id','level_group'])[c].agg('std')\n",
    "        tmp.name = tmp.name + '_std'\n",
    "        dfs.append(tmp)\n",
    "    for c in MEAN:\n",
    "        tmp = train.groupby(['session_id','level_group'])[c].agg('mean')\n",
    "        tmp.name = tmp.name + '_mean'\n",
    "        dfs.append(tmp)\n",
    "    for c in STD:\n",
    "        tmp = train.groupby(['session_id','level_group'])[c].agg('std')\n",
    "        tmp.name = tmp.name + '_std'\n",
    "        dfs.append(tmp)\n",
    "    for c in SUM:\n",
    "        tmp = train.groupby(['session_id','level_group'])[c].agg('sum')\n",
    "        tmp.name = tmp.name + '_sum'\n",
    "        dfs.append(tmp)\n",
    "    for c in EVENTS:\n",
    "        train[c] = (train.event_name == c).astype('int8')\n",
    "    for c in EVENTS + ['elapsed_time']:\n",
    "        tmp = train.groupby(['session_id','level_group'])[c].agg('sum')\n",
    "        tmp.name = tmp.name + '_sum'\n",
    "        dfs.append(tmp)\n",
    "    train = train.drop(EVENTS,axis=1)\n",
    "    df = pd.concat(dfs,axis=1)\n",
    "    # df = df.fillna(-1)\n",
    "    df = df.reset_index()\n",
    "    df = df.set_index('session_id')\n",
    "    return df"
   ]
  },
  {
   "cell_type": "code",
   "execution_count": 17,
   "id": "f2f72e64",
   "metadata": {},
   "outputs": [],
   "source": [
    "def feature_engineer_page(train):\n",
    "    dfs = []\n",
    "    for c in PAGE:\n",
    "        tmp = train.groupby(['session_id', 'level_group'])[c].agg('sum')\n",
    "        tmp.name = tmp.name + '_sum'\n",
    "        dfs.append(tmp)\n",
    "\n",
    "    df = pd.concat(dfs, axis=1)\n",
    "    # df = df.fillna(-1)\n",
    "    df = df.reset_index()\n",
    "    df = df.set_index('session_id')\n",
    "    return df\n"
   ]
  },
  {
   "cell_type": "code",
   "execution_count": 18,
   "id": "6ae2a04c",
   "metadata": {
    "execution": {
     "iopub.execute_input": "2023-02-17T16:02:14.418150Z",
     "iopub.status.busy": "2023-02-17T16:02:14.417457Z",
     "iopub.status.idle": "2023-02-17T16:03:14.697440Z",
     "shell.execute_reply": "2023-02-17T16:03:14.696652Z"
    },
    "papermill": {
     "duration": 60.296336,
     "end_time": "2023-02-17T16:03:14.706338",
     "exception": false,
     "start_time": "2023-02-17T16:02:14.410002",
     "status": "completed"
    },
    "tags": []
   },
   "outputs": [
    {
     "name": "stdout",
     "output_type": "stream",
     "text": [
      "CPU times: user 35.2 s, sys: 4.2 s, total: 39.5 s\n",
      "Wall time: 40.4 s\n"
     ]
    }
   ],
   "source": [
    "%%time\n",
    "train = pd.concat([feature_engineer(train), feature_engineer_page(pd.read_csv('temp/page_train.csv'))], axis=1)\n"
   ]
  },
  {
   "cell_type": "code",
   "execution_count": 19,
   "id": "87ba1392",
   "metadata": {},
   "outputs": [
    {
     "data": {
      "text/plain": [
       "Index(['level_group', 'event_name_nunique', 'fqid_nunique',\n",
       "       'room_fqid_nunique', 'text_nunique', 'elapsed_time_max',\n",
       "       'hover_duration_max', 'index_max', 'elapsed_time_min',\n",
       "       'hover_duration_min', 'index_min', 'elapsed_time_std',\n",
       "       'hover_duration_std', 'index_std', 'level_mean', 'room_coor_x_std',\n",
       "       'room_coor_y_std', 'screen_coor_x_std', 'screen_coor_y_std',\n",
       "       'index_sum', 'navigate_click_sum', 'person_click_sum',\n",
       "       'cutscene_click_sum', 'object_click_sum', 'map_hover_sum',\n",
       "       'notification_click_sum', 'map_click_sum', 'observation_click_sum',\n",
       "       'checkpoint_sum', 'elapsed_time_sum', 'level_group', 'page_-1_sum',\n",
       "       'page_0_sum', 'page_1_sum', 'page_2_sum', 'page_3_sum', 'page_4_sum',\n",
       "       'page_5_sum', 'page_6_sum'],\n",
       "      dtype='object')"
      ]
     },
     "execution_count": 19,
     "metadata": {},
     "output_type": "execute_result"
    }
   ],
   "source": [
    "train.columns"
   ]
  },
  {
   "cell_type": "code",
   "execution_count": 20,
   "id": "7e9d9f0a",
   "metadata": {},
   "outputs": [],
   "source": [
    "t_col = ['level_group', 'event_name_nunique', 'fqid_nunique',\n",
    " 'room_fqid_nunique', 'text_nunique', 'elapsed_time_max',\n",
    " 'hover_duration_max', 'index_max', 'elapsed_time_min',\n",
    " 'hover_duration_min', 'index_min', 'elapsed_time_std',\n",
    " 'hover_duration_std', 'index_std', 'level_mean', 'room_coor_x_std',\n",
    " 'room_coor_y_std', 'screen_coor_x_std', 'screen_coor_y_std',\n",
    " 'index_sum', 'navigate_click_sum', 'person_click_sum',\n",
    " 'cutscene_click_sum', 'object_click_sum', 'map_hover_sum',\n",
    " 'notification_click_sum', 'map_click_sum', 'observation_click_sum',\n",
    " 'checkpoint_sum', 'elapsed_time_sum', 'TRASH_level_group', 'page_-1_sum',\n",
    " 'page_0_sum', 'page_1_sum', 'page_2_sum', 'page_3_sum', 'page_4_sum',\n",
    " 'page_5_sum', 'page_6_sum']\n"
   ]
  },
  {
   "cell_type": "code",
   "execution_count": 21,
   "id": "28ccf7a1",
   "metadata": {},
   "outputs": [],
   "source": [
    "train.columns = t_col"
   ]
  },
  {
   "cell_type": "code",
   "execution_count": 22,
   "id": "fc2e72d7",
   "metadata": {},
   "outputs": [
    {
     "data": {
      "text/plain": [
       "Index(['level_group', 'event_name_nunique', 'fqid_nunique',\n",
       "       'room_fqid_nunique', 'text_nunique', 'elapsed_time_max',\n",
       "       'hover_duration_max', 'index_max', 'elapsed_time_min',\n",
       "       'hover_duration_min', 'index_min', 'elapsed_time_std',\n",
       "       'hover_duration_std', 'index_std', 'level_mean', 'room_coor_x_std',\n",
       "       'room_coor_y_std', 'screen_coor_x_std', 'screen_coor_y_std',\n",
       "       'index_sum', 'navigate_click_sum', 'person_click_sum',\n",
       "       'cutscene_click_sum', 'object_click_sum', 'map_hover_sum',\n",
       "       'notification_click_sum', 'map_click_sum', 'observation_click_sum',\n",
       "       'checkpoint_sum', 'elapsed_time_sum', 'TRASH_level_group',\n",
       "       'page_-1_sum', 'page_0_sum', 'page_1_sum', 'page_2_sum', 'page_3_sum',\n",
       "       'page_4_sum', 'page_5_sum', 'page_6_sum'],\n",
       "      dtype='object')"
      ]
     },
     "execution_count": 22,
     "metadata": {},
     "output_type": "execute_result"
    }
   ],
   "source": [
    "train.columns"
   ]
  },
  {
   "cell_type": "code",
   "execution_count": 23,
   "id": "551958bc",
   "metadata": {},
   "outputs": [],
   "source": [
    "train = train.drop('TRASH_level_group',axis=1)\n"
   ]
  },
  {
   "cell_type": "markdown",
   "id": "7a1fe04a",
   "metadata": {
    "papermill": {
     "duration": 0.007201,
     "end_time": "2023-02-17T16:03:14.720157",
     "exception": false,
     "start_time": "2023-02-17T16:03:14.712956",
     "status": "completed"
    },
    "tags": []
   },
   "source": [
    "# Train XGBoost Model\n",
    "We train one model for each of 18 questions. Furthermore, we use data from `level_groups = '0-4'` to train model for questions 1-3, and `level groups '5-12'` to train questions 4 thru 13 and `level groups '13-22'` to train questions 14 thru 18. Because this is the data we get (to predict corresponding questions) from Kaggle's inference API during test inference. We can improve our model by saving a user's previous data from earlier `level_groups` and using that to predict future `level_groups`."
   ]
  },
  {
   "cell_type": "code",
   "execution_count": 24,
   "id": "04a3ed46",
   "metadata": {
    "execution": {
     "iopub.execute_input": "2023-02-17T16:03:14.735143Z",
     "iopub.status.busy": "2023-02-17T16:03:14.734162Z",
     "iopub.status.idle": "2023-02-17T16:03:14.742643Z",
     "shell.execute_reply": "2023-02-17T16:03:14.741872Z"
    },
    "papermill": {
     "duration": 0.018262,
     "end_time": "2023-02-17T16:03:14.744741",
     "exception": false,
     "start_time": "2023-02-17T16:03:14.726479",
     "status": "completed"
    },
    "tags": []
   },
   "outputs": [
    {
     "name": "stdout",
     "output_type": "stream",
     "text": [
      "37개의 특성\n",
      "11779명의 유저 정보\n"
     ]
    }
   ],
   "source": [
    "FEATURES = train.columns[1:]\n",
    "print(f'{len(FEATURES)}개의 특성')\n",
    "ALL_USERS = train.index.unique()\n",
    "print(f'{len(ALL_USERS)}명의 유저 정보')\n"
   ]
  },
  {
   "cell_type": "code",
   "execution_count": 25,
   "id": "3f041c3c",
   "metadata": {},
   "outputs": [],
   "source": [
    "train = train.reset_index()\n",
    "train = train.set_index('session_id')\n"
   ]
  },
  {
   "cell_type": "markdown",
   "id": "3a61ce58",
   "metadata": {
    "papermill": {
     "duration": 0.006248,
     "end_time": "2023-02-17T16:03:14.757586",
     "exception": false,
     "start_time": "2023-02-17T16:03:14.751338",
     "status": "completed"
    },
    "tags": []
   },
   "source": [
    "You can also use grid search and Bayesian optimization methods"
   ]
  },
  {
   "cell_type": "code",
   "execution_count": 26,
   "id": "3850d9c0",
   "metadata": {
    "execution": {
     "iopub.execute_input": "2023-02-17T16:03:14.772598Z",
     "iopub.status.busy": "2023-02-17T16:03:14.771860Z",
     "iopub.status.idle": "2023-02-17T16:40:29.655229Z",
     "shell.execute_reply": "2023-02-17T16:40:29.653950Z"
    },
    "papermill": {
     "duration": 2234.894611,
     "end_time": "2023-02-17T16:40:29.658639",
     "exception": false,
     "start_time": "2023-02-17T16:03:14.764028",
     "status": "completed"
    },
    "tags": []
   },
   "outputs": [
    {
     "name": "stdout",
     "output_type": "stream",
     "text": [
      "#####\n",
      "### Fold 1\n",
      "#########################\n"
     ]
    },
    {
     "name": "stderr",
     "output_type": "stream",
     "text": [
      "/Users/minholee/.pyenv/versions/3.9.4/lib/python3.9/site-packages/xgboost/sklearn.py:1395: UserWarning: `use_label_encoder` is deprecated in 1.7.0.\n",
      "  warnings.warn(\"`use_label_encoder` is deprecated in 1.7.0.\")\n"
     ]
    },
    {
     "name": "stdout",
     "output_type": "stream",
     "text": [
      "1(1493), "
     ]
    },
    {
     "name": "stderr",
     "output_type": "stream",
     "text": [
      "/Users/minholee/.pyenv/versions/3.9.4/lib/python3.9/site-packages/xgboost/sklearn.py:1395: UserWarning: `use_label_encoder` is deprecated in 1.7.0.\n",
      "  warnings.warn(\"`use_label_encoder` is deprecated in 1.7.0.\")\n"
     ]
    },
    {
     "name": "stdout",
     "output_type": "stream",
     "text": [
      "2(1352), "
     ]
    },
    {
     "name": "stderr",
     "output_type": "stream",
     "text": [
      "/Users/minholee/.pyenv/versions/3.9.4/lib/python3.9/site-packages/xgboost/sklearn.py:1395: UserWarning: `use_label_encoder` is deprecated in 1.7.0.\n",
      "  warnings.warn(\"`use_label_encoder` is deprecated in 1.7.0.\")\n"
     ]
    },
    {
     "name": "stdout",
     "output_type": "stream",
     "text": [
      "3(1025), "
     ]
    },
    {
     "name": "stderr",
     "output_type": "stream",
     "text": [
      "/Users/minholee/.pyenv/versions/3.9.4/lib/python3.9/site-packages/xgboost/sklearn.py:1395: UserWarning: `use_label_encoder` is deprecated in 1.7.0.\n",
      "  warnings.warn(\"`use_label_encoder` is deprecated in 1.7.0.\")\n"
     ]
    },
    {
     "name": "stdout",
     "output_type": "stream",
     "text": [
      "4(1497), "
     ]
    },
    {
     "name": "stderr",
     "output_type": "stream",
     "text": [
      "/Users/minholee/.pyenv/versions/3.9.4/lib/python3.9/site-packages/xgboost/sklearn.py:1395: UserWarning: `use_label_encoder` is deprecated in 1.7.0.\n",
      "  warnings.warn(\"`use_label_encoder` is deprecated in 1.7.0.\")\n"
     ]
    },
    {
     "name": "stdout",
     "output_type": "stream",
     "text": [
      "5(821), "
     ]
    },
    {
     "name": "stderr",
     "output_type": "stream",
     "text": [
      "/Users/minholee/.pyenv/versions/3.9.4/lib/python3.9/site-packages/xgboost/sklearn.py:1395: UserWarning: `use_label_encoder` is deprecated in 1.7.0.\n",
      "  warnings.warn(\"`use_label_encoder` is deprecated in 1.7.0.\")\n"
     ]
    },
    {
     "name": "stdout",
     "output_type": "stream",
     "text": [
      "6(949), "
     ]
    },
    {
     "name": "stderr",
     "output_type": "stream",
     "text": [
      "/Users/minholee/.pyenv/versions/3.9.4/lib/python3.9/site-packages/xgboost/sklearn.py:1395: UserWarning: `use_label_encoder` is deprecated in 1.7.0.\n",
      "  warnings.warn(\"`use_label_encoder` is deprecated in 1.7.0.\")\n"
     ]
    },
    {
     "name": "stdout",
     "output_type": "stream",
     "text": [
      "7(1444), "
     ]
    },
    {
     "name": "stderr",
     "output_type": "stream",
     "text": [
      "/Users/minholee/.pyenv/versions/3.9.4/lib/python3.9/site-packages/xgboost/sklearn.py:1395: UserWarning: `use_label_encoder` is deprecated in 1.7.0.\n",
      "  warnings.warn(\"`use_label_encoder` is deprecated in 1.7.0.\")\n"
     ]
    },
    {
     "name": "stdout",
     "output_type": "stream",
     "text": [
      "8(904), "
     ]
    },
    {
     "name": "stderr",
     "output_type": "stream",
     "text": [
      "/Users/minholee/.pyenv/versions/3.9.4/lib/python3.9/site-packages/xgboost/sklearn.py:1395: UserWarning: `use_label_encoder` is deprecated in 1.7.0.\n",
      "  warnings.warn(\"`use_label_encoder` is deprecated in 1.7.0.\")\n"
     ]
    },
    {
     "name": "stdout",
     "output_type": "stream",
     "text": [
      "9(804), "
     ]
    },
    {
     "name": "stderr",
     "output_type": "stream",
     "text": [
      "/Users/minholee/.pyenv/versions/3.9.4/lib/python3.9/site-packages/xgboost/sklearn.py:1395: UserWarning: `use_label_encoder` is deprecated in 1.7.0.\n",
      "  warnings.warn(\"`use_label_encoder` is deprecated in 1.7.0.\")\n"
     ]
    },
    {
     "name": "stdout",
     "output_type": "stream",
     "text": [
      "10(1404), "
     ]
    },
    {
     "name": "stderr",
     "output_type": "stream",
     "text": [
      "/Users/minholee/.pyenv/versions/3.9.4/lib/python3.9/site-packages/xgboost/sklearn.py:1395: UserWarning: `use_label_encoder` is deprecated in 1.7.0.\n",
      "  warnings.warn(\"`use_label_encoder` is deprecated in 1.7.0.\")\n"
     ]
    },
    {
     "name": "stdout",
     "output_type": "stream",
     "text": [
      "11(931), "
     ]
    },
    {
     "name": "stderr",
     "output_type": "stream",
     "text": [
      "/Users/minholee/.pyenv/versions/3.9.4/lib/python3.9/site-packages/xgboost/sklearn.py:1395: UserWarning: `use_label_encoder` is deprecated in 1.7.0.\n",
      "  warnings.warn(\"`use_label_encoder` is deprecated in 1.7.0.\")\n"
     ]
    },
    {
     "name": "stdout",
     "output_type": "stream",
     "text": [
      "12(825), "
     ]
    },
    {
     "name": "stderr",
     "output_type": "stream",
     "text": [
      "/Users/minholee/.pyenv/versions/3.9.4/lib/python3.9/site-packages/xgboost/sklearn.py:1395: UserWarning: `use_label_encoder` is deprecated in 1.7.0.\n",
      "  warnings.warn(\"`use_label_encoder` is deprecated in 1.7.0.\")\n"
     ]
    },
    {
     "name": "stdout",
     "output_type": "stream",
     "text": [
      "13(1134), "
     ]
    },
    {
     "name": "stderr",
     "output_type": "stream",
     "text": [
      "/Users/minholee/.pyenv/versions/3.9.4/lib/python3.9/site-packages/xgboost/sklearn.py:1395: UserWarning: `use_label_encoder` is deprecated in 1.7.0.\n",
      "  warnings.warn(\"`use_label_encoder` is deprecated in 1.7.0.\")\n"
     ]
    },
    {
     "name": "stdout",
     "output_type": "stream",
     "text": [
      "14(1380), "
     ]
    },
    {
     "name": "stderr",
     "output_type": "stream",
     "text": [
      "/Users/minholee/.pyenv/versions/3.9.4/lib/python3.9/site-packages/xgboost/sklearn.py:1395: UserWarning: `use_label_encoder` is deprecated in 1.7.0.\n",
      "  warnings.warn(\"`use_label_encoder` is deprecated in 1.7.0.\")\n"
     ]
    },
    {
     "name": "stdout",
     "output_type": "stream",
     "text": [
      "15(1390), "
     ]
    },
    {
     "name": "stderr",
     "output_type": "stream",
     "text": [
      "/Users/minholee/.pyenv/versions/3.9.4/lib/python3.9/site-packages/xgboost/sklearn.py:1395: UserWarning: `use_label_encoder` is deprecated in 1.7.0.\n",
      "  warnings.warn(\"`use_label_encoder` is deprecated in 1.7.0.\")\n"
     ]
    },
    {
     "name": "stdout",
     "output_type": "stream",
     "text": [
      "16(944), "
     ]
    },
    {
     "name": "stderr",
     "output_type": "stream",
     "text": [
      "/Users/minholee/.pyenv/versions/3.9.4/lib/python3.9/site-packages/xgboost/sklearn.py:1395: UserWarning: `use_label_encoder` is deprecated in 1.7.0.\n",
      "  warnings.warn(\"`use_label_encoder` is deprecated in 1.7.0.\")\n"
     ]
    },
    {
     "name": "stdout",
     "output_type": "stream",
     "text": [
      "17(757), "
     ]
    },
    {
     "name": "stderr",
     "output_type": "stream",
     "text": [
      "/Users/minholee/.pyenv/versions/3.9.4/lib/python3.9/site-packages/xgboost/sklearn.py:1395: UserWarning: `use_label_encoder` is deprecated in 1.7.0.\n",
      "  warnings.warn(\"`use_label_encoder` is deprecated in 1.7.0.\")\n"
     ]
    },
    {
     "name": "stdout",
     "output_type": "stream",
     "text": [
      "18(1261), \n",
      "#####\n",
      "### Fold 2\n",
      "#########################\n"
     ]
    },
    {
     "name": "stderr",
     "output_type": "stream",
     "text": [
      "/Users/minholee/.pyenv/versions/3.9.4/lib/python3.9/site-packages/xgboost/sklearn.py:1395: UserWarning: `use_label_encoder` is deprecated in 1.7.0.\n",
      "  warnings.warn(\"`use_label_encoder` is deprecated in 1.7.0.\")\n"
     ]
    },
    {
     "name": "stdout",
     "output_type": "stream",
     "text": [
      "1(1497), "
     ]
    },
    {
     "name": "stderr",
     "output_type": "stream",
     "text": [
      "/Users/minholee/.pyenv/versions/3.9.4/lib/python3.9/site-packages/xgboost/sklearn.py:1395: UserWarning: `use_label_encoder` is deprecated in 1.7.0.\n",
      "  warnings.warn(\"`use_label_encoder` is deprecated in 1.7.0.\")\n"
     ]
    },
    {
     "name": "stdout",
     "output_type": "stream",
     "text": [
      "2(1017), "
     ]
    },
    {
     "name": "stderr",
     "output_type": "stream",
     "text": [
      "/Users/minholee/.pyenv/versions/3.9.4/lib/python3.9/site-packages/xgboost/sklearn.py:1395: UserWarning: `use_label_encoder` is deprecated in 1.7.0.\n",
      "  warnings.warn(\"`use_label_encoder` is deprecated in 1.7.0.\")\n"
     ]
    },
    {
     "name": "stdout",
     "output_type": "stream",
     "text": [
      "3(1496), "
     ]
    },
    {
     "name": "stderr",
     "output_type": "stream",
     "text": [
      "/Users/minholee/.pyenv/versions/3.9.4/lib/python3.9/site-packages/xgboost/sklearn.py:1395: UserWarning: `use_label_encoder` is deprecated in 1.7.0.\n",
      "  warnings.warn(\"`use_label_encoder` is deprecated in 1.7.0.\")\n"
     ]
    },
    {
     "name": "stdout",
     "output_type": "stream",
     "text": [
      "4(1340), "
     ]
    },
    {
     "name": "stderr",
     "output_type": "stream",
     "text": [
      "/Users/minholee/.pyenv/versions/3.9.4/lib/python3.9/site-packages/xgboost/sklearn.py:1395: UserWarning: `use_label_encoder` is deprecated in 1.7.0.\n",
      "  warnings.warn(\"`use_label_encoder` is deprecated in 1.7.0.\")\n"
     ]
    },
    {
     "name": "stdout",
     "output_type": "stream",
     "text": [
      "5(941), "
     ]
    },
    {
     "name": "stderr",
     "output_type": "stream",
     "text": [
      "/Users/minholee/.pyenv/versions/3.9.4/lib/python3.9/site-packages/xgboost/sklearn.py:1395: UserWarning: `use_label_encoder` is deprecated in 1.7.0.\n",
      "  warnings.warn(\"`use_label_encoder` is deprecated in 1.7.0.\")\n"
     ]
    },
    {
     "name": "stdout",
     "output_type": "stream",
     "text": [
      "6(1067), "
     ]
    },
    {
     "name": "stderr",
     "output_type": "stream",
     "text": [
      "/Users/minholee/.pyenv/versions/3.9.4/lib/python3.9/site-packages/xgboost/sklearn.py:1395: UserWarning: `use_label_encoder` is deprecated in 1.7.0.\n",
      "  warnings.warn(\"`use_label_encoder` is deprecated in 1.7.0.\")\n"
     ]
    },
    {
     "name": "stdout",
     "output_type": "stream",
     "text": [
      "7(1156), "
     ]
    },
    {
     "name": "stderr",
     "output_type": "stream",
     "text": [
      "/Users/minholee/.pyenv/versions/3.9.4/lib/python3.9/site-packages/xgboost/sklearn.py:1395: UserWarning: `use_label_encoder` is deprecated in 1.7.0.\n",
      "  warnings.warn(\"`use_label_encoder` is deprecated in 1.7.0.\")\n"
     ]
    },
    {
     "name": "stdout",
     "output_type": "stream",
     "text": [
      "8(595), "
     ]
    },
    {
     "name": "stderr",
     "output_type": "stream",
     "text": [
      "/Users/minholee/.pyenv/versions/3.9.4/lib/python3.9/site-packages/xgboost/sklearn.py:1395: UserWarning: `use_label_encoder` is deprecated in 1.7.0.\n",
      "  warnings.warn(\"`use_label_encoder` is deprecated in 1.7.0.\")\n"
     ]
    },
    {
     "name": "stdout",
     "output_type": "stream",
     "text": [
      "9(1067), "
     ]
    },
    {
     "name": "stderr",
     "output_type": "stream",
     "text": [
      "/Users/minholee/.pyenv/versions/3.9.4/lib/python3.9/site-packages/xgboost/sklearn.py:1395: UserWarning: `use_label_encoder` is deprecated in 1.7.0.\n",
      "  warnings.warn(\"`use_label_encoder` is deprecated in 1.7.0.\")\n"
     ]
    },
    {
     "name": "stdout",
     "output_type": "stream",
     "text": [
      "10(1022), "
     ]
    },
    {
     "name": "stderr",
     "output_type": "stream",
     "text": [
      "/Users/minholee/.pyenv/versions/3.9.4/lib/python3.9/site-packages/xgboost/sklearn.py:1395: UserWarning: `use_label_encoder` is deprecated in 1.7.0.\n",
      "  warnings.warn(\"`use_label_encoder` is deprecated in 1.7.0.\")\n"
     ]
    },
    {
     "name": "stdout",
     "output_type": "stream",
     "text": [
      "11(676), "
     ]
    },
    {
     "name": "stderr",
     "output_type": "stream",
     "text": [
      "/Users/minholee/.pyenv/versions/3.9.4/lib/python3.9/site-packages/xgboost/sklearn.py:1395: UserWarning: `use_label_encoder` is deprecated in 1.7.0.\n",
      "  warnings.warn(\"`use_label_encoder` is deprecated in 1.7.0.\")\n"
     ]
    },
    {
     "name": "stdout",
     "output_type": "stream",
     "text": [
      "12(726), "
     ]
    },
    {
     "name": "stderr",
     "output_type": "stream",
     "text": [
      "/Users/minholee/.pyenv/versions/3.9.4/lib/python3.9/site-packages/xgboost/sklearn.py:1395: UserWarning: `use_label_encoder` is deprecated in 1.7.0.\n",
      "  warnings.warn(\"`use_label_encoder` is deprecated in 1.7.0.\")\n"
     ]
    },
    {
     "name": "stdout",
     "output_type": "stream",
     "text": [
      "13(957), "
     ]
    },
    {
     "name": "stderr",
     "output_type": "stream",
     "text": [
      "/Users/minholee/.pyenv/versions/3.9.4/lib/python3.9/site-packages/xgboost/sklearn.py:1395: UserWarning: `use_label_encoder` is deprecated in 1.7.0.\n",
      "  warnings.warn(\"`use_label_encoder` is deprecated in 1.7.0.\")\n"
     ]
    },
    {
     "name": "stdout",
     "output_type": "stream",
     "text": [
      "14(1084), "
     ]
    },
    {
     "name": "stderr",
     "output_type": "stream",
     "text": [
      "/Users/minholee/.pyenv/versions/3.9.4/lib/python3.9/site-packages/xgboost/sklearn.py:1395: UserWarning: `use_label_encoder` is deprecated in 1.7.0.\n",
      "  warnings.warn(\"`use_label_encoder` is deprecated in 1.7.0.\")\n"
     ]
    },
    {
     "name": "stdout",
     "output_type": "stream",
     "text": [
      "15(1210), "
     ]
    },
    {
     "name": "stderr",
     "output_type": "stream",
     "text": [
      "/Users/minholee/.pyenv/versions/3.9.4/lib/python3.9/site-packages/xgboost/sklearn.py:1395: UserWarning: `use_label_encoder` is deprecated in 1.7.0.\n",
      "  warnings.warn(\"`use_label_encoder` is deprecated in 1.7.0.\")\n"
     ]
    },
    {
     "name": "stdout",
     "output_type": "stream",
     "text": [
      "16(694), "
     ]
    },
    {
     "name": "stderr",
     "output_type": "stream",
     "text": [
      "/Users/minholee/.pyenv/versions/3.9.4/lib/python3.9/site-packages/xgboost/sklearn.py:1395: UserWarning: `use_label_encoder` is deprecated in 1.7.0.\n",
      "  warnings.warn(\"`use_label_encoder` is deprecated in 1.7.0.\")\n"
     ]
    },
    {
     "name": "stdout",
     "output_type": "stream",
     "text": [
      "17(440), "
     ]
    },
    {
     "name": "stderr",
     "output_type": "stream",
     "text": [
      "/Users/minholee/.pyenv/versions/3.9.4/lib/python3.9/site-packages/xgboost/sklearn.py:1395: UserWarning: `use_label_encoder` is deprecated in 1.7.0.\n",
      "  warnings.warn(\"`use_label_encoder` is deprecated in 1.7.0.\")\n"
     ]
    },
    {
     "name": "stdout",
     "output_type": "stream",
     "text": [
      "18(1034), \n",
      "#####\n",
      "### Fold 3\n",
      "#########################\n"
     ]
    },
    {
     "name": "stderr",
     "output_type": "stream",
     "text": [
      "/Users/minholee/.pyenv/versions/3.9.4/lib/python3.9/site-packages/xgboost/sklearn.py:1395: UserWarning: `use_label_encoder` is deprecated in 1.7.0.\n",
      "  warnings.warn(\"`use_label_encoder` is deprecated in 1.7.0.\")\n"
     ]
    },
    {
     "name": "stdout",
     "output_type": "stream",
     "text": [
      "1(1497), "
     ]
    },
    {
     "name": "stderr",
     "output_type": "stream",
     "text": [
      "/Users/minholee/.pyenv/versions/3.9.4/lib/python3.9/site-packages/xgboost/sklearn.py:1395: UserWarning: `use_label_encoder` is deprecated in 1.7.0.\n",
      "  warnings.warn(\"`use_label_encoder` is deprecated in 1.7.0.\")\n"
     ]
    },
    {
     "name": "stdout",
     "output_type": "stream",
     "text": [
      "2(1220), "
     ]
    },
    {
     "name": "stderr",
     "output_type": "stream",
     "text": [
      "/Users/minholee/.pyenv/versions/3.9.4/lib/python3.9/site-packages/xgboost/sklearn.py:1395: UserWarning: `use_label_encoder` is deprecated in 1.7.0.\n",
      "  warnings.warn(\"`use_label_encoder` is deprecated in 1.7.0.\")\n"
     ]
    },
    {
     "name": "stdout",
     "output_type": "stream",
     "text": [
      "3(1489), "
     ]
    },
    {
     "name": "stderr",
     "output_type": "stream",
     "text": [
      "/Users/minholee/.pyenv/versions/3.9.4/lib/python3.9/site-packages/xgboost/sklearn.py:1395: UserWarning: `use_label_encoder` is deprecated in 1.7.0.\n",
      "  warnings.warn(\"`use_label_encoder` is deprecated in 1.7.0.\")\n"
     ]
    },
    {
     "name": "stdout",
     "output_type": "stream",
     "text": [
      "4(871), "
     ]
    },
    {
     "name": "stderr",
     "output_type": "stream",
     "text": [
      "/Users/minholee/.pyenv/versions/3.9.4/lib/python3.9/site-packages/xgboost/sklearn.py:1395: UserWarning: `use_label_encoder` is deprecated in 1.7.0.\n",
      "  warnings.warn(\"`use_label_encoder` is deprecated in 1.7.0.\")\n"
     ]
    },
    {
     "name": "stdout",
     "output_type": "stream",
     "text": [
      "5(687), "
     ]
    },
    {
     "name": "stderr",
     "output_type": "stream",
     "text": [
      "/Users/minholee/.pyenv/versions/3.9.4/lib/python3.9/site-packages/xgboost/sklearn.py:1395: UserWarning: `use_label_encoder` is deprecated in 1.7.0.\n",
      "  warnings.warn(\"`use_label_encoder` is deprecated in 1.7.0.\")\n"
     ]
    },
    {
     "name": "stdout",
     "output_type": "stream",
     "text": [
      "6(627), "
     ]
    },
    {
     "name": "stderr",
     "output_type": "stream",
     "text": [
      "/Users/minholee/.pyenv/versions/3.9.4/lib/python3.9/site-packages/xgboost/sklearn.py:1395: UserWarning: `use_label_encoder` is deprecated in 1.7.0.\n",
      "  warnings.warn(\"`use_label_encoder` is deprecated in 1.7.0.\")\n"
     ]
    },
    {
     "name": "stdout",
     "output_type": "stream",
     "text": [
      "7(1222), "
     ]
    },
    {
     "name": "stderr",
     "output_type": "stream",
     "text": [
      "/Users/minholee/.pyenv/versions/3.9.4/lib/python3.9/site-packages/xgboost/sklearn.py:1395: UserWarning: `use_label_encoder` is deprecated in 1.7.0.\n",
      "  warnings.warn(\"`use_label_encoder` is deprecated in 1.7.0.\")\n"
     ]
    },
    {
     "name": "stdout",
     "output_type": "stream",
     "text": [
      "8(718), "
     ]
    },
    {
     "name": "stderr",
     "output_type": "stream",
     "text": [
      "/Users/minholee/.pyenv/versions/3.9.4/lib/python3.9/site-packages/xgboost/sklearn.py:1395: UserWarning: `use_label_encoder` is deprecated in 1.7.0.\n",
      "  warnings.warn(\"`use_label_encoder` is deprecated in 1.7.0.\")\n"
     ]
    },
    {
     "name": "stdout",
     "output_type": "stream",
     "text": [
      "9(1304), "
     ]
    },
    {
     "name": "stderr",
     "output_type": "stream",
     "text": [
      "/Users/minholee/.pyenv/versions/3.9.4/lib/python3.9/site-packages/xgboost/sklearn.py:1395: UserWarning: `use_label_encoder` is deprecated in 1.7.0.\n",
      "  warnings.warn(\"`use_label_encoder` is deprecated in 1.7.0.\")\n"
     ]
    },
    {
     "name": "stdout",
     "output_type": "stream",
     "text": [
      "10(846), "
     ]
    },
    {
     "name": "stderr",
     "output_type": "stream",
     "text": [
      "/Users/minholee/.pyenv/versions/3.9.4/lib/python3.9/site-packages/xgboost/sklearn.py:1395: UserWarning: `use_label_encoder` is deprecated in 1.7.0.\n",
      "  warnings.warn(\"`use_label_encoder` is deprecated in 1.7.0.\")\n"
     ]
    },
    {
     "name": "stdout",
     "output_type": "stream",
     "text": [
      "11(707), "
     ]
    },
    {
     "name": "stderr",
     "output_type": "stream",
     "text": [
      "/Users/minholee/.pyenv/versions/3.9.4/lib/python3.9/site-packages/xgboost/sklearn.py:1395: UserWarning: `use_label_encoder` is deprecated in 1.7.0.\n",
      "  warnings.warn(\"`use_label_encoder` is deprecated in 1.7.0.\")\n"
     ]
    },
    {
     "name": "stdout",
     "output_type": "stream",
     "text": [
      "12(857), "
     ]
    },
    {
     "name": "stderr",
     "output_type": "stream",
     "text": [
      "/Users/minholee/.pyenv/versions/3.9.4/lib/python3.9/site-packages/xgboost/sklearn.py:1395: UserWarning: `use_label_encoder` is deprecated in 1.7.0.\n",
      "  warnings.warn(\"`use_label_encoder` is deprecated in 1.7.0.\")\n"
     ]
    },
    {
     "name": "stdout",
     "output_type": "stream",
     "text": [
      "13(1083), "
     ]
    },
    {
     "name": "stderr",
     "output_type": "stream",
     "text": [
      "/Users/minholee/.pyenv/versions/3.9.4/lib/python3.9/site-packages/xgboost/sklearn.py:1395: UserWarning: `use_label_encoder` is deprecated in 1.7.0.\n",
      "  warnings.warn(\"`use_label_encoder` is deprecated in 1.7.0.\")\n"
     ]
    },
    {
     "name": "stdout",
     "output_type": "stream",
     "text": [
      "14(1352), "
     ]
    },
    {
     "name": "stderr",
     "output_type": "stream",
     "text": [
      "/Users/minholee/.pyenv/versions/3.9.4/lib/python3.9/site-packages/xgboost/sklearn.py:1395: UserWarning: `use_label_encoder` is deprecated in 1.7.0.\n",
      "  warnings.warn(\"`use_label_encoder` is deprecated in 1.7.0.\")\n"
     ]
    },
    {
     "name": "stdout",
     "output_type": "stream",
     "text": [
      "15(1333), "
     ]
    },
    {
     "name": "stderr",
     "output_type": "stream",
     "text": [
      "/Users/minholee/.pyenv/versions/3.9.4/lib/python3.9/site-packages/xgboost/sklearn.py:1395: UserWarning: `use_label_encoder` is deprecated in 1.7.0.\n",
      "  warnings.warn(\"`use_label_encoder` is deprecated in 1.7.0.\")\n"
     ]
    },
    {
     "name": "stdout",
     "output_type": "stream",
     "text": [
      "16(1088), "
     ]
    },
    {
     "name": "stderr",
     "output_type": "stream",
     "text": [
      "/Users/minholee/.pyenv/versions/3.9.4/lib/python3.9/site-packages/xgboost/sklearn.py:1395: UserWarning: `use_label_encoder` is deprecated in 1.7.0.\n",
      "  warnings.warn(\"`use_label_encoder` is deprecated in 1.7.0.\")\n"
     ]
    },
    {
     "name": "stdout",
     "output_type": "stream",
     "text": [
      "17(724), "
     ]
    },
    {
     "name": "stderr",
     "output_type": "stream",
     "text": [
      "/Users/minholee/.pyenv/versions/3.9.4/lib/python3.9/site-packages/xgboost/sklearn.py:1395: UserWarning: `use_label_encoder` is deprecated in 1.7.0.\n",
      "  warnings.warn(\"`use_label_encoder` is deprecated in 1.7.0.\")\n"
     ]
    },
    {
     "name": "stdout",
     "output_type": "stream",
     "text": [
      "18(1184), \n",
      "#####\n",
      "### Fold 4\n",
      "#########################\n"
     ]
    },
    {
     "name": "stderr",
     "output_type": "stream",
     "text": [
      "/Users/minholee/.pyenv/versions/3.9.4/lib/python3.9/site-packages/xgboost/sklearn.py:1395: UserWarning: `use_label_encoder` is deprecated in 1.7.0.\n",
      "  warnings.warn(\"`use_label_encoder` is deprecated in 1.7.0.\")\n"
     ]
    },
    {
     "name": "stdout",
     "output_type": "stream",
     "text": [
      "1(1500), "
     ]
    },
    {
     "name": "stderr",
     "output_type": "stream",
     "text": [
      "/Users/minholee/.pyenv/versions/3.9.4/lib/python3.9/site-packages/xgboost/sklearn.py:1395: UserWarning: `use_label_encoder` is deprecated in 1.7.0.\n",
      "  warnings.warn(\"`use_label_encoder` is deprecated in 1.7.0.\")\n"
     ]
    },
    {
     "name": "stdout",
     "output_type": "stream",
     "text": [
      "2(1185), "
     ]
    },
    {
     "name": "stderr",
     "output_type": "stream",
     "text": [
      "/Users/minholee/.pyenv/versions/3.9.4/lib/python3.9/site-packages/xgboost/sklearn.py:1395: UserWarning: `use_label_encoder` is deprecated in 1.7.0.\n",
      "  warnings.warn(\"`use_label_encoder` is deprecated in 1.7.0.\")\n"
     ]
    },
    {
     "name": "stdout",
     "output_type": "stream",
     "text": [
      "3(924), "
     ]
    },
    {
     "name": "stderr",
     "output_type": "stream",
     "text": [
      "/Users/minholee/.pyenv/versions/3.9.4/lib/python3.9/site-packages/xgboost/sklearn.py:1395: UserWarning: `use_label_encoder` is deprecated in 1.7.0.\n",
      "  warnings.warn(\"`use_label_encoder` is deprecated in 1.7.0.\")\n"
     ]
    },
    {
     "name": "stdout",
     "output_type": "stream",
     "text": [
      "4(998), "
     ]
    },
    {
     "name": "stderr",
     "output_type": "stream",
     "text": [
      "/Users/minholee/.pyenv/versions/3.9.4/lib/python3.9/site-packages/xgboost/sklearn.py:1395: UserWarning: `use_label_encoder` is deprecated in 1.7.0.\n",
      "  warnings.warn(\"`use_label_encoder` is deprecated in 1.7.0.\")\n"
     ]
    },
    {
     "name": "stdout",
     "output_type": "stream",
     "text": [
      "5(1219), "
     ]
    },
    {
     "name": "stderr",
     "output_type": "stream",
     "text": [
      "/Users/minholee/.pyenv/versions/3.9.4/lib/python3.9/site-packages/xgboost/sklearn.py:1395: UserWarning: `use_label_encoder` is deprecated in 1.7.0.\n",
      "  warnings.warn(\"`use_label_encoder` is deprecated in 1.7.0.\")\n"
     ]
    },
    {
     "name": "stdout",
     "output_type": "stream",
     "text": [
      "6(1079), "
     ]
    },
    {
     "name": "stderr",
     "output_type": "stream",
     "text": [
      "/Users/minholee/.pyenv/versions/3.9.4/lib/python3.9/site-packages/xgboost/sklearn.py:1395: UserWarning: `use_label_encoder` is deprecated in 1.7.0.\n",
      "  warnings.warn(\"`use_label_encoder` is deprecated in 1.7.0.\")\n"
     ]
    },
    {
     "name": "stdout",
     "output_type": "stream",
     "text": [
      "7(858), "
     ]
    },
    {
     "name": "stderr",
     "output_type": "stream",
     "text": [
      "/Users/minholee/.pyenv/versions/3.9.4/lib/python3.9/site-packages/xgboost/sklearn.py:1395: UserWarning: `use_label_encoder` is deprecated in 1.7.0.\n",
      "  warnings.warn(\"`use_label_encoder` is deprecated in 1.7.0.\")\n"
     ]
    },
    {
     "name": "stdout",
     "output_type": "stream",
     "text": [
      "8(405), "
     ]
    },
    {
     "name": "stderr",
     "output_type": "stream",
     "text": [
      "/Users/minholee/.pyenv/versions/3.9.4/lib/python3.9/site-packages/xgboost/sklearn.py:1395: UserWarning: `use_label_encoder` is deprecated in 1.7.0.\n",
      "  warnings.warn(\"`use_label_encoder` is deprecated in 1.7.0.\")\n"
     ]
    },
    {
     "name": "stdout",
     "output_type": "stream",
     "text": [
      "9(903), "
     ]
    },
    {
     "name": "stderr",
     "output_type": "stream",
     "text": [
      "/Users/minholee/.pyenv/versions/3.9.4/lib/python3.9/site-packages/xgboost/sklearn.py:1395: UserWarning: `use_label_encoder` is deprecated in 1.7.0.\n",
      "  warnings.warn(\"`use_label_encoder` is deprecated in 1.7.0.\")\n"
     ]
    },
    {
     "name": "stdout",
     "output_type": "stream",
     "text": [
      "10(831), "
     ]
    },
    {
     "name": "stderr",
     "output_type": "stream",
     "text": [
      "/Users/minholee/.pyenv/versions/3.9.4/lib/python3.9/site-packages/xgboost/sklearn.py:1395: UserWarning: `use_label_encoder` is deprecated in 1.7.0.\n",
      "  warnings.warn(\"`use_label_encoder` is deprecated in 1.7.0.\")\n"
     ]
    },
    {
     "name": "stdout",
     "output_type": "stream",
     "text": [
      "11(911), "
     ]
    },
    {
     "name": "stderr",
     "output_type": "stream",
     "text": [
      "/Users/minholee/.pyenv/versions/3.9.4/lib/python3.9/site-packages/xgboost/sklearn.py:1395: UserWarning: `use_label_encoder` is deprecated in 1.7.0.\n",
      "  warnings.warn(\"`use_label_encoder` is deprecated in 1.7.0.\")\n"
     ]
    },
    {
     "name": "stdout",
     "output_type": "stream",
     "text": [
      "12(1038), "
     ]
    },
    {
     "name": "stderr",
     "output_type": "stream",
     "text": [
      "/Users/minholee/.pyenv/versions/3.9.4/lib/python3.9/site-packages/xgboost/sklearn.py:1395: UserWarning: `use_label_encoder` is deprecated in 1.7.0.\n",
      "  warnings.warn(\"`use_label_encoder` is deprecated in 1.7.0.\")\n"
     ]
    },
    {
     "name": "stdout",
     "output_type": "stream",
     "text": [
      "13(635), "
     ]
    },
    {
     "name": "stderr",
     "output_type": "stream",
     "text": [
      "/Users/minholee/.pyenv/versions/3.9.4/lib/python3.9/site-packages/xgboost/sklearn.py:1395: UserWarning: `use_label_encoder` is deprecated in 1.7.0.\n",
      "  warnings.warn(\"`use_label_encoder` is deprecated in 1.7.0.\")\n"
     ]
    },
    {
     "name": "stdout",
     "output_type": "stream",
     "text": [
      "14(1046), "
     ]
    },
    {
     "name": "stderr",
     "output_type": "stream",
     "text": [
      "/Users/minholee/.pyenv/versions/3.9.4/lib/python3.9/site-packages/xgboost/sklearn.py:1395: UserWarning: `use_label_encoder` is deprecated in 1.7.0.\n",
      "  warnings.warn(\"`use_label_encoder` is deprecated in 1.7.0.\")\n"
     ]
    },
    {
     "name": "stdout",
     "output_type": "stream",
     "text": [
      "15(1500), "
     ]
    },
    {
     "name": "stderr",
     "output_type": "stream",
     "text": [
      "/Users/minholee/.pyenv/versions/3.9.4/lib/python3.9/site-packages/xgboost/sklearn.py:1395: UserWarning: `use_label_encoder` is deprecated in 1.7.0.\n",
      "  warnings.warn(\"`use_label_encoder` is deprecated in 1.7.0.\")\n"
     ]
    },
    {
     "name": "stdout",
     "output_type": "stream",
     "text": [
      "16(599), "
     ]
    },
    {
     "name": "stderr",
     "output_type": "stream",
     "text": [
      "/Users/minholee/.pyenv/versions/3.9.4/lib/python3.9/site-packages/xgboost/sklearn.py:1395: UserWarning: `use_label_encoder` is deprecated in 1.7.0.\n",
      "  warnings.warn(\"`use_label_encoder` is deprecated in 1.7.0.\")\n"
     ]
    },
    {
     "name": "stdout",
     "output_type": "stream",
     "text": [
      "17(648), "
     ]
    },
    {
     "name": "stderr",
     "output_type": "stream",
     "text": [
      "/Users/minholee/.pyenv/versions/3.9.4/lib/python3.9/site-packages/xgboost/sklearn.py:1395: UserWarning: `use_label_encoder` is deprecated in 1.7.0.\n",
      "  warnings.warn(\"`use_label_encoder` is deprecated in 1.7.0.\")\n"
     ]
    },
    {
     "name": "stdout",
     "output_type": "stream",
     "text": [
      "18(1287), \n",
      "#####\n",
      "### Fold 5\n",
      "#########################\n"
     ]
    },
    {
     "name": "stderr",
     "output_type": "stream",
     "text": [
      "/Users/minholee/.pyenv/versions/3.9.4/lib/python3.9/site-packages/xgboost/sklearn.py:1395: UserWarning: `use_label_encoder` is deprecated in 1.7.0.\n",
      "  warnings.warn(\"`use_label_encoder` is deprecated in 1.7.0.\")\n"
     ]
    },
    {
     "name": "stdout",
     "output_type": "stream",
     "text": [
      "1(1270), "
     ]
    },
    {
     "name": "stderr",
     "output_type": "stream",
     "text": [
      "/Users/minholee/.pyenv/versions/3.9.4/lib/python3.9/site-packages/xgboost/sklearn.py:1395: UserWarning: `use_label_encoder` is deprecated in 1.7.0.\n",
      "  warnings.warn(\"`use_label_encoder` is deprecated in 1.7.0.\")\n"
     ]
    },
    {
     "name": "stdout",
     "output_type": "stream",
     "text": [
      "2(1192), "
     ]
    },
    {
     "name": "stderr",
     "output_type": "stream",
     "text": [
      "/Users/minholee/.pyenv/versions/3.9.4/lib/python3.9/site-packages/xgboost/sklearn.py:1395: UserWarning: `use_label_encoder` is deprecated in 1.7.0.\n",
      "  warnings.warn(\"`use_label_encoder` is deprecated in 1.7.0.\")\n"
     ]
    },
    {
     "name": "stdout",
     "output_type": "stream",
     "text": [
      "3(1216), "
     ]
    },
    {
     "name": "stderr",
     "output_type": "stream",
     "text": [
      "/Users/minholee/.pyenv/versions/3.9.4/lib/python3.9/site-packages/xgboost/sklearn.py:1395: UserWarning: `use_label_encoder` is deprecated in 1.7.0.\n",
      "  warnings.warn(\"`use_label_encoder` is deprecated in 1.7.0.\")\n"
     ]
    },
    {
     "name": "stdout",
     "output_type": "stream",
     "text": [
      "4(977), "
     ]
    },
    {
     "name": "stderr",
     "output_type": "stream",
     "text": [
      "/Users/minholee/.pyenv/versions/3.9.4/lib/python3.9/site-packages/xgboost/sklearn.py:1395: UserWarning: `use_label_encoder` is deprecated in 1.7.0.\n",
      "  warnings.warn(\"`use_label_encoder` is deprecated in 1.7.0.\")\n"
     ]
    },
    {
     "name": "stdout",
     "output_type": "stream",
     "text": [
      "5(559), "
     ]
    },
    {
     "name": "stderr",
     "output_type": "stream",
     "text": [
      "/Users/minholee/.pyenv/versions/3.9.4/lib/python3.9/site-packages/xgboost/sklearn.py:1395: UserWarning: `use_label_encoder` is deprecated in 1.7.0.\n",
      "  warnings.warn(\"`use_label_encoder` is deprecated in 1.7.0.\")\n"
     ]
    },
    {
     "name": "stdout",
     "output_type": "stream",
     "text": [
      "6(1131), "
     ]
    },
    {
     "name": "stderr",
     "output_type": "stream",
     "text": [
      "/Users/minholee/.pyenv/versions/3.9.4/lib/python3.9/site-packages/xgboost/sklearn.py:1395: UserWarning: `use_label_encoder` is deprecated in 1.7.0.\n",
      "  warnings.warn(\"`use_label_encoder` is deprecated in 1.7.0.\")\n"
     ]
    },
    {
     "name": "stdout",
     "output_type": "stream",
     "text": [
      "7(1226), "
     ]
    },
    {
     "name": "stderr",
     "output_type": "stream",
     "text": [
      "/Users/minholee/.pyenv/versions/3.9.4/lib/python3.9/site-packages/xgboost/sklearn.py:1395: UserWarning: `use_label_encoder` is deprecated in 1.7.0.\n",
      "  warnings.warn(\"`use_label_encoder` is deprecated in 1.7.0.\")\n"
     ]
    },
    {
     "name": "stdout",
     "output_type": "stream",
     "text": [
      "8(712), "
     ]
    },
    {
     "name": "stderr",
     "output_type": "stream",
     "text": [
      "/Users/minholee/.pyenv/versions/3.9.4/lib/python3.9/site-packages/xgboost/sklearn.py:1395: UserWarning: `use_label_encoder` is deprecated in 1.7.0.\n",
      "  warnings.warn(\"`use_label_encoder` is deprecated in 1.7.0.\")\n"
     ]
    },
    {
     "name": "stdout",
     "output_type": "stream",
     "text": [
      "9(1342), "
     ]
    },
    {
     "name": "stderr",
     "output_type": "stream",
     "text": [
      "/Users/minholee/.pyenv/versions/3.9.4/lib/python3.9/site-packages/xgboost/sklearn.py:1395: UserWarning: `use_label_encoder` is deprecated in 1.7.0.\n",
      "  warnings.warn(\"`use_label_encoder` is deprecated in 1.7.0.\")\n"
     ]
    },
    {
     "name": "stdout",
     "output_type": "stream",
     "text": [
      "10(599), "
     ]
    },
    {
     "name": "stderr",
     "output_type": "stream",
     "text": [
      "/Users/minholee/.pyenv/versions/3.9.4/lib/python3.9/site-packages/xgboost/sklearn.py:1395: UserWarning: `use_label_encoder` is deprecated in 1.7.0.\n",
      "  warnings.warn(\"`use_label_encoder` is deprecated in 1.7.0.\")\n"
     ]
    },
    {
     "name": "stdout",
     "output_type": "stream",
     "text": [
      "11(869), "
     ]
    },
    {
     "name": "stderr",
     "output_type": "stream",
     "text": [
      "/Users/minholee/.pyenv/versions/3.9.4/lib/python3.9/site-packages/xgboost/sklearn.py:1395: UserWarning: `use_label_encoder` is deprecated in 1.7.0.\n",
      "  warnings.warn(\"`use_label_encoder` is deprecated in 1.7.0.\")\n"
     ]
    },
    {
     "name": "stdout",
     "output_type": "stream",
     "text": [
      "12(826), "
     ]
    },
    {
     "name": "stderr",
     "output_type": "stream",
     "text": [
      "/Users/minholee/.pyenv/versions/3.9.4/lib/python3.9/site-packages/xgboost/sklearn.py:1395: UserWarning: `use_label_encoder` is deprecated in 1.7.0.\n",
      "  warnings.warn(\"`use_label_encoder` is deprecated in 1.7.0.\")\n"
     ]
    },
    {
     "name": "stdout",
     "output_type": "stream",
     "text": [
      "13(941), "
     ]
    },
    {
     "name": "stderr",
     "output_type": "stream",
     "text": [
      "/Users/minholee/.pyenv/versions/3.9.4/lib/python3.9/site-packages/xgboost/sklearn.py:1395: UserWarning: `use_label_encoder` is deprecated in 1.7.0.\n",
      "  warnings.warn(\"`use_label_encoder` is deprecated in 1.7.0.\")\n"
     ]
    },
    {
     "name": "stdout",
     "output_type": "stream",
     "text": [
      "14(1162), "
     ]
    },
    {
     "name": "stderr",
     "output_type": "stream",
     "text": [
      "/Users/minholee/.pyenv/versions/3.9.4/lib/python3.9/site-packages/xgboost/sklearn.py:1395: UserWarning: `use_label_encoder` is deprecated in 1.7.0.\n",
      "  warnings.warn(\"`use_label_encoder` is deprecated in 1.7.0.\")\n"
     ]
    },
    {
     "name": "stdout",
     "output_type": "stream",
     "text": [
      "15(1499), "
     ]
    },
    {
     "name": "stderr",
     "output_type": "stream",
     "text": [
      "/Users/minholee/.pyenv/versions/3.9.4/lib/python3.9/site-packages/xgboost/sklearn.py:1395: UserWarning: `use_label_encoder` is deprecated in 1.7.0.\n",
      "  warnings.warn(\"`use_label_encoder` is deprecated in 1.7.0.\")\n"
     ]
    },
    {
     "name": "stdout",
     "output_type": "stream",
     "text": [
      "16(659), "
     ]
    },
    {
     "name": "stderr",
     "output_type": "stream",
     "text": [
      "/Users/minholee/.pyenv/versions/3.9.4/lib/python3.9/site-packages/xgboost/sklearn.py:1395: UserWarning: `use_label_encoder` is deprecated in 1.7.0.\n",
      "  warnings.warn(\"`use_label_encoder` is deprecated in 1.7.0.\")\n"
     ]
    },
    {
     "name": "stdout",
     "output_type": "stream",
     "text": [
      "17(781), "
     ]
    },
    {
     "name": "stderr",
     "output_type": "stream",
     "text": [
      "/Users/minholee/.pyenv/versions/3.9.4/lib/python3.9/site-packages/xgboost/sklearn.py:1395: UserWarning: `use_label_encoder` is deprecated in 1.7.0.\n",
      "  warnings.warn(\"`use_label_encoder` is deprecated in 1.7.0.\")\n"
     ]
    },
    {
     "name": "stdout",
     "output_type": "stream",
     "text": [
      "18(768), \n"
     ]
    }
   ],
   "source": [
    "gkf = GroupKFold(n_splits=5)\n",
    "oof = pd.DataFrame(data=np.zeros((len(ALL_USERS),18)), index=ALL_USERS)\n",
    "models = {}\n",
    "\n",
    "# COMPUTE CV SCORE WITH 5 GROUP K FOLD\n",
    "for i, (train_index, test_index) in enumerate(gkf.split(X=train, groups=train.index)):\n",
    "    print('#'*5)\n",
    "    print('### Fold',i+1)\n",
    "    print('#'*25)\n",
    "    \n",
    "    xgb_params = {\n",
    "    'objective' : 'binary:logistic',\n",
    "    'eval_metric':'logloss',\n",
    "    'learning_rate': 0.005,\n",
    "    'max_depth': 4,\n",
    "    'n_estimators': 1500,\n",
    "    'early_stopping_rounds': 50,\n",
    "    'tree_method':'hist',\n",
    "    'subsample':0.8,\n",
    "    'colsample_bytree': 0.4,\n",
    "    }\n",
    "    \n",
    "    # ITERATE THRU QUESTIONS 1 THRU 18\n",
    "    for t in range(1,19):\n",
    "        \n",
    "        # USE THIS TRAIN DATA WITH THESE QUESTIONS\n",
    "        if t<=3: grp = '0-4'\n",
    "        elif t<=13: grp = '5-12'\n",
    "        elif t<=22: grp = '13-22'\n",
    "            \n",
    "        # TRAIN DATA\n",
    "        train_x = train.iloc[train_index]\n",
    "        train_x = train_x.loc[train_x.level_group == grp]\n",
    "        train_users = train_x.index.values\n",
    "        train_y = targets.loc[targets.q==t].set_index('session').loc[train_users]\n",
    "        \n",
    "        # VALID DATA\n",
    "        valid_x = train.iloc[test_index]\n",
    "        valid_x = valid_x.loc[valid_x.level_group == grp]\n",
    "        valid_users = valid_x.index.values\n",
    "        valid_y = targets.loc[targets.q==t].set_index('session').loc[valid_users]\n",
    "        \n",
    "        # TRAIN MODEL        \n",
    "        clf =  XGBClassifier(**xgb_params)\n",
    "        clf.fit(train_x[FEATURES].astype('float32'), train_y['correct'],\n",
    "                eval_set=[ (valid_x[FEATURES].astype('float32'), valid_y['correct']) ],\n",
    "                verbose=0)\n",
    "        print(f'{t}({clf.best_ntree_limit}), ',end='')\n",
    "        \n",
    "        # SAVE MODEL, PREDICT VALID OOF\n",
    "        models[f'{grp}_{t}'] = clf\n",
    "        oof.loc[valid_users, t-1] = clf.predict_proba(valid_x[FEATURES].astype('float32'))[:,1]\n",
    "        \n",
    "    print()"
   ]
  },
  {
   "cell_type": "markdown",
   "id": "1bdd3818",
   "metadata": {
    "papermill": {
     "duration": 0.026858,
     "end_time": "2023-02-17T16:40:29.713555",
     "exception": false,
     "start_time": "2023-02-17T16:40:29.686697",
     "status": "completed"
    },
    "tags": []
   },
   "source": [
    "# Compute CV Score\n",
    "We need to convert prediction probabilities into `1s` and `0s`. The competition metric is F1 Score which is the harmonic mean of precision and recall. Let's find the optimal threshold for `p > threshold` when to predict `1` and when to predict `0` to maximize F1 Score."
   ]
  },
  {
   "cell_type": "code",
   "execution_count": 27,
   "id": "22d28278",
   "metadata": {
    "execution": {
     "iopub.execute_input": "2023-02-17T16:40:29.771173Z",
     "iopub.status.busy": "2023-02-17T16:40:29.770734Z",
     "iopub.status.idle": "2023-02-17T16:40:29.847894Z",
     "shell.execute_reply": "2023-02-17T16:40:29.846887Z"
    },
    "papermill": {
     "duration": 0.108718,
     "end_time": "2023-02-17T16:40:29.850242",
     "exception": false,
     "start_time": "2023-02-17T16:40:29.741524",
     "status": "completed"
    },
    "tags": []
   },
   "outputs": [],
   "source": [
    "# PUT TRUE LABELS INTO DATAFRAME WITH 18 COLUMNS\n",
    "true = oof.copy()\n",
    "for k in range(18):\n",
    "    # GET TRUE LABELS\n",
    "    tmp = targets.loc[targets.q == k+1].set_index('session').loc[ALL_USERS]\n",
    "    true[k] = tmp.correct.values"
   ]
  },
  {
   "cell_type": "code",
   "execution_count": 28,
   "id": "de01cd7b",
   "metadata": {
    "execution": {
     "iopub.execute_input": "2023-02-17T16:40:29.908221Z",
     "iopub.status.busy": "2023-02-17T16:40:29.907234Z",
     "iopub.status.idle": "2023-02-17T16:40:33.827812Z",
     "shell.execute_reply": "2023-02-17T16:40:33.826653Z"
    },
    "papermill": {
     "duration": 3.952791,
     "end_time": "2023-02-17T16:40:33.830597",
     "exception": false,
     "start_time": "2023-02-17T16:40:29.877806",
     "status": "completed"
    },
    "tags": []
   },
   "outputs": [
    {
     "name": "stdout",
     "output_type": "stream",
     "text": [
      "0.40, 0.41, 0.42, 0.43, 0.44, 0.45, 0.46, 0.47, 0.48, 0.49, 0.50, 0.51, 0.52, 0.53, 0.54, 0.55, 0.56, 0.57, 0.58, 0.59, 0.60, 0.61, 0.62, 0.63, 0.64, 0.65, 0.66, 0.67, 0.68, 0.69, 0.70, 0.71, 0.72, 0.73, 0.74, 0.75, 0.76, 0.77, 0.78, 0.79, 0.80, "
     ]
    }
   ],
   "source": [
    "# FIND BEST THRESHOLD TO CONVERT PROBS INTO 1s AND 0s\n",
    "scores = []; thresholds = []\n",
    "best_score = 0; best_threshold = 0\n",
    "\n",
    "for threshold in np.arange(0.4,0.81,0.01):\n",
    "    print(f'{threshold:.02f}, ',end='')\n",
    "    preds = (oof.values.reshape((-1))>threshold).astype('int')\n",
    "    m = f1_score(true.values.reshape((-1)), preds, average='macro')   \n",
    "    scores.append(m)\n",
    "    thresholds.append(threshold)\n",
    "    if m>best_score:\n",
    "        best_score = m\n",
    "        best_threshold = threshold"
   ]
  },
  {
   "cell_type": "code",
   "execution_count": 29,
   "id": "5dd01851",
   "metadata": {
    "execution": {
     "iopub.execute_input": "2023-02-17T16:40:33.890509Z",
     "iopub.status.busy": "2023-02-17T16:40:33.889784Z",
     "iopub.status.idle": "2023-02-17T16:40:34.192463Z",
     "shell.execute_reply": "2023-02-17T16:40:34.191204Z"
    },
    "papermill": {
     "duration": 0.335778,
     "end_time": "2023-02-17T16:40:34.195488",
     "exception": false,
     "start_time": "2023-02-17T16:40:33.859710",
     "status": "completed"
    },
    "tags": []
   },
   "outputs": [
    {
     "data": {
      "image/png": "[encoded data removed]",
      "text/plain": [
       "<Figure size 2000x500 with 1 Axes>"
      ]
     },
     "metadata": {},
     "output_type": "display_data"
    }
   ],
   "source": [
    "import matplotlib.pyplot as plt\n",
    "\n",
    "# PLOT THRESHOLD VS. F1_SCORE\n",
    "plt.figure(figsize=(20,5))\n",
    "plt.plot(thresholds,scores,'-o',color='blue')\n",
    "plt.scatter([best_threshold], [best_score], color='blue', s=300, alpha=1)\n",
    "plt.xlabel('Threshold',size=14)\n",
    "plt.ylabel('Validation F1 Score',size=14)\n",
    "plt.title(f'Threshold vs. F1_Score with Best F1_Score = {best_score:.3f} at Best Threshold = {best_threshold:.3}',size=18)\n",
    "plt.show()"
   ]
  },
  {
   "cell_type": "code",
   "execution_count": 30,
   "id": "c804d9bd",
   "metadata": {
    "execution": {
     "iopub.execute_input": "2023-02-17T16:40:34.256947Z",
     "iopub.status.busy": "2023-02-17T16:40:34.256190Z",
     "iopub.status.idle": "2023-02-17T16:40:34.453666Z",
     "shell.execute_reply": "2023-02-17T16:40:34.452561Z"
    },
    "papermill": {
     "duration": 0.231439,
     "end_time": "2023-02-17T16:40:34.456079",
     "exception": false,
     "start_time": "2023-02-17T16:40:34.224640",
     "status": "completed"
    },
    "tags": []
   },
   "outputs": [
    {
     "name": "stdout",
     "output_type": "stream",
     "text": [
      "When using optimal threshold...\n",
      "Q0: F1 = 0.6101293786029617\n",
      "Q1: F1 = 0.4946153516111039\n",
      "Q2: F1 = 0.4884978302409976\n",
      "Q3: F1 = 0.6105165114944187\n",
      "Q4: F1 = 0.5702713414129015\n",
      "Q5: F1 = 0.6084865728335219\n",
      "Q6: F1 = 0.5962677674157814\n",
      "Q7: F1 = 0.5153900574363431\n",
      "Q8: F1 = 0.6062675308313091\n",
      "Q9: F1 = 0.4970096844572176\n",
      "Q10: F1 = 0.5957770589453784\n",
      "Q11: F1 = 0.5001494647953529\n",
      "Q12: F1 = 0.43523297355211477\n",
      "Q13: F1 = 0.617384058248682\n",
      "Q14: F1 = 0.5031033883411388\n",
      "Q15: F1 = 0.4643896617913471\n",
      "Q16: F1 = 0.5445222069348299\n",
      "Q17: F1 = 0.49052080932415365\n",
      "==> Overall F1 = 0.679599210821819\n"
     ]
    }
   ],
   "source": [
    "print('When using optimal threshold...')\n",
    "for k in range(18):\n",
    "        \n",
    "    # COMPUTE F1 SCORE PER QUESTION\n",
    "    m = f1_score(true[k].values, (oof[k].values>best_threshold).astype('int'), average='macro')\n",
    "    print(f'Q{k}: F1 =',m)\n",
    "    \n",
    "# COMPUTE F1 SCORE OVERALL\n",
    "m = f1_score(true.values.reshape((-1)), (oof.values.reshape((-1))>best_threshold).astype('int'), average='macro')\n",
    "print('==> Overall F1 =',m)"
   ]
  },
  {
   "cell_type": "markdown",
   "id": "03514d4f",
   "metadata": {
    "papermill": {
     "duration": 0.028973,
     "end_time": "2023-02-17T16:40:34.514201",
     "exception": false,
     "start_time": "2023-02-17T16:40:34.485228",
     "status": "completed"
    },
    "tags": []
   },
   "source": [
    "# Infer Test Data"
   ]
  },
  {
   "cell_type": "code",
   "execution_count": 54,
   "id": "6442d8ba",
   "metadata": {
    "execution": {
     "iopub.execute_input": "2023-02-17T16:40:34.574599Z",
     "iopub.status.busy": "2023-02-17T16:40:34.573855Z",
     "iopub.status.idle": "2023-02-17T16:40:35.212991Z",
     "shell.execute_reply": "2023-02-17T16:40:35.211987Z"
    },
    "papermill": {
     "duration": 0.672292,
     "end_time": "2023-02-17T16:40:35.215446",
     "exception": false,
     "start_time": "2023-02-17T16:40:34.543154",
     "status": "completed"
    },
    "tags": []
   },
   "outputs": [],
   "source": [
    "test = pd.read_csv('predict-student-performance-from-game-play/test.csv')\n",
    "sample_submission = pd.read_csv('predict-student-performance-from-game-play/sample_submission.csv')\n",
    "\n"
   ]
  },
  {
   "cell_type": "code",
   "execution_count": 55,
   "id": "45338264",
   "metadata": {},
   "outputs": [],
   "source": [
    "def iter_test():\n",
    "    yield (sample_submission, test)\n",
    "iter_test = iter_test()"
   ]
  },
  {
   "cell_type": "code",
   "execution_count": 56,
   "id": "99f40922",
   "metadata": {
    "execution": {
     "iopub.execute_input": "2023-02-17T16:40:35.277971Z",
     "iopub.status.busy": "2023-02-17T16:40:35.277204Z",
     "iopub.status.idle": "2023-02-17T16:40:36.164412Z",
     "shell.execute_reply": "2023-02-17T16:40:36.163485Z"
    },
    "papermill": {
     "duration": 0.92221,
     "end_time": "2023-02-17T16:40:36.167111",
     "exception": false,
     "start_time": "2023-02-17T16:40:35.244901",
     "status": "completed"
    },
    "tags": []
   },
   "outputs": [
    {
     "name": "stdout",
     "output_type": "stream",
     "text": [
      "Index(['session_id', 'index', 'elapsed_time', 'event_name', 'name', 'level',\n",
      "       'page', 'room_coor_x', 'room_coor_y', 'screen_coor_x', 'screen_coor_y',\n",
      "       'hover_duration', 'text', 'fqid', 'room_fqid', 'text_fqid',\n",
      "       'fullscreen', 'hq', 'music', 'level_group', 'session_level'],\n",
      "      dtype='object')\n"
     ]
    },
    {
     "ename": "KeyError",
     "evalue": "'Column not found: text'",
     "output_type": "error",
     "traceback": [
      "\u001b[0;31m---------------------------------------------------------------------------\u001b[0m",
      "\u001b[0;31mKeyError\u001b[0m                                  Traceback (most recent call last)",
      "Cell \u001b[0;32mIn[56], line 13\u001b[0m\n\u001b[1;32m      9\u001b[0m test \u001b[39m=\u001b[39m test\u001b[39m.\u001b[39mdrop(columns\u001b[39m=\u001b[39m[\u001b[39m'\u001b[39m\u001b[39mpage\u001b[39m\u001b[39m'\u001b[39m], axis\u001b[39m=\u001b[39m\u001b[39m1\u001b[39m)\n\u001b[1;32m     12\u001b[0m \u001b[39m# FEATURE ENGINEER TEST DATA\u001b[39;00m\n\u001b[0;32m---> 13\u001b[0m test \u001b[39m=\u001b[39m pd\u001b[39m.\u001b[39mconcat([feature_engineer(test), feature_engineer_page(\n\u001b[1;32m     14\u001b[0m     pd\u001b[39m.\u001b[39mread_csv(\u001b[39m'\u001b[39m\u001b[39mtemp/page_train.csv\u001b[39m\u001b[39m'\u001b[39m))], axis\u001b[39m=\u001b[39m\u001b[39m1\u001b[39m)\n\u001b[1;32m     16\u001b[0m test\u001b[39m.\u001b[39mcolumns \u001b[39m=\u001b[39m t_col\n\u001b[1;32m     18\u001b[0m test \u001b[39m=\u001b[39m test\u001b[39m.\u001b[39mdrop(\u001b[39m'\u001b[39m\u001b[39mTRASH_level_group\u001b[39m\u001b[39m'\u001b[39m, axis\u001b[39m=\u001b[39m\u001b[39m1\u001b[39m)\n",
      "Cell \u001b[0;32mIn[16], line 4\u001b[0m, in \u001b[0;36mfeature_engineer\u001b[0;34m(train)\u001b[0m\n\u001b[1;32m      2\u001b[0m dfs \u001b[39m=\u001b[39m []\n\u001b[1;32m      3\u001b[0m \u001b[39mfor\u001b[39;00m c \u001b[39min\u001b[39;00m NUNIQUE:\n\u001b[0;32m----> 4\u001b[0m     tmp \u001b[39m=\u001b[39m train\u001b[39m.\u001b[39;49mgroupby([\u001b[39m'\u001b[39;49m\u001b[39msession_id\u001b[39;49m\u001b[39m'\u001b[39;49m,\u001b[39m'\u001b[39;49m\u001b[39mlevel_group\u001b[39;49m\u001b[39m'\u001b[39;49m])[c]\u001b[39m.\u001b[39magg(\u001b[39m'\u001b[39m\u001b[39mnunique\u001b[39m\u001b[39m'\u001b[39m)\n\u001b[1;32m      5\u001b[0m     tmp\u001b[39m.\u001b[39mname \u001b[39m=\u001b[39m tmp\u001b[39m.\u001b[39mname \u001b[39m+\u001b[39m \u001b[39m'\u001b[39m\u001b[39m_nunique\u001b[39m\u001b[39m'\u001b[39m\n\u001b[1;32m      6\u001b[0m     dfs\u001b[39m.\u001b[39mappend(tmp)\n",
      "File \u001b[0;32m~/.pyenv/versions/3.9.4/lib/python3.9/site-packages/pandas/core/groupby/generic.py:1415\u001b[0m, in \u001b[0;36mDataFrameGroupBy.__getitem__\u001b[0;34m(self, key)\u001b[0m\n\u001b[1;32m   1406\u001b[0m \u001b[39mif\u001b[39;00m \u001b[39misinstance\u001b[39m(key, \u001b[39mtuple\u001b[39m) \u001b[39mand\u001b[39;00m \u001b[39mlen\u001b[39m(key) \u001b[39m>\u001b[39m \u001b[39m1\u001b[39m:\n\u001b[1;32m   1407\u001b[0m     \u001b[39m# if len == 1, then it becomes a SeriesGroupBy and this is actually\u001b[39;00m\n\u001b[1;32m   1408\u001b[0m     \u001b[39m# valid syntax, so don't raise warning\u001b[39;00m\n\u001b[1;32m   1409\u001b[0m     warnings\u001b[39m.\u001b[39mwarn(\n\u001b[1;32m   1410\u001b[0m         \u001b[39m\"\u001b[39m\u001b[39mIndexing with multiple keys (implicitly converted to a tuple \u001b[39m\u001b[39m\"\u001b[39m\n\u001b[1;32m   1411\u001b[0m         \u001b[39m\"\u001b[39m\u001b[39mof keys) will be deprecated, use a list instead.\u001b[39m\u001b[39m\"\u001b[39m,\n\u001b[1;32m   1412\u001b[0m         \u001b[39mFutureWarning\u001b[39;00m,\n\u001b[1;32m   1413\u001b[0m         stacklevel\u001b[39m=\u001b[39mfind_stack_level(),\n\u001b[1;32m   1414\u001b[0m     )\n\u001b[0;32m-> 1415\u001b[0m \u001b[39mreturn\u001b[39;00m \u001b[39msuper\u001b[39;49m()\u001b[39m.\u001b[39;49m\u001b[39m__getitem__\u001b[39;49m(key)\n",
      "File \u001b[0;32m~/.pyenv/versions/3.9.4/lib/python3.9/site-packages/pandas/core/base.py:248\u001b[0m, in \u001b[0;36mSelectionMixin.__getitem__\u001b[0;34m(self, key)\u001b[0m\n\u001b[1;32m    246\u001b[0m \u001b[39melse\u001b[39;00m:\n\u001b[1;32m    247\u001b[0m     \u001b[39mif\u001b[39;00m key \u001b[39mnot\u001b[39;00m \u001b[39min\u001b[39;00m \u001b[39mself\u001b[39m\u001b[39m.\u001b[39mobj:\n\u001b[0;32m--> 248\u001b[0m         \u001b[39mraise\u001b[39;00m \u001b[39mKeyError\u001b[39;00m(\u001b[39mf\u001b[39m\u001b[39m\"\u001b[39m\u001b[39mColumn not found: \u001b[39m\u001b[39m{\u001b[39;00mkey\u001b[39m}\u001b[39;00m\u001b[39m\"\u001b[39m)\n\u001b[1;32m    249\u001b[0m     subset \u001b[39m=\u001b[39m \u001b[39mself\u001b[39m\u001b[39m.\u001b[39mobj[key]\n\u001b[1;32m    250\u001b[0m     ndim \u001b[39m=\u001b[39m subset\u001b[39m.\u001b[39mndim\n",
      "\u001b[0;31mKeyError\u001b[0m: 'Column not found: text'"
     ]
    }
   ],
   "source": [
    "limits = {'0-4': (1, 4), '5-12': (4, 14), '13-22': (14, 19)}\n",
    "\n",
    "for (sample_submission, test) in iter_test:\n",
    "    test = df_scale(test)\n",
    "    print(test.columns)\n",
    "    test = test.astype({'level': 'int16', 'index': 'int16', 'elapsed_time': 'int16', 'room_coor_x': 'float32', 'room_coor_y': 'float32',\n",
    "                       'screen_coor_x': 'float32', 'screen_coor_y': 'float32'}).drop(['index', 'fullscreen', 'hq', 'music', 'name', 'text'], axis=1)\n",
    "    oh_page_out(test)\n",
    "    test = test.drop(columns=['page'], axis=1)\n",
    "\n",
    "\n",
    "    # FEATURE ENGINEER TEST DATA\n",
    "    test = pd.concat([feature_engineer(test), feature_engineer_page(\n",
    "        pd.read_csv('temp/page_train.csv'))], axis=1)\n",
    "\n",
    "    test.columns = t_col\n",
    "\n",
    "    test = test.drop('TRASH_level_group', axis=1)\n",
    "    test = test.reset_index()\n",
    "    test = test.set_index('session_id')\n",
    "\n",
    "    # INFER TEST DATA\n",
    "    grp = test.level_group.values[0]\n",
    "    a, b = limits[grp]\n",
    "    for t in range(a, b):\n",
    "        clf = models[f'{grp}_{t}']\n",
    "        p = clf.predict_proba(df[FEATURES].astype('float32'))[:, 1]\n",
    "        mask = sample_submission.session_id.str.contains(f'q{t}')\n",
    "        sample_submission.loc[mask, 'correct'] = int(p.item() > best_threshold)\n",
    "\n",
    "    print(sample_submission)"
   ]
  },
  {
   "cell_type": "markdown",
   "id": "be7df99b",
   "metadata": {
    "papermill": {
     "duration": 0.02884,
     "end_time": "2023-02-17T16:40:36.225644",
     "exception": false,
     "start_time": "2023-02-17T16:40:36.196804",
     "status": "completed"
    },
    "tags": []
   },
   "source": [
    "# EDA submission.csv"
   ]
  },
  {
   "cell_type": "code",
   "execution_count": 44,
   "id": "f0beff31",
   "metadata": {
    "execution": {
     "iopub.execute_input": "2023-02-17T16:40:36.402117Z",
     "iopub.status.busy": "2023-02-17T16:40:36.401710Z",
     "iopub.status.idle": "2023-02-17T16:40:36.414489Z",
     "shell.execute_reply": "2023-02-17T16:40:36.413409Z"
    },
    "papermill": {
     "duration": 0.161589,
     "end_time": "2023-02-17T16:40:36.416609",
     "exception": false,
     "start_time": "2023-02-17T16:40:36.255020",
     "status": "completed"
    },
    "tags": []
   },
   "outputs": [
    {
     "ename": "FileNotFoundError",
     "evalue": "[Errno 2] No such file or directory: 'submission.csv'",
     "output_type": "error",
     "traceback": [
      "\u001b[0;31m---------------------------------------------------------------------------\u001b[0m",
      "\u001b[0;31mFileNotFoundError\u001b[0m                         Traceback (most recent call last)",
      "Cell \u001b[0;32mIn[44], line 1\u001b[0m\n\u001b[0;32m----> 1\u001b[0m df \u001b[39m=\u001b[39m pd\u001b[39m.\u001b[39;49mread_csv(\u001b[39m'\u001b[39;49m\u001b[39msubmission.csv\u001b[39;49m\u001b[39m'\u001b[39;49m)\n\u001b[1;32m      2\u001b[0m \u001b[39mprint\u001b[39m( df\u001b[39m.\u001b[39mshape )\n\u001b[1;32m      3\u001b[0m df\u001b[39m.\u001b[39mhead()\n",
      "File \u001b[0;32m~/.pyenv/versions/3.9.4/lib/python3.9/site-packages/pandas/util/_decorators.py:211\u001b[0m, in \u001b[0;36mdeprecate_kwarg.<locals>._deprecate_kwarg.<locals>.wrapper\u001b[0;34m(*args, **kwargs)\u001b[0m\n\u001b[1;32m    209\u001b[0m     \u001b[39melse\u001b[39;00m:\n\u001b[1;32m    210\u001b[0m         kwargs[new_arg_name] \u001b[39m=\u001b[39m new_arg_value\n\u001b[0;32m--> 211\u001b[0m \u001b[39mreturn\u001b[39;00m func(\u001b[39m*\u001b[39;49margs, \u001b[39m*\u001b[39;49m\u001b[39m*\u001b[39;49mkwargs)\n",
      "File \u001b[0;32m~/.pyenv/versions/3.9.4/lib/python3.9/site-packages/pandas/util/_decorators.py:331\u001b[0m, in \u001b[0;36mdeprecate_nonkeyword_arguments.<locals>.decorate.<locals>.wrapper\u001b[0;34m(*args, **kwargs)\u001b[0m\n\u001b[1;32m    325\u001b[0m \u001b[39mif\u001b[39;00m \u001b[39mlen\u001b[39m(args) \u001b[39m>\u001b[39m num_allow_args:\n\u001b[1;32m    326\u001b[0m     warnings\u001b[39m.\u001b[39mwarn(\n\u001b[1;32m    327\u001b[0m         msg\u001b[39m.\u001b[39mformat(arguments\u001b[39m=\u001b[39m_format_argument_list(allow_args)),\n\u001b[1;32m    328\u001b[0m         \u001b[39mFutureWarning\u001b[39;00m,\n\u001b[1;32m    329\u001b[0m         stacklevel\u001b[39m=\u001b[39mfind_stack_level(),\n\u001b[1;32m    330\u001b[0m     )\n\u001b[0;32m--> 331\u001b[0m \u001b[39mreturn\u001b[39;00m func(\u001b[39m*\u001b[39;49margs, \u001b[39m*\u001b[39;49m\u001b[39m*\u001b[39;49mkwargs)\n",
      "File \u001b[0;32m~/.pyenv/versions/3.9.4/lib/python3.9/site-packages/pandas/io/parsers/readers.py:950\u001b[0m, in \u001b[0;36mread_csv\u001b[0;34m(filepath_or_buffer, sep, delimiter, header, names, index_col, usecols, squeeze, prefix, mangle_dupe_cols, dtype, engine, converters, true_values, false_values, skipinitialspace, skiprows, skipfooter, nrows, na_values, keep_default_na, na_filter, verbose, skip_blank_lines, parse_dates, infer_datetime_format, keep_date_col, date_parser, dayfirst, cache_dates, iterator, chunksize, compression, thousands, decimal, lineterminator, quotechar, quoting, doublequote, escapechar, comment, encoding, encoding_errors, dialect, error_bad_lines, warn_bad_lines, on_bad_lines, delim_whitespace, low_memory, memory_map, float_precision, storage_options)\u001b[0m\n\u001b[1;32m    935\u001b[0m kwds_defaults \u001b[39m=\u001b[39m _refine_defaults_read(\n\u001b[1;32m    936\u001b[0m     dialect,\n\u001b[1;32m    937\u001b[0m     delimiter,\n\u001b[0;32m   (...)\u001b[0m\n\u001b[1;32m    946\u001b[0m     defaults\u001b[39m=\u001b[39m{\u001b[39m\"\u001b[39m\u001b[39mdelimiter\u001b[39m\u001b[39m\"\u001b[39m: \u001b[39m\"\u001b[39m\u001b[39m,\u001b[39m\u001b[39m\"\u001b[39m},\n\u001b[1;32m    947\u001b[0m )\n\u001b[1;32m    948\u001b[0m kwds\u001b[39m.\u001b[39mupdate(kwds_defaults)\n\u001b[0;32m--> 950\u001b[0m \u001b[39mreturn\u001b[39;00m _read(filepath_or_buffer, kwds)\n",
      "File \u001b[0;32m~/.pyenv/versions/3.9.4/lib/python3.9/site-packages/pandas/io/parsers/readers.py:605\u001b[0m, in \u001b[0;36m_read\u001b[0;34m(filepath_or_buffer, kwds)\u001b[0m\n\u001b[1;32m    602\u001b[0m _validate_names(kwds\u001b[39m.\u001b[39mget(\u001b[39m\"\u001b[39m\u001b[39mnames\u001b[39m\u001b[39m\"\u001b[39m, \u001b[39mNone\u001b[39;00m))\n\u001b[1;32m    604\u001b[0m \u001b[39m# Create the parser.\u001b[39;00m\n\u001b[0;32m--> 605\u001b[0m parser \u001b[39m=\u001b[39m TextFileReader(filepath_or_buffer, \u001b[39m*\u001b[39;49m\u001b[39m*\u001b[39;49mkwds)\n\u001b[1;32m    607\u001b[0m \u001b[39mif\u001b[39;00m chunksize \u001b[39mor\u001b[39;00m iterator:\n\u001b[1;32m    608\u001b[0m     \u001b[39mreturn\u001b[39;00m parser\n",
      "File \u001b[0;32m~/.pyenv/versions/3.9.4/lib/python3.9/site-packages/pandas/io/parsers/readers.py:1442\u001b[0m, in \u001b[0;36mTextFileReader.__init__\u001b[0;34m(self, f, engine, **kwds)\u001b[0m\n\u001b[1;32m   1439\u001b[0m     \u001b[39mself\u001b[39m\u001b[39m.\u001b[39moptions[\u001b[39m\"\u001b[39m\u001b[39mhas_index_names\u001b[39m\u001b[39m\"\u001b[39m] \u001b[39m=\u001b[39m kwds[\u001b[39m\"\u001b[39m\u001b[39mhas_index_names\u001b[39m\u001b[39m\"\u001b[39m]\n\u001b[1;32m   1441\u001b[0m \u001b[39mself\u001b[39m\u001b[39m.\u001b[39mhandles: IOHandles \u001b[39m|\u001b[39m \u001b[39mNone\u001b[39;00m \u001b[39m=\u001b[39m \u001b[39mNone\u001b[39;00m\n\u001b[0;32m-> 1442\u001b[0m \u001b[39mself\u001b[39m\u001b[39m.\u001b[39m_engine \u001b[39m=\u001b[39m \u001b[39mself\u001b[39;49m\u001b[39m.\u001b[39;49m_make_engine(f, \u001b[39mself\u001b[39;49m\u001b[39m.\u001b[39;49mengine)\n",
      "File \u001b[0;32m~/.pyenv/versions/3.9.4/lib/python3.9/site-packages/pandas/io/parsers/readers.py:1735\u001b[0m, in \u001b[0;36mTextFileReader._make_engine\u001b[0;34m(self, f, engine)\u001b[0m\n\u001b[1;32m   1733\u001b[0m     \u001b[39mif\u001b[39;00m \u001b[39m\"\u001b[39m\u001b[39mb\u001b[39m\u001b[39m\"\u001b[39m \u001b[39mnot\u001b[39;00m \u001b[39min\u001b[39;00m mode:\n\u001b[1;32m   1734\u001b[0m         mode \u001b[39m+\u001b[39m\u001b[39m=\u001b[39m \u001b[39m\"\u001b[39m\u001b[39mb\u001b[39m\u001b[39m\"\u001b[39m\n\u001b[0;32m-> 1735\u001b[0m \u001b[39mself\u001b[39m\u001b[39m.\u001b[39mhandles \u001b[39m=\u001b[39m get_handle(\n\u001b[1;32m   1736\u001b[0m     f,\n\u001b[1;32m   1737\u001b[0m     mode,\n\u001b[1;32m   1738\u001b[0m     encoding\u001b[39m=\u001b[39;49m\u001b[39mself\u001b[39;49m\u001b[39m.\u001b[39;49moptions\u001b[39m.\u001b[39;49mget(\u001b[39m\"\u001b[39;49m\u001b[39mencoding\u001b[39;49m\u001b[39m\"\u001b[39;49m, \u001b[39mNone\u001b[39;49;00m),\n\u001b[1;32m   1739\u001b[0m     compression\u001b[39m=\u001b[39;49m\u001b[39mself\u001b[39;49m\u001b[39m.\u001b[39;49moptions\u001b[39m.\u001b[39;49mget(\u001b[39m\"\u001b[39;49m\u001b[39mcompression\u001b[39;49m\u001b[39m\"\u001b[39;49m, \u001b[39mNone\u001b[39;49;00m),\n\u001b[1;32m   1740\u001b[0m     memory_map\u001b[39m=\u001b[39;49m\u001b[39mself\u001b[39;49m\u001b[39m.\u001b[39;49moptions\u001b[39m.\u001b[39;49mget(\u001b[39m\"\u001b[39;49m\u001b[39mmemory_map\u001b[39;49m\u001b[39m\"\u001b[39;49m, \u001b[39mFalse\u001b[39;49;00m),\n\u001b[1;32m   1741\u001b[0m     is_text\u001b[39m=\u001b[39;49mis_text,\n\u001b[1;32m   1742\u001b[0m     errors\u001b[39m=\u001b[39;49m\u001b[39mself\u001b[39;49m\u001b[39m.\u001b[39;49moptions\u001b[39m.\u001b[39;49mget(\u001b[39m\"\u001b[39;49m\u001b[39mencoding_errors\u001b[39;49m\u001b[39m\"\u001b[39;49m, \u001b[39m\"\u001b[39;49m\u001b[39mstrict\u001b[39;49m\u001b[39m\"\u001b[39;49m),\n\u001b[1;32m   1743\u001b[0m     storage_options\u001b[39m=\u001b[39;49m\u001b[39mself\u001b[39;49m\u001b[39m.\u001b[39;49moptions\u001b[39m.\u001b[39;49mget(\u001b[39m\"\u001b[39;49m\u001b[39mstorage_options\u001b[39;49m\u001b[39m\"\u001b[39;49m, \u001b[39mNone\u001b[39;49;00m),\n\u001b[1;32m   1744\u001b[0m )\n\u001b[1;32m   1745\u001b[0m \u001b[39massert\u001b[39;00m \u001b[39mself\u001b[39m\u001b[39m.\u001b[39mhandles \u001b[39mis\u001b[39;00m \u001b[39mnot\u001b[39;00m \u001b[39mNone\u001b[39;00m\n\u001b[1;32m   1746\u001b[0m f \u001b[39m=\u001b[39m \u001b[39mself\u001b[39m\u001b[39m.\u001b[39mhandles\u001b[39m.\u001b[39mhandle\n",
      "File \u001b[0;32m~/.pyenv/versions/3.9.4/lib/python3.9/site-packages/pandas/io/common.py:856\u001b[0m, in \u001b[0;36mget_handle\u001b[0;34m(path_or_buf, mode, encoding, compression, memory_map, is_text, errors, storage_options)\u001b[0m\n\u001b[1;32m    851\u001b[0m \u001b[39melif\u001b[39;00m \u001b[39misinstance\u001b[39m(handle, \u001b[39mstr\u001b[39m):\n\u001b[1;32m    852\u001b[0m     \u001b[39m# Check whether the filename is to be opened in binary mode.\u001b[39;00m\n\u001b[1;32m    853\u001b[0m     \u001b[39m# Binary mode does not support 'encoding' and 'newline'.\u001b[39;00m\n\u001b[1;32m    854\u001b[0m     \u001b[39mif\u001b[39;00m ioargs\u001b[39m.\u001b[39mencoding \u001b[39mand\u001b[39;00m \u001b[39m\"\u001b[39m\u001b[39mb\u001b[39m\u001b[39m\"\u001b[39m \u001b[39mnot\u001b[39;00m \u001b[39min\u001b[39;00m ioargs\u001b[39m.\u001b[39mmode:\n\u001b[1;32m    855\u001b[0m         \u001b[39m# Encoding\u001b[39;00m\n\u001b[0;32m--> 856\u001b[0m         handle \u001b[39m=\u001b[39m \u001b[39mopen\u001b[39;49m(\n\u001b[1;32m    857\u001b[0m             handle,\n\u001b[1;32m    858\u001b[0m             ioargs\u001b[39m.\u001b[39;49mmode,\n\u001b[1;32m    859\u001b[0m             encoding\u001b[39m=\u001b[39;49mioargs\u001b[39m.\u001b[39;49mencoding,\n\u001b[1;32m    860\u001b[0m             errors\u001b[39m=\u001b[39;49merrors,\n\u001b[1;32m    861\u001b[0m             newline\u001b[39m=\u001b[39;49m\u001b[39m\"\u001b[39;49m\u001b[39m\"\u001b[39;49m,\n\u001b[1;32m    862\u001b[0m         )\n\u001b[1;32m    863\u001b[0m     \u001b[39melse\u001b[39;00m:\n\u001b[1;32m    864\u001b[0m         \u001b[39m# Binary mode\u001b[39;00m\n\u001b[1;32m    865\u001b[0m         handle \u001b[39m=\u001b[39m \u001b[39mopen\u001b[39m(handle, ioargs\u001b[39m.\u001b[39mmode)\n",
      "\u001b[0;31mFileNotFoundError\u001b[0m: [Errno 2] No such file or directory: 'submission.csv'"
     ]
    }
   ],
   "source": [
    "df = pd.read_csv('submission.csv')\n",
    "print( df.shape )\n",
    "df.head()"
   ]
  },
  {
   "cell_type": "code",
   "execution_count": null,
   "id": "859a070a",
   "metadata": {
    "execution": {
     "iopub.execute_input": "2023-02-17T16:40:36.477956Z",
     "iopub.status.busy": "2023-02-17T16:40:36.477155Z",
     "iopub.status.idle": "2023-02-17T16:40:36.483088Z",
     "shell.execute_reply": "2023-02-17T16:40:36.481980Z"
    },
    "papermill": {
     "duration": 0.039949,
     "end_time": "2023-02-17T16:40:36.485681",
     "exception": false,
     "start_time": "2023-02-17T16:40:36.445732",
     "status": "completed"
    },
    "tags": []
   },
   "outputs": [
    {
     "name": "stdout",
     "output_type": "stream",
     "text": [
      "0.5370370370370371\n"
     ]
    }
   ],
   "source": [
    "print(df.correct.mean())"
   ]
  },
  {
   "cell_type": "code",
   "execution_count": null,
   "id": "7de96bdc",
   "metadata": {},
   "outputs": [],
   "source": []
  }
 ],
 "metadata": {
  "kernelspec": {
   "display_name": "Python 3",
   "language": "python",
   "name": "python3"
  },
  "language_info": {
   "codemirror_mode": {
    "name": "ipython",
    "version": 3
   },
   "file_extension": ".py",
   "mimetype": "text/x-python",
   "name": "python",
   "nbconvert_exporter": "python",
   "pygments_lexer": "ipython3",
   "version": "3.9.4"
  },
  "papermill": {
   "default_parameters": {},
   "duration": 2379.3963,
   "end_time": "2023-02-17T16:40:37.644639",
   "environment_variables": {},
   "exception": null,
   "input_path": "__notebook__.ipynb",
   "output_path": "__notebook__.ipynb",
   "parameters": {},
   "start_time": "2023-02-17T16:00:58.248339",
   "version": "2.3.4"
  },
  "vscode": {
   "interpreter": {
    "hash": "2d7f4db1d613ee4b2d2ebeae5876b92e66a31c9cb18f7b3ca1ac02b1bc62896c"
   }
  }
 },
 "nbformat": 4,
 "nbformat_minor": 5
}
