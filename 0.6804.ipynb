{
 "cells": [
  {
   "cell_type": "code",
   "execution_count": 1,
   "id": "26c41c46",
   "metadata": {
    "execution": {
     "iopub.execute_input": "2023-02-18T02:36:32.564540Z",
     "iopub.status.busy": "2023-02-18T02:36:32.563495Z",
     "iopub.status.idle": "2023-02-18T02:36:34.826213Z",
     "shell.execute_reply": "2023-02-18T02:36:34.825205Z"
    },
    "papermill": {
     "duration": 2.276891,
     "end_time": "2023-02-18T02:36:34.828909",
     "exception": false,
     "start_time": "2023-02-18T02:36:32.552018",
     "status": "completed"
    },
    "tags": []
   },
   "outputs": [
    {
     "data": {
      "text/html": [
       "<style type='text/css'>\n",
       ".datatable table.frame { margin-bottom: 0; }\n",
       ".datatable table.frame thead { border-bottom: none; }\n",
       ".datatable table.frame tr.coltypes td {  color: #FFFFFF;  line-height: 6px;  padding: 0 0.5em;}\n",
       ".datatable .bool    { background: #DDDD99; }\n",
       ".datatable .object  { background: #565656; }\n",
       ".datatable .int     { background: #5D9E5D; }\n",
       ".datatable .float   { background: #4040CC; }\n",
       ".datatable .str     { background: #CC4040; }\n",
       ".datatable .time    { background: #40CC40; }\n",
       ".datatable .row_index {  background: var(--jp-border-color3);  border-right: 1px solid var(--jp-border-color0);  color: var(--jp-ui-font-color3);  font-size: 9px;}\n",
       ".datatable .frame tbody td { text-align: left; }\n",
       ".datatable .frame tr.coltypes .row_index {  background: var(--jp-border-color0);}\n",
       ".datatable th:nth-child(2) { padding-left: 12px; }\n",
       ".datatable .hellipsis {  color: var(--jp-cell-editor-border-color);}\n",
       ".datatable .vellipsis {  background: var(--jp-layout-color0);  color: var(--jp-cell-editor-border-color);}\n",
       ".datatable .na {  color: var(--jp-cell-editor-border-color);  font-size: 80%;}\n",
       ".datatable .sp {  opacity: 0.25;}\n",
       ".datatable .footer { font-size: 9px; }\n",
       ".datatable .frame_dimensions {  background: var(--jp-border-color3);  border-top: 1px solid var(--jp-border-color0);  color: var(--jp-ui-font-color3);  display: inline-block;  opacity: 0.6;  padding: 1px 10px 1px 5px;}\n",
       "</style>\n"
      ],
      "text/plain": [
       "<IPython.core.display.HTML object>"
      ]
     },
     "metadata": {},
     "output_type": "display_data"
    }
   ],
   "source": [
    "import pandas as pd, numpy as np\n",
    "from sklearn.model_selection import KFold, GroupKFold\n",
    "from xgboost import XGBClassifier\n",
    "import lightgbm as lgb\n",
    "from sklearn.metrics import f1_score"
   ]
  },
  {
   "cell_type": "markdown",
   "id": "6af5f078",
   "metadata": {
    "papermill": {
     "duration": 0.005967,
     "end_time": "2023-02-18T02:36:34.841622",
     "exception": false,
     "start_time": "2023-02-18T02:36:34.835655",
     "status": "completed"
    },
    "tags": []
   },
   "source": [
    "# Load Train Data and Labels"
   ]
  },
  {
   "cell_type": "code",
   "execution_count": 2,
   "id": "14d575a7",
   "metadata": {
    "execution": {
     "iopub.execute_input": "2023-02-18T02:36:34.856532Z",
     "iopub.status.busy": "2023-02-18T02:36:34.855850Z",
     "iopub.status.idle": "2023-02-18T02:37:57.522007Z",
     "shell.execute_reply": "2023-02-18T02:37:57.520450Z"
    },
    "papermill": {
     "duration": 82.677225,
     "end_time": "2023-02-18T02:37:57.525013",
     "exception": false,
     "start_time": "2023-02-18T02:36:34.847788",
     "status": "completed"
    },
    "tags": []
   },
   "outputs": [],
   "source": [
    "train = pd.read_csv('/kaggle/input/predict-student-performance-from-game-play/train.csv')"
   ]
  },
  {
   "cell_type": "code",
   "execution_count": 3,
   "id": "2253edb8",
   "metadata": {
    "execution": {
     "iopub.execute_input": "2023-02-18T02:37:57.539918Z",
     "iopub.status.busy": "2023-02-18T02:37:57.539434Z",
     "iopub.status.idle": "2023-02-18T02:37:58.148949Z",
     "shell.execute_reply": "2023-02-18T02:37:58.147637Z"
    },
    "papermill": {
     "duration": 0.620368,
     "end_time": "2023-02-18T02:37:58.152047",
     "exception": false,
     "start_time": "2023-02-18T02:37:57.531679",
     "status": "completed"
    },
    "tags": []
   },
   "outputs": [],
   "source": [
    "train['room_coor_x'] = train['room_coor_x'].fillna(0)\n",
    "train['room_coor_y'] = train['room_coor_y'].fillna(0)\n",
    "train['screen_coor_x'] = train['screen_coor_x'].fillna(0)\n",
    "train['screen_coor_y'] = train['screen_coor_y'].fillna(0)\n",
    "train['hover_duration'] = train['hover_duration'].fillna(0)\n",
    "train['page'] = train['page'].fillna(-1)\n",
    "train['page'] = train['page']+1"
   ]
  },
  {
   "cell_type": "code",
   "execution_count": 4,
   "id": "f3ab8896",
   "metadata": {
    "execution": {
     "iopub.execute_input": "2023-02-18T02:37:58.167562Z",
     "iopub.status.busy": "2023-02-18T02:37:58.166320Z",
     "iopub.status.idle": "2023-02-18T02:37:58.851598Z",
     "shell.execute_reply": "2023-02-18T02:37:58.850200Z"
    },
    "papermill": {
     "duration": 0.695833,
     "end_time": "2023-02-18T02:37:58.854271",
     "exception": false,
     "start_time": "2023-02-18T02:37:58.158438",
     "status": "completed"
    },
    "tags": []
   },
   "outputs": [
    {
     "name": "stdout",
     "output_type": "stream",
     "text": [
      "(212022, 4)\n"
     ]
    },
    {
     "data": {
      "text/html": [
       "<div>\n",
       "<style scoped>\n",
       "    .dataframe tbody tr th:only-of-type {\n",
       "        vertical-align: middle;\n",
       "    }\n",
       "\n",
       "    .dataframe tbody tr th {\n",
       "        vertical-align: top;\n",
       "    }\n",
       "\n",
       "    .dataframe thead th {\n",
       "        text-align: right;\n",
       "    }\n",
       "</style>\n",
       "<table border=\"1\" class=\"dataframe\">\n",
       "  <thead>\n",
       "    <tr style=\"text-align: right;\">\n",
       "      <th></th>\n",
       "      <th>session_id</th>\n",
       "      <th>correct</th>\n",
       "      <th>session</th>\n",
       "      <th>q</th>\n",
       "    </tr>\n",
       "  </thead>\n",
       "  <tbody>\n",
       "    <tr>\n",
       "      <th>0</th>\n",
       "      <td>20090312431273200_q1</td>\n",
       "      <td>1</td>\n",
       "      <td>20090312431273200</td>\n",
       "      <td>1</td>\n",
       "    </tr>\n",
       "    <tr>\n",
       "      <th>1</th>\n",
       "      <td>20090312433251036_q1</td>\n",
       "      <td>0</td>\n",
       "      <td>20090312433251036</td>\n",
       "      <td>1</td>\n",
       "    </tr>\n",
       "    <tr>\n",
       "      <th>2</th>\n",
       "      <td>20090314121766812_q1</td>\n",
       "      <td>1</td>\n",
       "      <td>20090314121766812</td>\n",
       "      <td>1</td>\n",
       "    </tr>\n",
       "    <tr>\n",
       "      <th>3</th>\n",
       "      <td>20090314363702160_q1</td>\n",
       "      <td>1</td>\n",
       "      <td>20090314363702160</td>\n",
       "      <td>1</td>\n",
       "    </tr>\n",
       "    <tr>\n",
       "      <th>4</th>\n",
       "      <td>20090314441803444_q1</td>\n",
       "      <td>1</td>\n",
       "      <td>20090314441803444</td>\n",
       "      <td>1</td>\n",
       "    </tr>\n",
       "  </tbody>\n",
       "</table>\n",
       "</div>"
      ],
      "text/plain": [
       "             session_id  correct            session  q\n",
       "0  20090312431273200_q1        1  20090312431273200  1\n",
       "1  20090312433251036_q1        0  20090312433251036  1\n",
       "2  20090314121766812_q1        1  20090314121766812  1\n",
       "3  20090314363702160_q1        1  20090314363702160  1\n",
       "4  20090314441803444_q1        1  20090314441803444  1"
      ]
     },
     "execution_count": 4,
     "metadata": {},
     "output_type": "execute_result"
    }
   ],
   "source": [
    "targets = pd.read_csv('/kaggle/input/predict-student-performance-from-game-play/train_labels.csv')\n",
    "targets['session'] = targets.session_id.apply(lambda x: int(x.split('_')[0]) )\n",
    "targets['q'] = targets.session_id.apply(lambda x: int(x.split('_')[-1][1:]) )\n",
    "print( targets.shape )\n",
    "targets.head()"
   ]
  },
  {
   "cell_type": "markdown",
   "id": "1155f0c6",
   "metadata": {
    "papermill": {
     "duration": 0.006618,
     "end_time": "2023-02-18T02:37:58.868502",
     "exception": false,
     "start_time": "2023-02-18T02:37:58.861884",
     "status": "completed"
    },
    "tags": []
   },
   "source": [
    "# Feature Engineer\n",
    "We create basic aggregate features. Try creating more features to boost CV and LB! The idea for EVENTS feature is from [here][1]\n",
    "\n",
    "[1]: https://www.kaggle.com/code/kimtaehun/lightgbm-baseline-with-aggregated-log-data"
   ]
  },
  {
   "cell_type": "code",
   "execution_count": 5,
   "id": "836405cb",
   "metadata": {
    "execution": {
     "iopub.execute_input": "2023-02-18T02:37:58.885061Z",
     "iopub.status.busy": "2023-02-18T02:37:58.884046Z",
     "iopub.status.idle": "2023-02-18T02:37:58.890728Z",
     "shell.execute_reply": "2023-02-18T02:37:58.889854Z"
    },
    "papermill": {
     "duration": 0.017478,
     "end_time": "2023-02-18T02:37:58.893101",
     "exception": false,
     "start_time": "2023-02-18T02:37:58.875623",
     "status": "completed"
    },
    "tags": []
   },
   "outputs": [],
   "source": [
    "NUNIQUE = ['fqid', 'room_fqid', 'text']\n",
    "COUNT = ['fqid','text']\n",
    "MMS = ['elapsed_time', 'hover_duration','index'] \n",
    "MEAN = ['level']\n",
    "STD = ['room_coor_x', 'room_coor_y','screen_coor_x','screen_coor_y']\n",
    "EVENTS = ['navigate_click','person_click','cutscene_click','object_click','notification_click','map_click','observation_click',\n",
    "          'checkpoint','notebook_click']\n",
    "SUM = ['index','page']"
   ]
  },
  {
   "cell_type": "code",
   "execution_count": 6,
   "id": "69bd4d46",
   "metadata": {
    "execution": {
     "iopub.execute_input": "2023-02-18T02:37:58.909659Z",
     "iopub.status.busy": "2023-02-18T02:37:58.908882Z",
     "iopub.status.idle": "2023-02-18T02:37:58.924434Z",
     "shell.execute_reply": "2023-02-18T02:37:58.922969Z"
    },
    "papermill": {
     "duration": 0.027376,
     "end_time": "2023-02-18T02:37:58.927601",
     "exception": false,
     "start_time": "2023-02-18T02:37:58.900225",
     "status": "completed"
    },
    "tags": []
   },
   "outputs": [],
   "source": [
    "def feature_engineer(train):\n",
    "    dfs = []\n",
    "    for c in NUNIQUE:\n",
    "        tmp = train.groupby(['session_id','level_group'])[c].agg('nunique')\n",
    "        tmp.name = tmp.name + '_nunique'\n",
    "        dfs.append(tmp)\n",
    "    for c in COUNT:\n",
    "        tmp = train.groupby(['session_id','level_group'])[c].agg('count')\n",
    "        tmp.name = tmp.name + '_count'\n",
    "        dfs.append(tmp)\n",
    "    for c in MMS:\n",
    "        tmp = train.groupby(['session_id','level_group'])[c].agg('max')\n",
    "        tmp.name = tmp.name + '_max'\n",
    "        dfs.append(tmp)\n",
    "    for c in MMS:\n",
    "        tmp = train.groupby(['session_id','level_group'])[c].agg('min')\n",
    "        tmp.name = tmp.name + '_min'\n",
    "        dfs.append(tmp)\n",
    "    for c in MMS:\n",
    "        tmp = train.groupby(['session_id','level_group'])[c].agg('std')\n",
    "        tmp.name = tmp.name + '_std'\n",
    "        dfs.append(tmp)\n",
    "    for c in MEAN:\n",
    "        tmp = train.groupby(['session_id','level_group'])[c].agg('mean')\n",
    "        tmp.name = tmp.name + '_mean'\n",
    "        dfs.append(tmp)\n",
    "    for c in STD:\n",
    "        tmp = train.groupby(['session_id','level_group'])[c].agg('std')\n",
    "        tmp.name = tmp.name + '_std'\n",
    "        dfs.append(tmp)\n",
    "    for c in SUM:\n",
    "        tmp = train.groupby(['session_id','level_group'])[c].agg('sum')\n",
    "        tmp.name = tmp.name + '_sum'\n",
    "        dfs.append(tmp)\n",
    "    for c in EVENTS:\n",
    "        train[c] = (train.event_name == c).astype('int8')\n",
    "    for c in EVENTS + ['elapsed_time']:\n",
    "        tmp = train.groupby(['session_id','level_group'])[c].agg('sum')\n",
    "        tmp.name = tmp.name + '_sum'\n",
    "        dfs.append(tmp)\n",
    "    train = train.drop(EVENTS,axis=1)\n",
    "    df = pd.concat(dfs,axis=1)\n",
    "    # df = df.fillna(-1)\n",
    "    df = df.reset_index()\n",
    "    df = df.set_index('session_id')\n",
    "    return df"
   ]
  },
  {
   "cell_type": "code",
   "execution_count": 7,
   "id": "c439c73f",
   "metadata": {
    "execution": {
     "iopub.execute_input": "2023-02-18T02:37:58.944238Z",
     "iopub.status.busy": "2023-02-18T02:37:58.943505Z",
     "iopub.status.idle": "2023-02-18T02:39:05.267334Z",
     "shell.execute_reply": "2023-02-18T02:39:05.266252Z"
    },
    "papermill": {
     "duration": 66.338121,
     "end_time": "2023-02-18T02:39:05.272818",
     "exception": false,
     "start_time": "2023-02-18T02:37:58.934697",
     "status": "completed"
    },
    "tags": []
   },
   "outputs": [
    {
     "name": "stdout",
     "output_type": "stream",
     "text": [
      "(35337, 32)\n",
      "CPU times: user 1min 5s, sys: 994 ms, total: 1min 6s\n",
      "Wall time: 1min 6s\n"
     ]
    },
    {
     "data": {
      "text/html": [
       "<div>\n",
       "<style scoped>\n",
       "    .dataframe tbody tr th:only-of-type {\n",
       "        vertical-align: middle;\n",
       "    }\n",
       "\n",
       "    .dataframe tbody tr th {\n",
       "        vertical-align: top;\n",
       "    }\n",
       "\n",
       "    .dataframe thead th {\n",
       "        text-align: right;\n",
       "    }\n",
       "</style>\n",
       "<table border=\"1\" class=\"dataframe\">\n",
       "  <thead>\n",
       "    <tr style=\"text-align: right;\">\n",
       "      <th></th>\n",
       "      <th>level_group</th>\n",
       "      <th>fqid_nunique</th>\n",
       "      <th>room_fqid_nunique</th>\n",
       "      <th>text_nunique</th>\n",
       "      <th>fqid_count</th>\n",
       "      <th>text_count</th>\n",
       "      <th>elapsed_time_max</th>\n",
       "      <th>hover_duration_max</th>\n",
       "      <th>index_max</th>\n",
       "      <th>elapsed_time_min</th>\n",
       "      <th>...</th>\n",
       "      <th>navigate_click_sum</th>\n",
       "      <th>person_click_sum</th>\n",
       "      <th>cutscene_click_sum</th>\n",
       "      <th>object_click_sum</th>\n",
       "      <th>notification_click_sum</th>\n",
       "      <th>map_click_sum</th>\n",
       "      <th>observation_click_sum</th>\n",
       "      <th>checkpoint_sum</th>\n",
       "      <th>notebook_click_sum</th>\n",
       "      <th>elapsed_time_sum</th>\n",
       "    </tr>\n",
       "    <tr>\n",
       "      <th>session_id</th>\n",
       "      <th></th>\n",
       "      <th></th>\n",
       "      <th></th>\n",
       "      <th></th>\n",
       "      <th></th>\n",
       "      <th></th>\n",
       "      <th></th>\n",
       "      <th></th>\n",
       "      <th></th>\n",
       "      <th></th>\n",
       "      <th></th>\n",
       "      <th></th>\n",
       "      <th></th>\n",
       "      <th></th>\n",
       "      <th></th>\n",
       "      <th></th>\n",
       "      <th></th>\n",
       "      <th></th>\n",
       "      <th></th>\n",
       "      <th></th>\n",
       "      <th></th>\n",
       "    </tr>\n",
       "  </thead>\n",
       "  <tbody>\n",
       "    <tr>\n",
       "      <th>20090312431273200</th>\n",
       "      <td>0-4</td>\n",
       "      <td>30</td>\n",
       "      <td>7</td>\n",
       "      <td>56</td>\n",
       "      <td>104</td>\n",
       "      <td>62</td>\n",
       "      <td>194860</td>\n",
       "      <td>7899.0</td>\n",
       "      <td>164</td>\n",
       "      <td>0</td>\n",
       "      <td>...</td>\n",
       "      <td>81.0</td>\n",
       "      <td>22.0</td>\n",
       "      <td>28.0</td>\n",
       "      <td>11.0</td>\n",
       "      <td>8</td>\n",
       "      <td>2.0</td>\n",
       "      <td>4</td>\n",
       "      <td>1</td>\n",
       "      <td>0.0</td>\n",
       "      <td>14155937</td>\n",
       "    </tr>\n",
       "    <tr>\n",
       "      <th>20090312431273200</th>\n",
       "      <td>13-22</td>\n",
       "      <td>49</td>\n",
       "      <td>12</td>\n",
       "      <td>168</td>\n",
       "      <td>313</td>\n",
       "      <td>196</td>\n",
       "      <td>1272679</td>\n",
       "      <td>4750.0</td>\n",
       "      <td>931</td>\n",
       "      <td>836732</td>\n",
       "      <td>...</td>\n",
       "      <td>170.0</td>\n",
       "      <td>123.0</td>\n",
       "      <td>60.0</td>\n",
       "      <td>20.0</td>\n",
       "      <td>10</td>\n",
       "      <td>6.0</td>\n",
       "      <td>3</td>\n",
       "      <td>1</td>\n",
       "      <td>0.0</td>\n",
       "      <td>437052322</td>\n",
       "    </tr>\n",
       "    <tr>\n",
       "      <th>20090312431273200</th>\n",
       "      <td>5-12</td>\n",
       "      <td>39</td>\n",
       "      <td>11</td>\n",
       "      <td>124</td>\n",
       "      <td>235</td>\n",
       "      <td>126</td>\n",
       "      <td>499235</td>\n",
       "      <td>4183.0</td>\n",
       "      <td>470</td>\n",
       "      <td>221485</td>\n",
       "      <td>...</td>\n",
       "      <td>103.0</td>\n",
       "      <td>104.0</td>\n",
       "      <td>12.0</td>\n",
       "      <td>28.0</td>\n",
       "      <td>9</td>\n",
       "      <td>8.0</td>\n",
       "      <td>1</td>\n",
       "      <td>1</td>\n",
       "      <td>0.0</td>\n",
       "      <td>105732736</td>\n",
       "    </tr>\n",
       "    <tr>\n",
       "      <th>20090312433251036</th>\n",
       "      <td>0-4</td>\n",
       "      <td>22</td>\n",
       "      <td>6</td>\n",
       "      <td>49</td>\n",
       "      <td>97</td>\n",
       "      <td>61</td>\n",
       "      <td>233752</td>\n",
       "      <td>5567.0</td>\n",
       "      <td>138</td>\n",
       "      <td>0</td>\n",
       "      <td>...</td>\n",
       "      <td>49.0</td>\n",
       "      <td>18.0</td>\n",
       "      <td>36.0</td>\n",
       "      <td>15.0</td>\n",
       "      <td>5</td>\n",
       "      <td>3.0</td>\n",
       "      <td>2</td>\n",
       "      <td>1</td>\n",
       "      <td>2.0</td>\n",
       "      <td>13571045</td>\n",
       "    </tr>\n",
       "    <tr>\n",
       "      <th>20090312433251036</th>\n",
       "      <td>13-22</td>\n",
       "      <td>73</td>\n",
       "      <td>16</td>\n",
       "      <td>183</td>\n",
       "      <td>762</td>\n",
       "      <td>229</td>\n",
       "      <td>3815334</td>\n",
       "      <td>22351.0</td>\n",
       "      <td>1875</td>\n",
       "      <td>1176483</td>\n",
       "      <td>...</td>\n",
       "      <td>637.0</td>\n",
       "      <td>145.0</td>\n",
       "      <td>65.0</td>\n",
       "      <td>83.0</td>\n",
       "      <td>14</td>\n",
       "      <td>45.0</td>\n",
       "      <td>5</td>\n",
       "      <td>1</td>\n",
       "      <td>50.0</td>\n",
       "      <td>3241011333</td>\n",
       "    </tr>\n",
       "  </tbody>\n",
       "</table>\n",
       "<p>5 rows × 32 columns</p>\n",
       "</div>"
      ],
      "text/plain": [
       "                  level_group  fqid_nunique  room_fqid_nunique  text_nunique  \\\n",
       "session_id                                                                     \n",
       "20090312431273200         0-4            30                  7            56   \n",
       "20090312431273200       13-22            49                 12           168   \n",
       "20090312431273200        5-12            39                 11           124   \n",
       "20090312433251036         0-4            22                  6            49   \n",
       "20090312433251036       13-22            73                 16           183   \n",
       "\n",
       "                   fqid_count  text_count  elapsed_time_max  \\\n",
       "session_id                                                    \n",
       "20090312431273200         104          62            194860   \n",
       "20090312431273200         313         196           1272679   \n",
       "20090312431273200         235         126            499235   \n",
       "20090312433251036          97          61            233752   \n",
       "20090312433251036         762         229           3815334   \n",
       "\n",
       "                   hover_duration_max  index_max  elapsed_time_min  ...  \\\n",
       "session_id                                                          ...   \n",
       "20090312431273200              7899.0        164                 0  ...   \n",
       "20090312431273200              4750.0        931            836732  ...   \n",
       "20090312431273200              4183.0        470            221485  ...   \n",
       "20090312433251036              5567.0        138                 0  ...   \n",
       "20090312433251036             22351.0       1875           1176483  ...   \n",
       "\n",
       "                   navigate_click_sum  person_click_sum  cutscene_click_sum  \\\n",
       "session_id                                                                    \n",
       "20090312431273200                81.0              22.0                28.0   \n",
       "20090312431273200               170.0             123.0                60.0   \n",
       "20090312431273200               103.0             104.0                12.0   \n",
       "20090312433251036                49.0              18.0                36.0   \n",
       "20090312433251036               637.0             145.0                65.0   \n",
       "\n",
       "                   object_click_sum  notification_click_sum  map_click_sum  \\\n",
       "session_id                                                                   \n",
       "20090312431273200              11.0                       8            2.0   \n",
       "20090312431273200              20.0                      10            6.0   \n",
       "20090312431273200              28.0                       9            8.0   \n",
       "20090312433251036              15.0                       5            3.0   \n",
       "20090312433251036              83.0                      14           45.0   \n",
       "\n",
       "                   observation_click_sum  checkpoint_sum  notebook_click_sum  \\\n",
       "session_id                                                                     \n",
       "20090312431273200                      4               1                 0.0   \n",
       "20090312431273200                      3               1                 0.0   \n",
       "20090312431273200                      1               1                 0.0   \n",
       "20090312433251036                      2               1                 2.0   \n",
       "20090312433251036                      5               1                50.0   \n",
       "\n",
       "                   elapsed_time_sum  \n",
       "session_id                           \n",
       "20090312431273200          14155937  \n",
       "20090312431273200         437052322  \n",
       "20090312431273200         105732736  \n",
       "20090312433251036          13571045  \n",
       "20090312433251036        3241011333  \n",
       "\n",
       "[5 rows x 32 columns]"
      ]
     },
     "execution_count": 7,
     "metadata": {},
     "output_type": "execute_result"
    }
   ],
   "source": [
    "%%time\n",
    "df = feature_engineer(train)\n",
    "print( df.shape )\n",
    "df.head()"
   ]
  },
  {
   "cell_type": "markdown",
   "id": "7f2cf600",
   "metadata": {
    "papermill": {
     "duration": 0.006829,
     "end_time": "2023-02-18T02:39:05.287065",
     "exception": false,
     "start_time": "2023-02-18T02:39:05.280236",
     "status": "completed"
    },
    "tags": []
   },
   "source": [
    "# Train XGBoost Model\n",
    "We train one model for each of 18 questions. Furthermore, we use data from `level_groups = '0-4'` to train model for questions 1-3, and `level groups '5-12'` to train questions 4 thru 13 and `level groups '13-22'` to train questions 14 thru 18. Because this is the data we get (to predict corresponding questions) from Kaggle's inference API during test inference. We can improve our model by saving a user's previous data from earlier `level_groups` and using that to predict future `level_groups`."
   ]
  },
  {
   "cell_type": "code",
   "execution_count": 8,
   "id": "02c0a468",
   "metadata": {
    "execution": {
     "iopub.execute_input": "2023-02-18T02:39:05.303465Z",
     "iopub.status.busy": "2023-02-18T02:39:05.302714Z",
     "iopub.status.idle": "2023-02-18T02:39:05.312793Z",
     "shell.execute_reply": "2023-02-18T02:39:05.311692Z"
    },
    "papermill": {
     "duration": 0.022041,
     "end_time": "2023-02-18T02:39:05.316077",
     "exception": false,
     "start_time": "2023-02-18T02:39:05.294036",
     "status": "completed"
    },
    "tags": []
   },
   "outputs": [
    {
     "name": "stdout",
     "output_type": "stream",
     "text": [
      "We will train with 31 features\n",
      "We will train with 11779 users info\n"
     ]
    }
   ],
   "source": [
    "FEATURES = [c for c in df.columns if c != 'level_group']\n",
    "print('We will train with', len(FEATURES) ,'features')\n",
    "ALL_USERS = df.index.unique()\n",
    "print('We will train with', len(ALL_USERS) ,'users info')"
   ]
  },
  {
   "cell_type": "markdown",
   "id": "dfad4561",
   "metadata": {
    "papermill": {
     "duration": 0.006835,
     "end_time": "2023-02-18T02:39:05.331125",
     "exception": false,
     "start_time": "2023-02-18T02:39:05.324290",
     "status": "completed"
    },
    "tags": []
   },
   "source": [
    "You can also use grid search and Bayesian optimization methods"
   ]
  },
  {
   "cell_type": "code",
   "execution_count": 9,
   "id": "a19b9794",
   "metadata": {
    "execution": {
     "iopub.execute_input": "2023-02-18T02:39:05.348070Z",
     "iopub.status.busy": "2023-02-18T02:39:05.347185Z",
     "iopub.status.idle": "2023-02-18T02:46:20.220042Z",
     "shell.execute_reply": "2023-02-18T02:46:20.219085Z"
    },
    "papermill": {
     "duration": 434.884649,
     "end_time": "2023-02-18T02:46:20.222914",
     "exception": false,
     "start_time": "2023-02-18T02:39:05.338265",
     "status": "completed"
    },
    "tags": []
   },
   "outputs": [
    {
     "name": "stdout",
     "output_type": "stream",
     "text": [
      " \n",
      "Fold 1\n",
      " \n",
      "1(206), 2(198), 3(210), 4(161), 5(65), 6(65), 7(179), 8(45), 9(166), 10(193), 11(147), 12(56), 13(58), 14(112), 15(145), 16(89), 17(63), 18(218), \n",
      " \n",
      "Fold 2\n",
      " \n",
      "1(250), 2(80), 3(148), 4(136), 5(89), 6(76), 7(167), 8(59), 9(77), 10(105), 11(88), 12(73), 13(103), 14(97), 15(76), 16(46), 17(47), 18(121), \n",
      " \n",
      "Fold 3\n",
      " \n",
      "1(301), 2(87), 3(216), 4(192), 5(71), 6(76), 7(55), 8(32), 9(127), 10(81), 11(130), 12(77), 13(116), 14(72), 15(85), 16(172), 17(118), 18(168), \n",
      " \n",
      "Fold 4\n",
      " \n",
      "1(177), 2(137), 3(90), 4(181), 5(123), 6(122), 7(138), 8(49), 9(37), 10(130), 11(73), 12(68), 13(57), 14(82), 15(114), 16(77), 17(63), 18(101), \n",
      " \n",
      "Fold 5\n",
      " \n",
      "1(245), 2(287), 3(106), 4(187), 5(60), 6(117), 7(114), 8(49), 9(368), 10(83), 11(76), 12(155), 13(60), 14(202), 15(204), 16(109), 17(79), 18(69), \n",
      " \n",
      "Fold 6\n",
      " \n",
      "1(219), 2(106), 3(143), 4(192), 5(133), 6(109), 7(132), 8(159), 9(144), 10(144), 11(56), 12(113), 13(167), 14(170), 15(232), 16(171), 17(59), 18(91), \n",
      " \n",
      "Fold 7\n",
      " \n",
      "1(410), 2(120), 3(189), 4(130), 5(127), 6(79), 7(123), 8(119), 9(125), 10(64), 11(41), 12(67), 13(96), 14(64), 15(38), 16(63), 17(130), 18(75), \n",
      " \n",
      "Fold 8\n",
      " \n",
      "1(275), 2(114), 3(184), 4(176), 5(69), 6(56), 7(94), 8(36), 9(121), 10(30), 11(127), 12(95), 13(79), 14(155), 15(130), 16(142), 17(68), 18(83), \n",
      " \n",
      "Fold 9\n",
      " \n",
      "1(281), 2(103), 3(121), 4(180), 5(144), 6(185), 7(94), 8(95), 9(118), 10(83), 11(60), 12(86), 13(52), 14(102), 15(259), 16(242), 17(54), 18(109), \n",
      " \n",
      "Fold 10\n",
      " \n",
      "1(186), 2(216), 3(149), 4(84), 5(40), 6(105), 7(64), 8(99), 9(115), 10(38), 11(49), 12(115), 13(68), 14(107), 15(205), 16(74), 17(72), 18(76), \n",
      " \n",
      "Fold 11\n",
      " \n",
      "1(173), 2(131), 3(124), 4(129), 5(101), 6(110), 7(71), 8(65), 9(76), 10(90), 11(142), 12(55), 13(111), 14(156), 15(105), 16(53), 17(62), 18(101), \n",
      " \n",
      "Fold 12\n",
      " \n",
      "1(198), 2(83), 3(163), 4(258), 5(84), 6(92), 7(71), 8(43), 9(53), 10(187), 11(55), 12(128), 13(146), 14(162), 15(174), 16(153), 17(70), 18(121), \n",
      " \n",
      "Fold 13\n",
      " \n",
      "1(246), 2(130), 3(142), 4(101), 5(79), 6(52), 7(163), 8(148), 9(97), 10(27), 11(39), 12(72), 13(77), 14(240), 15(239), 16(140), 17(102), 18(83), \n",
      " \n",
      "Fold 14\n",
      " \n",
      "1(199), 2(107), 3(110), 4(70), 5(157), 6(119), 7(139), 8(153), 9(161), 10(145), 11(46), 12(94), 13(67), 14(67), 15(158), 16(44), 17(66), 18(132), \n",
      " \n",
      "Fold 15\n",
      " \n",
      "1(342), 2(302), 3(205), 4(108), 5(85), 6(162), 7(116), 8(63), 9(150), 10(104), 11(36), 12(77), 13(92), 14(93), 15(131), 16(89), 17(81), 18(198), \n",
      " \n",
      "Fold 16\n",
      " \n",
      "1(239), 2(174), 3(79), 4(260), 5(119), 6(111), 7(198), 8(100), 9(165), 10(94), 11(153), 12(138), 13(172), 14(296), 15(99), 16(62), 17(90), 18(211), \n",
      " \n",
      "Fold 17\n",
      " \n",
      "1(196), 2(120), 3(196), 4(74), 5(68), 6(171), 7(83), 8(71), 9(163), 10(79), 11(116), 12(120), 13(111), 14(151), 15(162), 16(176), 17(36), 18(88), \n",
      " \n",
      "Fold 18\n",
      " \n",
      "1(52), 2(258), 3(143), 4(129), 5(26), 6(59), 7(91), 8(77), 9(188), 10(133), 11(57), 12(87), 13(231), 14(149), 15(111), 16(121), 17(43), 18(108), \n",
      " \n",
      "Fold 19\n",
      " \n",
      "1(209), 2(141), 3(120), 4(229), 5(93), 6(319), 7(190), 8(39), 9(55), 10(76), 11(92), 12(116), 13(197), 14(81), 15(140), 16(70), 17(67), 18(191), \n",
      " \n",
      "Fold 20\n",
      " \n",
      "1(121), 2(86), 3(164), 4(128), 5(67), 6(168), 7(87), 8(130), 9(81), 10(88), 11(105), 12(132), 13(137), 14(39), 15(178), 16(144), 17(65), 18(69), \n"
     ]
    }
   ],
   "source": [
    "gkf = GroupKFold(n_splits=20)\n",
    "oof = pd.DataFrame(data=np.zeros((len(ALL_USERS),18)), index=ALL_USERS)\n",
    "models = {}\n",
    "\n",
    "# COMPUTE CV SCORE WITH 5 GROUP K FOLD\n",
    "for i, (train_index, test_index) in enumerate(gkf.split(X=df, groups=df.index)):\n",
    "    print(' ')\n",
    "    print('Fold',i+1)\n",
    "    print(' ')\n",
    "    \n",
    "    xgb_params = {\n",
    "    'objective' : 'binary:logistic',\n",
    "    'eval_metric':'logloss',\n",
    "    'learning_rate': 0.05,\n",
    "    'max_depth': 4,\n",
    "    'n_estimators': 1500,\n",
    "    'early_stopping_rounds': 50,\n",
    "    'tree_method':'hist',\n",
    "    'subsample':0.8,\n",
    "    'colsample_bytree': 0.4,\n",
    "    'use_label_encoder' : False}\n",
    "    \n",
    "    # ITERATE THRU QUESTIONS 1 THRU 18\n",
    "    for t in range(1,19):\n",
    "        \n",
    "        # USE THIS TRAIN DATA WITH THESE QUESTIONS\n",
    "        if t<=3: grp = '0-4'\n",
    "        elif t<=13: grp = '5-12'\n",
    "        elif t<=22: grp = '13-22'\n",
    "            \n",
    "        # TRAIN DATA\n",
    "        train_x = df.iloc[train_index]\n",
    "        train_x = train_x.loc[train_x.level_group == grp]\n",
    "        train_users = train_x.index.values\n",
    "        train_y = targets.loc[targets.q==t].set_index('session').loc[train_users]\n",
    "        \n",
    "        # VALID DATA\n",
    "        valid_x = df.iloc[test_index]\n",
    "        valid_x = valid_x.loc[valid_x.level_group == grp]\n",
    "        valid_users = valid_x.index.values\n",
    "        valid_y = targets.loc[targets.q==t].set_index('session').loc[valid_users]\n",
    "        \n",
    "        # TRAIN MODEL        \n",
    "        clf =  XGBClassifier(**xgb_params)\n",
    "        clf.fit(train_x[FEATURES].astype('float32'), train_y['correct'],\n",
    "                eval_set=[ (valid_x[FEATURES].astype('float32'), valid_y['correct']) ],\n",
    "                verbose=0)\n",
    "        print(f'{t}({clf.best_ntree_limit}), ',end='')\n",
    "        \n",
    "        # SAVE MODEL, PREDICT VALID OOF\n",
    "        models[f'{grp}_{t}'] = clf\n",
    "        oof.loc[valid_users, t-1] = clf.predict_proba(valid_x[FEATURES].astype('float32'))[:,1]\n",
    "        \n",
    "    print()"
   ]
  },
  {
   "cell_type": "markdown",
   "id": "226b4f77",
   "metadata": {
    "papermill": {
     "duration": 0.028668,
     "end_time": "2023-02-18T02:46:20.280495",
     "exception": false,
     "start_time": "2023-02-18T02:46:20.251827",
     "status": "completed"
    },
    "tags": []
   },
   "source": [
    "# Compute CV Score\n",
    "We need to convert prediction probabilities into `1s` and `0s`. The competition metric is F1 Score which is the harmonic mean of precision and recall. Let's find the optimal threshold for `p > threshold` when to predict `1` and when to predict `0` to maximize F1 Score."
   ]
  },
  {
   "cell_type": "code",
   "execution_count": 10,
   "id": "5cfdc54a",
   "metadata": {
    "execution": {
     "iopub.execute_input": "2023-02-18T02:46:20.340766Z",
     "iopub.status.busy": "2023-02-18T02:46:20.339701Z",
     "iopub.status.idle": "2023-02-18T02:46:20.416827Z",
     "shell.execute_reply": "2023-02-18T02:46:20.415867Z"
    },
    "papermill": {
     "duration": 0.110375,
     "end_time": "2023-02-18T02:46:20.419586",
     "exception": false,
     "start_time": "2023-02-18T02:46:20.309211",
     "status": "completed"
    },
    "tags": []
   },
   "outputs": [],
   "source": [
    "# PUT TRUE LABELS INTO DATAFRAME WITH 18 COLUMNS\n",
    "true = oof.copy()\n",
    "for k in range(18):\n",
    "    # GET TRUE LABELS\n",
    "    tmp = targets.loc[targets.q == k+1].set_index('session').loc[ALL_USERS]\n",
    "    true[k] = tmp.correct.values"
   ]
  },
  {
   "cell_type": "code",
   "execution_count": 11,
   "id": "8c2057b6",
   "metadata": {
    "execution": {
     "iopub.execute_input": "2023-02-18T02:46:20.480403Z",
     "iopub.status.busy": "2023-02-18T02:46:20.479668Z",
     "iopub.status.idle": "2023-02-18T02:46:23.803860Z",
     "shell.execute_reply": "2023-02-18T02:46:23.802459Z"
    },
    "papermill": {
     "duration": 3.357735,
     "end_time": "2023-02-18T02:46:23.806812",
     "exception": false,
     "start_time": "2023-02-18T02:46:20.449077",
     "status": "completed"
    },
    "tags": []
   },
   "outputs": [
    {
     "name": "stdout",
     "output_type": "stream",
     "text": [
      "0.40, 0.41, 0.42, 0.43, 0.44, 0.45, 0.46, 0.47, 0.48, 0.49, 0.50, 0.51, 0.52, 0.53, 0.54, 0.55, 0.56, 0.57, 0.58, 0.59, 0.60, 0.61, 0.62, 0.63, 0.64, 0.65, 0.66, 0.67, 0.68, 0.69, 0.70, 0.71, 0.72, 0.73, 0.74, 0.75, 0.76, 0.77, 0.78, 0.79, 0.80, "
     ]
    }
   ],
   "source": [
    "# FIND BEST THRESHOLD TO CONVERT PROBS INTO 1s AND 0s\n",
    "scores = []; thresholds = []\n",
    "best_score = 0; best_threshold = 0\n",
    "\n",
    "for threshold in np.arange(0.4,0.81,0.01):\n",
    "    print(f'{threshold:.02f}, ',end='')\n",
    "    preds = (oof.values.reshape((-1))>threshold).astype('int')\n",
    "    m = f1_score(true.values.reshape((-1)), preds, average='macro')   \n",
    "    scores.append(m)\n",
    "    thresholds.append(threshold)\n",
    "    if m>best_score:\n",
    "        best_score = m\n",
    "        best_threshold = threshold"
   ]
  },
  {
   "cell_type": "code",
   "execution_count": 12,
   "id": "52587e14",
   "metadata": {
    "execution": {
     "iopub.execute_input": "2023-02-18T02:46:23.869963Z",
     "iopub.status.busy": "2023-02-18T02:46:23.869090Z",
     "iopub.status.idle": "2023-02-18T02:46:24.180106Z",
     "shell.execute_reply": "2023-02-18T02:46:24.179137Z"
    },
    "papermill": {
     "duration": 0.346697,
     "end_time": "2023-02-18T02:46:24.182613",
     "exception": false,
     "start_time": "2023-02-18T02:46:23.835916",
     "status": "completed"
    },
    "tags": []
   },
   "outputs": [
    {
     "data": {
      "image/png": "[encoded data removed]",
      "text/plain": [
       "<Figure size 2000x500 with 1 Axes>"
      ]
     },
     "metadata": {},
     "output_type": "display_data"
    }
   ],
   "source": [
    "import matplotlib.pyplot as plt\n",
    "\n",
    "# PLOT THRESHOLD VS. F1_SCORE\n",
    "plt.figure(figsize=(20,5))\n",
    "plt.plot(thresholds,scores,'-o',color='blue')\n",
    "plt.scatter([best_threshold], [best_score], color='blue', s=300, alpha=1)\n",
    "plt.xlabel('Threshold',size=14)\n",
    "plt.ylabel('Validation F1 Score',size=14)\n",
    "plt.title(f'Threshold vs. F1_Score with Best F1_Score = {best_score:.3f} at Best Threshold = {best_threshold:.3}',size=18)\n",
    "plt.show()"
   ]
  },
  {
   "cell_type": "code",
   "execution_count": 13,
   "id": "80c23f2d",
   "metadata": {
    "execution": {
     "iopub.execute_input": "2023-02-18T02:46:24.246210Z",
     "iopub.status.busy": "2023-02-18T02:46:24.245734Z",
     "iopub.status.idle": "2023-02-18T02:46:24.421566Z",
     "shell.execute_reply": "2023-02-18T02:46:24.420510Z"
    },
    "papermill": {
     "duration": 0.211471,
     "end_time": "2023-02-18T02:46:24.424888",
     "exception": false,
     "start_time": "2023-02-18T02:46:24.213417",
     "status": "completed"
    },
    "tags": []
   },
   "outputs": [
    {
     "name": "stdout",
     "output_type": "stream",
     "text": [
      "When using optimal threshold...\n",
      "Q0: F1 = 0.6197877554039982\n",
      "Q1: F1 = 0.4985674586786496\n",
      "Q2: F1 = 0.4883161851366258\n",
      "Q3: F1 = 0.6171113890583693\n",
      "Q4: F1 = 0.5712212029891377\n",
      "Q5: F1 = 0.611246209730208\n",
      "Q6: F1 = 0.6005659976366139\n",
      "Q7: F1 = 0.520123702042622\n",
      "Q8: F1 = 0.6032591703088215\n",
      "Q9: F1 = 0.49512107392050975\n",
      "Q10: F1 = 0.5921726785023027\n",
      "Q11: F1 = 0.5027866194416898\n",
      "Q12: F1 = 0.44049739691502227\n",
      "Q13: F1 = 0.6187999842591747\n",
      "Q14: F1 = 0.49825565262783333\n",
      "Q15: F1 = 0.4698529990025296\n",
      "Q16: F1 = 0.5505469910365791\n",
      "Q17: F1 = 0.4937735575108168\n",
      "==> Overall F1 = 0.6804770559345443\n"
     ]
    }
   ],
   "source": [
    "print('When using optimal threshold...')\n",
    "for k in range(18):\n",
    "        \n",
    "    # COMPUTE F1 SCORE PER QUESTION\n",
    "    m = f1_score(true[k].values, (oof[k].values>best_threshold).astype('int'), average='macro')\n",
    "    print(f'Q{k}: F1 =',m)\n",
    "    \n",
    "# COMPUTE F1 SCORE OVERALL\n",
    "m = f1_score(true.values.reshape((-1)), (oof.values.reshape((-1))>best_threshold).astype('int'), average='macro')\n",
    "print('==> Overall F1 =',m)"
   ]
  },
  {
   "cell_type": "markdown",
   "id": "6914f72f",
   "metadata": {
    "papermill": {
     "duration": 0.03114,
     "end_time": "2023-02-18T02:46:24.488393",
     "exception": false,
     "start_time": "2023-02-18T02:46:24.457253",
     "status": "completed"
    },
    "tags": []
   },
   "source": [
    "# Infer Test Data"
   ]
  },
  {
   "cell_type": "code",
   "execution_count": 14,
   "id": "419ab99b",
   "metadata": {
    "execution": {
     "iopub.execute_input": "2023-02-18T02:46:24.553003Z",
     "iopub.status.busy": "2023-02-18T02:46:24.552157Z",
     "iopub.status.idle": "2023-02-18T02:46:25.132154Z",
     "shell.execute_reply": "2023-02-18T02:46:25.131050Z"
    },
    "papermill": {
     "duration": 0.616257,
     "end_time": "2023-02-18T02:46:25.134821",
     "exception": false,
     "start_time": "2023-02-18T02:46:24.518564",
     "status": "completed"
    },
    "tags": []
   },
   "outputs": [],
   "source": [
    "# IMPORT KAGGLE API\n",
    "import jo_wilder\n",
    "env = jo_wilder.make_env()\n",
    "iter_test = env.iter_test()\n",
    "\n",
    "# CLEAR MEMORY\n",
    "import gc\n",
    "del train, targets, df, oof, true\n",
    "_ = gc.collect()"
   ]
  },
  {
   "cell_type": "code",
   "execution_count": 15,
   "id": "1492ad24",
   "metadata": {
    "execution": {
     "iopub.execute_input": "2023-02-18T02:46:25.199314Z",
     "iopub.status.busy": "2023-02-18T02:46:25.198468Z",
     "iopub.status.idle": "2023-02-18T02:46:26.142365Z",
     "shell.execute_reply": "2023-02-18T02:46:26.141297Z"
    },
    "papermill": {
     "duration": 0.979179,
     "end_time": "2023-02-18T02:46:26.144911",
     "exception": false,
     "start_time": "2023-02-18T02:46:25.165732",
     "status": "completed"
    },
    "tags": []
   },
   "outputs": [
    {
     "name": "stdout",
     "output_type": "stream",
     "text": [
      "This version of the API is not optimized and should not be used to estimate the runtime of your code on the hidden test set.\n"
     ]
    }
   ],
   "source": [
    "limits = {'0-4':(1,4), '5-12':(4,14), '13-22':(14,19)}\n",
    "\n",
    "for (sample_submission, test) in iter_test:\n",
    "    test['room_coor_x'].fillna(0)\n",
    "    test['room_coor_y'].fillna(0)\n",
    "    test['screen_coor_y'].fillna(0)\n",
    "    test['screen_coor_x'].fillna(0)\n",
    "    test['hover_duration'].fillna(0)\n",
    "    test['page'].fillna(-1)\n",
    "    # FEATURE ENGINEER TEST DATA\n",
    "    df = feature_engineer(test)\n",
    "    \n",
    "    # INFER TEST DATA\n",
    "    grp = test.level_group.values[0]\n",
    "    a,b = limits[grp]\n",
    "    for t in range(a,b):\n",
    "        clf = models[f'{grp}_{t}']\n",
    "        p = clf.predict_proba(df[FEATURES].astype('float32'))[:,1]\n",
    "        mask = sample_submission.session_id.str.contains(f'q{t}')\n",
    "        sample_submission.loc[mask,'correct'] = int(p.item()>best_threshold)\n",
    "    \n",
    "    env.predict(sample_submission)"
   ]
  },
  {
   "cell_type": "markdown",
   "id": "25ef3628",
   "metadata": {
    "papermill": {
     "duration": 0.030181,
     "end_time": "2023-02-18T02:46:26.205747",
     "exception": false,
     "start_time": "2023-02-18T02:46:26.175566",
     "status": "completed"
    },
    "tags": []
   },
   "source": [
    "# EDA submission.csv"
   ]
  },
  {
   "cell_type": "code",
   "execution_count": 16,
   "id": "23c5c499",
   "metadata": {
    "execution": {
     "iopub.execute_input": "2023-02-18T02:46:26.268839Z",
     "iopub.status.busy": "2023-02-18T02:46:26.267737Z",
     "iopub.status.idle": "2023-02-18T02:46:26.281612Z",
     "shell.execute_reply": "2023-02-18T02:46:26.280736Z"
    },
    "papermill": {
     "duration": 0.04762,
     "end_time": "2023-02-18T02:46:26.283592",
     "exception": false,
     "start_time": "2023-02-18T02:46:26.235972",
     "status": "completed"
    },
    "tags": []
   },
   "outputs": [
    {
     "name": "stdout",
     "output_type": "stream",
     "text": [
      "(54, 2)\n"
     ]
    },
    {
     "data": {
      "text/html": [
       "<div>\n",
       "<style scoped>\n",
       "    .dataframe tbody tr th:only-of-type {\n",
       "        vertical-align: middle;\n",
       "    }\n",
       "\n",
       "    .dataframe tbody tr th {\n",
       "        vertical-align: top;\n",
       "    }\n",
       "\n",
       "    .dataframe thead th {\n",
       "        text-align: right;\n",
       "    }\n",
       "</style>\n",
       "<table border=\"1\" class=\"dataframe\">\n",
       "  <thead>\n",
       "    <tr style=\"text-align: right;\">\n",
       "      <th></th>\n",
       "      <th>session_id</th>\n",
       "      <th>correct</th>\n",
       "    </tr>\n",
       "  </thead>\n",
       "  <tbody>\n",
       "    <tr>\n",
       "      <th>0</th>\n",
       "      <td>20090109393214576_q1</td>\n",
       "      <td>1</td>\n",
       "    </tr>\n",
       "    <tr>\n",
       "      <th>1</th>\n",
       "      <td>20090109393214576_q2</td>\n",
       "      <td>1</td>\n",
       "    </tr>\n",
       "    <tr>\n",
       "      <th>2</th>\n",
       "      <td>20090109393214576_q3</td>\n",
       "      <td>1</td>\n",
       "    </tr>\n",
       "    <tr>\n",
       "      <th>3</th>\n",
       "      <td>20090312143683264_q1</td>\n",
       "      <td>1</td>\n",
       "    </tr>\n",
       "    <tr>\n",
       "      <th>4</th>\n",
       "      <td>20090312143683264_q2</td>\n",
       "      <td>1</td>\n",
       "    </tr>\n",
       "  </tbody>\n",
       "</table>\n",
       "</div>"
      ],
      "text/plain": [
       "             session_id  correct\n",
       "0  20090109393214576_q1        1\n",
       "1  20090109393214576_q2        1\n",
       "2  20090109393214576_q3        1\n",
       "3  20090312143683264_q1        1\n",
       "4  20090312143683264_q2        1"
      ]
     },
     "execution_count": 16,
     "metadata": {},
     "output_type": "execute_result"
    }
   ],
   "source": [
    "df = pd.read_csv('submission.csv')\n",
    "print( df.shape )\n",
    "df.head()"
   ]
  },
  {
   "cell_type": "code",
   "execution_count": 17,
   "id": "f914bd1a",
   "metadata": {
    "execution": {
     "iopub.execute_input": "2023-02-18T02:46:26.347538Z",
     "iopub.status.busy": "2023-02-18T02:46:26.346642Z",
     "iopub.status.idle": "2023-02-18T02:46:26.353875Z",
     "shell.execute_reply": "2023-02-18T02:46:26.352075Z"
    },
    "papermill": {
     "duration": 0.043111,
     "end_time": "2023-02-18T02:46:26.357498",
     "exception": false,
     "start_time": "2023-02-18T02:46:26.314387",
     "status": "completed"
    },
    "tags": []
   },
   "outputs": [
    {
     "name": "stdout",
     "output_type": "stream",
     "text": [
      "0.5555555555555556\n"
     ]
    }
   ],
   "source": [
    "print(df.correct.mean())"
   ]
  },
  {
   "cell_type": "code",
   "execution_count": null,
   "id": "4cc9154d",
   "metadata": {
    "papermill": {
     "duration": 0.030264,
     "end_time": "2023-02-18T02:46:26.418561",
     "exception": false,
     "start_time": "2023-02-18T02:46:26.388297",
     "status": "completed"
    },
    "tags": []
   },
   "outputs": [],
   "source": []
  }
 ],
 "metadata": {
  "kernelspec": {
   "display_name": "Python 3",
   "language": "python",
   "name": "python3"
  },
  "language_info": {
   "codemirror_mode": {
    "name": "ipython",
    "version": 3
   },
   "file_extension": ".py",
   "mimetype": "text/x-python",
   "name": "python",
   "nbconvert_exporter": "python",
   "pygments_lexer": "ipython3",
   "version": "3.7.12"
  },
  "papermill": {
   "default_parameters": {},
   "duration": 604.168275,
   "end_time": "2023-02-18T02:46:27.776893",
   "environment_variables": {},
   "exception": null,
   "input_path": "__notebook__.ipynb",
   "output_path": "__notebook__.ipynb",
   "parameters": {},
   "start_time": "2023-02-18T02:36:23.608618",
   "version": "2.3.4"
  }
 },
 "nbformat": 4,
 "nbformat_minor": 5
}
