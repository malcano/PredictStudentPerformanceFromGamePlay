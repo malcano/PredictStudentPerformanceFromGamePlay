{
 "cells": [
  {
   "cell_type": "markdown",
   "id": "5164e4fd",
   "metadata": {
    "papermill": {
     "duration": 0.006798,
     "end_time": "2023-02-17T16:01:07.344033",
     "exception": false,
     "start_time": "2023-02-17T16:01:07.337235",
     "status": "completed"
    },
    "tags": []
   },
   "source": [
    "This is a modified Version of Chris's notebook:https://www.kaggle.com/code/cdeotte/xgboost-baseline-0-676"
   ]
  },
  {
   "cell_type": "code",
   "execution_count": 1,
   "id": "f1b58c7e",
   "metadata": {
    "execution": {
     "iopub.execute_input": "2023-02-17T16:01:07.357284Z",
     "iopub.status.busy": "2023-02-17T16:01:07.356555Z",
     "iopub.status.idle": "2023-02-17T16:01:09.450742Z",
     "shell.execute_reply": "2023-02-17T16:01:09.449912Z"
    },
    "papermill": {
     "duration": 2.103211,
     "end_time": "2023-02-17T16:01:09.453124",
     "exception": false,
     "start_time": "2023-02-17T16:01:07.349913",
     "status": "completed"
    },
    "tags": []
   },
   "outputs": [
    {
     "data": {
      "text/html": [
       "<style type='text/css'>\n",
       ".datatable table.frame { margin-bottom: 0; }\n",
       ".datatable table.frame thead { border-bottom: none; }\n",
       ".datatable table.frame tr.coltypes td {  color: #FFFFFF;  line-height: 6px;  padding: 0 0.5em;}\n",
       ".datatable .bool    { background: #DDDD99; }\n",
       ".datatable .object  { background: #565656; }\n",
       ".datatable .int     { background: #5D9E5D; }\n",
       ".datatable .float   { background: #4040CC; }\n",
       ".datatable .str     { background: #CC4040; }\n",
       ".datatable .time    { background: #40CC40; }\n",
       ".datatable .row_index {  background: var(--jp-border-color3);  border-right: 1px solid var(--jp-border-color0);  color: var(--jp-ui-font-color3);  font-size: 9px;}\n",
       ".datatable .frame tbody td { text-align: left; }\n",
       ".datatable .frame tr.coltypes .row_index {  background: var(--jp-border-color0);}\n",
       ".datatable th:nth-child(2) { padding-left: 12px; }\n",
       ".datatable .hellipsis {  color: var(--jp-cell-editor-border-color);}\n",
       ".datatable .vellipsis {  background: var(--jp-layout-color0);  color: var(--jp-cell-editor-border-color);}\n",
       ".datatable .na {  color: var(--jp-cell-editor-border-color);  font-size: 80%;}\n",
       ".datatable .sp {  opacity: 0.25;}\n",
       ".datatable .footer { font-size: 9px; }\n",
       ".datatable .frame_dimensions {  background: var(--jp-border-color3);  border-top: 1px solid var(--jp-border-color0);  color: var(--jp-ui-font-color3);  display: inline-block;  opacity: 0.6;  padding: 1px 10px 1px 5px;}\n",
       "</style>\n"
      ],
      "text/plain": [
       "<IPython.core.display.HTML object>"
      ]
     },
     "metadata": {},
     "output_type": "display_data"
    }
   ],
   "source": [
    "import pandas as pd, numpy as np\n",
    "from sklearn.model_selection import KFold, GroupKFold\n",
    "from xgboost import XGBClassifier\n",
    "import lightgbm as lgb\n",
    "from sklearn.metrics import f1_score"
   ]
  },
  {
   "cell_type": "markdown",
   "id": "a0f7062e",
   "metadata": {
    "papermill": {
     "duration": 0.005406,
     "end_time": "2023-02-17T16:01:09.464559",
     "exception": false,
     "start_time": "2023-02-17T16:01:09.459153",
     "status": "completed"
    },
    "tags": []
   },
   "source": [
    "# Load Train Data and Labels"
   ]
  },
  {
   "cell_type": "code",
   "execution_count": 2,
   "id": "0bc496b4",
   "metadata": {
    "execution": {
     "iopub.execute_input": "2023-02-17T16:01:09.477940Z",
     "iopub.status.busy": "2023-02-17T16:01:09.477262Z",
     "iopub.status.idle": "2023-02-17T16:02:13.114681Z",
     "shell.execute_reply": "2023-02-17T16:02:13.113656Z"
    },
    "papermill": {
     "duration": 63.647097,
     "end_time": "2023-02-17T16:02:13.117300",
     "exception": false,
     "start_time": "2023-02-17T16:01:09.470203",
     "status": "completed"
    },
    "tags": []
   },
   "outputs": [],
   "source": [
    "train = pd.read_csv('/kaggle/input/predict-student-performance-from-game-play/train.csv')"
   ]
  },
  {
   "cell_type": "code",
   "execution_count": 3,
   "id": "e16eef32",
   "metadata": {
    "execution": {
     "iopub.execute_input": "2023-02-17T16:02:13.131600Z",
     "iopub.status.busy": "2023-02-17T16:02:13.130705Z",
     "iopub.status.idle": "2023-02-17T16:02:13.715114Z",
     "shell.execute_reply": "2023-02-17T16:02:13.714119Z"
    },
    "papermill": {
     "duration": 0.593918,
     "end_time": "2023-02-17T16:02:13.717461",
     "exception": false,
     "start_time": "2023-02-17T16:02:13.123543",
     "status": "completed"
    },
    "tags": []
   },
   "outputs": [],
   "source": [
    "train['room_coor_x'] = train['room_coor_x'].fillna(0)\n",
    "train['room_coor_y'] = train['room_coor_y'].fillna(0)\n",
    "train['screen_coor_x'] = train['screen_coor_x'].fillna(0)\n",
    "train['screen_coor_y'] = train['screen_coor_y'].fillna(0)\n",
    "train['hover_duration'] = train['hover_duration'].fillna(0)\n",
    "train['page'] = train['page'].fillna(-1)"
   ]
  },
  {
   "cell_type": "code",
   "execution_count": 4,
   "id": "49293c29",
   "metadata": {
    "execution": {
     "iopub.execute_input": "2023-02-17T16:02:13.731007Z",
     "iopub.status.busy": "2023-02-17T16:02:13.730175Z",
     "iopub.status.idle": "2023-02-17T16:02:14.339924Z",
     "shell.execute_reply": "2023-02-17T16:02:14.338211Z"
    },
    "papermill": {
     "duration": 0.619152,
     "end_time": "2023-02-17T16:02:14.342402",
     "exception": false,
     "start_time": "2023-02-17T16:02:13.723250",
     "status": "completed"
    },
    "tags": []
   },
   "outputs": [
    {
     "name": "stdout",
     "output_type": "stream",
     "text": [
      "(212022, 4)\n"
     ]
    },
    {
     "data": {
      "text/html": [
       "<div>\n",
       "<style scoped>\n",
       "    .dataframe tbody tr th:only-of-type {\n",
       "        vertical-align: middle;\n",
       "    }\n",
       "\n",
       "    .dataframe tbody tr th {\n",
       "        vertical-align: top;\n",
       "    }\n",
       "\n",
       "    .dataframe thead th {\n",
       "        text-align: right;\n",
       "    }\n",
       "</style>\n",
       "<table border=\"1\" class=\"dataframe\">\n",
       "  <thead>\n",
       "    <tr style=\"text-align: right;\">\n",
       "      <th></th>\n",
       "      <th>session_id</th>\n",
       "      <th>correct</th>\n",
       "      <th>session</th>\n",
       "      <th>q</th>\n",
       "    </tr>\n",
       "  </thead>\n",
       "  <tbody>\n",
       "    <tr>\n",
       "      <th>0</th>\n",
       "      <td>20090312431273200_q1</td>\n",
       "      <td>1</td>\n",
       "      <td>20090312431273200</td>\n",
       "      <td>1</td>\n",
       "    </tr>\n",
       "    <tr>\n",
       "      <th>1</th>\n",
       "      <td>20090312433251036_q1</td>\n",
       "      <td>0</td>\n",
       "      <td>20090312433251036</td>\n",
       "      <td>1</td>\n",
       "    </tr>\n",
       "    <tr>\n",
       "      <th>2</th>\n",
       "      <td>20090314121766812_q1</td>\n",
       "      <td>1</td>\n",
       "      <td>20090314121766812</td>\n",
       "      <td>1</td>\n",
       "    </tr>\n",
       "    <tr>\n",
       "      <th>3</th>\n",
       "      <td>20090314363702160_q1</td>\n",
       "      <td>1</td>\n",
       "      <td>20090314363702160</td>\n",
       "      <td>1</td>\n",
       "    </tr>\n",
       "    <tr>\n",
       "      <th>4</th>\n",
       "      <td>20090314441803444_q1</td>\n",
       "      <td>1</td>\n",
       "      <td>20090314441803444</td>\n",
       "      <td>1</td>\n",
       "    </tr>\n",
       "  </tbody>\n",
       "</table>\n",
       "</div>"
      ],
      "text/plain": [
       "             session_id  correct            session  q\n",
       "0  20090312431273200_q1        1  20090312431273200  1\n",
       "1  20090312433251036_q1        0  20090312433251036  1\n",
       "2  20090314121766812_q1        1  20090314121766812  1\n",
       "3  20090314363702160_q1        1  20090314363702160  1\n",
       "4  20090314441803444_q1        1  20090314441803444  1"
      ]
     },
     "execution_count": 4,
     "metadata": {},
     "output_type": "execute_result"
    }
   ],
   "source": [
    "targets = pd.read_csv('/kaggle/input/predict-student-performance-from-game-play/train_labels.csv')\n",
    "targets['session'] = targets.session_id.apply(lambda x: int(x.split('_')[0]) )\n",
    "targets['q'] = targets.session_id.apply(lambda x: int(x.split('_')[-1][1:]) )\n",
    "print( targets.shape )\n",
    "targets.head()"
   ]
  },
  {
   "cell_type": "markdown",
   "id": "1baa0029",
   "metadata": {
    "papermill": {
     "duration": 0.006458,
     "end_time": "2023-02-17T16:02:14.355132",
     "exception": false,
     "start_time": "2023-02-17T16:02:14.348674",
     "status": "completed"
    },
    "tags": []
   },
   "source": [
    "# Feature Engineer\n",
    "We create basic aggregate features. Try creating more features to boost CV and LB! The idea for EVENTS feature is from [here][1]\n",
    "\n",
    "[1]: https://www.kaggle.com/code/kimtaehun/lightgbm-baseline-with-aggregated-log-data"
   ]
  },
  {
   "cell_type": "code",
   "execution_count": 5,
   "id": "9a27ef7b",
   "metadata": {
    "execution": {
     "iopub.execute_input": "2023-02-17T16:02:14.369136Z",
     "iopub.status.busy": "2023-02-17T16:02:14.368451Z",
     "iopub.status.idle": "2023-02-17T16:02:14.374029Z",
     "shell.execute_reply": "2023-02-17T16:02:14.373273Z"
    },
    "papermill": {
     "duration": 0.014789,
     "end_time": "2023-02-17T16:02:14.375968",
     "exception": false,
     "start_time": "2023-02-17T16:02:14.361179",
     "status": "completed"
    },
    "tags": []
   },
   "outputs": [],
   "source": [
    "NUNIQUE = ['event_name','fqid', 'room_fqid', 'text']\n",
    "MMS = ['elapsed_time', 'hover_duration','index'] # mean,std\n",
    "MEAN = ['level','page']\n",
    "STD = ['room_coor_x', 'room_coor_y','screen_coor_x','screen_coor_y']\n",
    "EVENTS = ['navigate_click','person_click','cutscene_click','object_click',\n",
    "          'map_hover','notification_click','map_click','observation_click',\n",
    "          'checkpoint']\n",
    "SUM = ['index']"
   ]
  },
  {
   "cell_type": "code",
   "execution_count": 6,
   "id": "c83655de",
   "metadata": {
    "execution": {
     "iopub.execute_input": "2023-02-17T16:02:14.389991Z",
     "iopub.status.busy": "2023-02-17T16:02:14.389130Z",
     "iopub.status.idle": "2023-02-17T16:02:14.401761Z",
     "shell.execute_reply": "2023-02-17T16:02:14.400972Z"
    },
    "papermill": {
     "duration": 0.021863,
     "end_time": "2023-02-17T16:02:14.403828",
     "exception": false,
     "start_time": "2023-02-17T16:02:14.381965",
     "status": "completed"
    },
    "tags": []
   },
   "outputs": [],
   "source": [
    "def feature_engineer(train):\n",
    "    dfs = []\n",
    "    for c in NUNIQUE:\n",
    "        tmp = train.groupby(['session_id','level_group'])[c].agg('nunique')\n",
    "        tmp.name = tmp.name + '_nunique'\n",
    "        dfs.append(tmp)\n",
    "    # for c in MMS:\n",
    "    #     tmp = train.groupby(['session_id','level_group'])[c].agg('mean')\n",
    "    #     tmp.name = tmp.name + '_mean'\n",
    "    #     dfs.append(tmp)\n",
    "    for c in MMS:\n",
    "        tmp = train.groupby(['session_id','level_group'])[c].agg('max')\n",
    "        tmp.name = tmp.name + '_max'\n",
    "        dfs.append(tmp)\n",
    "    for c in MMS:\n",
    "        tmp = train.groupby(['session_id','level_group'])[c].agg('min')\n",
    "        tmp.name = tmp.name + '_min'\n",
    "        dfs.append(tmp)\n",
    "    for c in MMS:\n",
    "        tmp = train.groupby(['session_id','level_group'])[c].agg('std')\n",
    "        tmp.name = tmp.name + '_std'\n",
    "        dfs.append(tmp)\n",
    "    for c in MEAN:\n",
    "        tmp = train.groupby(['session_id','level_group'])[c].agg('mean')\n",
    "        tmp.name = tmp.name + '_mean'\n",
    "        dfs.append(tmp)\n",
    "    for c in STD:\n",
    "        tmp = train.groupby(['session_id','level_group'])[c].agg('std')\n",
    "        tmp.name = tmp.name + '_std'\n",
    "        dfs.append(tmp)\n",
    "    for c in SUM:\n",
    "        tmp = train.groupby(['session_id','level_group'])[c].agg('sum')\n",
    "        tmp.name = tmp.name + '_sum'\n",
    "        dfs.append(tmp)\n",
    "    for c in EVENTS:\n",
    "        train[c] = (train.event_name == c).astype('int8')\n",
    "    for c in EVENTS + ['elapsed_time']:\n",
    "        tmp = train.groupby(['session_id','level_group'])[c].agg('sum')\n",
    "        tmp.name = tmp.name + '_sum'\n",
    "        dfs.append(tmp)\n",
    "    train = train.drop(EVENTS,axis=1)\n",
    "    df = pd.concat(dfs,axis=1)\n",
    "    # df = df.fillna(-1)\n",
    "    df = df.reset_index()\n",
    "    df = df.set_index('session_id')\n",
    "    return df"
   ]
  },
  {
   "cell_type": "code",
   "execution_count": 7,
   "id": "6ae2a04c",
   "metadata": {
    "execution": {
     "iopub.execute_input": "2023-02-17T16:02:14.418150Z",
     "iopub.status.busy": "2023-02-17T16:02:14.417457Z",
     "iopub.status.idle": "2023-02-17T16:03:14.697440Z",
     "shell.execute_reply": "2023-02-17T16:03:14.696652Z"
    },
    "papermill": {
     "duration": 60.296336,
     "end_time": "2023-02-17T16:03:14.706338",
     "exception": false,
     "start_time": "2023-02-17T16:02:14.410002",
     "status": "completed"
    },
    "tags": []
   },
   "outputs": [
    {
     "name": "stdout",
     "output_type": "stream",
     "text": [
      "(35337, 31)\n",
      "CPU times: user 59.3 s, sys: 969 ms, total: 1min\n",
      "Wall time: 1min\n"
     ]
    },
    {
     "data": {
      "text/html": [
       "<div>\n",
       "<style scoped>\n",
       "    .dataframe tbody tr th:only-of-type {\n",
       "        vertical-align: middle;\n",
       "    }\n",
       "\n",
       "    .dataframe tbody tr th {\n",
       "        vertical-align: top;\n",
       "    }\n",
       "\n",
       "    .dataframe thead th {\n",
       "        text-align: right;\n",
       "    }\n",
       "</style>\n",
       "<table border=\"1\" class=\"dataframe\">\n",
       "  <thead>\n",
       "    <tr style=\"text-align: right;\">\n",
       "      <th></th>\n",
       "      <th>level_group</th>\n",
       "      <th>event_name_nunique</th>\n",
       "      <th>fqid_nunique</th>\n",
       "      <th>room_fqid_nunique</th>\n",
       "      <th>text_nunique</th>\n",
       "      <th>elapsed_time_max</th>\n",
       "      <th>hover_duration_max</th>\n",
       "      <th>index_max</th>\n",
       "      <th>elapsed_time_min</th>\n",
       "      <th>hover_duration_min</th>\n",
       "      <th>...</th>\n",
       "      <th>navigate_click_sum</th>\n",
       "      <th>person_click_sum</th>\n",
       "      <th>cutscene_click_sum</th>\n",
       "      <th>object_click_sum</th>\n",
       "      <th>map_hover_sum</th>\n",
       "      <th>notification_click_sum</th>\n",
       "      <th>map_click_sum</th>\n",
       "      <th>observation_click_sum</th>\n",
       "      <th>checkpoint_sum</th>\n",
       "      <th>elapsed_time_sum</th>\n",
       "    </tr>\n",
       "    <tr>\n",
       "      <th>session_id</th>\n",
       "      <th></th>\n",
       "      <th></th>\n",
       "      <th></th>\n",
       "      <th></th>\n",
       "      <th></th>\n",
       "      <th></th>\n",
       "      <th></th>\n",
       "      <th></th>\n",
       "      <th></th>\n",
       "      <th></th>\n",
       "      <th></th>\n",
       "      <th></th>\n",
       "      <th></th>\n",
       "      <th></th>\n",
       "      <th></th>\n",
       "      <th></th>\n",
       "      <th></th>\n",
       "      <th></th>\n",
       "      <th></th>\n",
       "      <th></th>\n",
       "      <th></th>\n",
       "    </tr>\n",
       "  </thead>\n",
       "  <tbody>\n",
       "    <tr>\n",
       "      <th>20090312431273200</th>\n",
       "      <td>0-4</td>\n",
       "      <td>10</td>\n",
       "      <td>30</td>\n",
       "      <td>7</td>\n",
       "      <td>56</td>\n",
       "      <td>194860</td>\n",
       "      <td>7899.0</td>\n",
       "      <td>164</td>\n",
       "      <td>0</td>\n",
       "      <td>0.0</td>\n",
       "      <td>...</td>\n",
       "      <td>81.0</td>\n",
       "      <td>22.0</td>\n",
       "      <td>28.0</td>\n",
       "      <td>11.0</td>\n",
       "      <td>4.0</td>\n",
       "      <td>8</td>\n",
       "      <td>2.0</td>\n",
       "      <td>4</td>\n",
       "      <td>1</td>\n",
       "      <td>14155937</td>\n",
       "    </tr>\n",
       "    <tr>\n",
       "      <th>20090312431273200</th>\n",
       "      <td>13-22</td>\n",
       "      <td>10</td>\n",
       "      <td>49</td>\n",
       "      <td>12</td>\n",
       "      <td>168</td>\n",
       "      <td>1272679</td>\n",
       "      <td>4750.0</td>\n",
       "      <td>931</td>\n",
       "      <td>836732</td>\n",
       "      <td>0.0</td>\n",
       "      <td>...</td>\n",
       "      <td>170.0</td>\n",
       "      <td>123.0</td>\n",
       "      <td>60.0</td>\n",
       "      <td>20.0</td>\n",
       "      <td>14.0</td>\n",
       "      <td>10</td>\n",
       "      <td>6.0</td>\n",
       "      <td>3</td>\n",
       "      <td>1</td>\n",
       "      <td>437052322</td>\n",
       "    </tr>\n",
       "    <tr>\n",
       "      <th>20090312431273200</th>\n",
       "      <td>5-12</td>\n",
       "      <td>10</td>\n",
       "      <td>39</td>\n",
       "      <td>11</td>\n",
       "      <td>124</td>\n",
       "      <td>499235</td>\n",
       "      <td>4183.0</td>\n",
       "      <td>470</td>\n",
       "      <td>221485</td>\n",
       "      <td>0.0</td>\n",
       "      <td>...</td>\n",
       "      <td>103.0</td>\n",
       "      <td>104.0</td>\n",
       "      <td>12.0</td>\n",
       "      <td>28.0</td>\n",
       "      <td>9.0</td>\n",
       "      <td>9</td>\n",
       "      <td>8.0</td>\n",
       "      <td>1</td>\n",
       "      <td>1</td>\n",
       "      <td>105732736</td>\n",
       "    </tr>\n",
       "    <tr>\n",
       "      <th>20090312433251036</th>\n",
       "      <td>0-4</td>\n",
       "      <td>11</td>\n",
       "      <td>22</td>\n",
       "      <td>6</td>\n",
       "      <td>49</td>\n",
       "      <td>233752</td>\n",
       "      <td>5567.0</td>\n",
       "      <td>138</td>\n",
       "      <td>0</td>\n",
       "      <td>0.0</td>\n",
       "      <td>...</td>\n",
       "      <td>49.0</td>\n",
       "      <td>18.0</td>\n",
       "      <td>36.0</td>\n",
       "      <td>15.0</td>\n",
       "      <td>3.0</td>\n",
       "      <td>5</td>\n",
       "      <td>3.0</td>\n",
       "      <td>2</td>\n",
       "      <td>1</td>\n",
       "      <td>13571045</td>\n",
       "    </tr>\n",
       "    <tr>\n",
       "      <th>20090312433251036</th>\n",
       "      <td>13-22</td>\n",
       "      <td>11</td>\n",
       "      <td>73</td>\n",
       "      <td>16</td>\n",
       "      <td>183</td>\n",
       "      <td>3815334</td>\n",
       "      <td>22351.0</td>\n",
       "      <td>1875</td>\n",
       "      <td>1176483</td>\n",
       "      <td>0.0</td>\n",
       "      <td>...</td>\n",
       "      <td>637.0</td>\n",
       "      <td>145.0</td>\n",
       "      <td>65.0</td>\n",
       "      <td>83.0</td>\n",
       "      <td>186.0</td>\n",
       "      <td>14</td>\n",
       "      <td>45.0</td>\n",
       "      <td>5</td>\n",
       "      <td>1</td>\n",
       "      <td>3241011333</td>\n",
       "    </tr>\n",
       "  </tbody>\n",
       "</table>\n",
       "<p>5 rows × 31 columns</p>\n",
       "</div>"
      ],
      "text/plain": [
       "                  level_group  event_name_nunique  fqid_nunique  \\\n",
       "session_id                                                        \n",
       "20090312431273200         0-4                  10            30   \n",
       "20090312431273200       13-22                  10            49   \n",
       "20090312431273200        5-12                  10            39   \n",
       "20090312433251036         0-4                  11            22   \n",
       "20090312433251036       13-22                  11            73   \n",
       "\n",
       "                   room_fqid_nunique  text_nunique  elapsed_time_max  \\\n",
       "session_id                                                             \n",
       "20090312431273200                  7            56            194860   \n",
       "20090312431273200                 12           168           1272679   \n",
       "20090312431273200                 11           124            499235   \n",
       "20090312433251036                  6            49            233752   \n",
       "20090312433251036                 16           183           3815334   \n",
       "\n",
       "                   hover_duration_max  index_max  elapsed_time_min  \\\n",
       "session_id                                                           \n",
       "20090312431273200              7899.0        164                 0   \n",
       "20090312431273200              4750.0        931            836732   \n",
       "20090312431273200              4183.0        470            221485   \n",
       "20090312433251036              5567.0        138                 0   \n",
       "20090312433251036             22351.0       1875           1176483   \n",
       "\n",
       "                   hover_duration_min  ...  navigate_click_sum  \\\n",
       "session_id                             ...                       \n",
       "20090312431273200                 0.0  ...                81.0   \n",
       "20090312431273200                 0.0  ...               170.0   \n",
       "20090312431273200                 0.0  ...               103.0   \n",
       "20090312433251036                 0.0  ...                49.0   \n",
       "20090312433251036                 0.0  ...               637.0   \n",
       "\n",
       "                   person_click_sum  cutscene_click_sum  object_click_sum  \\\n",
       "session_id                                                                  \n",
       "20090312431273200              22.0                28.0              11.0   \n",
       "20090312431273200             123.0                60.0              20.0   \n",
       "20090312431273200             104.0                12.0              28.0   \n",
       "20090312433251036              18.0                36.0              15.0   \n",
       "20090312433251036             145.0                65.0              83.0   \n",
       "\n",
       "                   map_hover_sum  notification_click_sum  map_click_sum  \\\n",
       "session_id                                                                \n",
       "20090312431273200            4.0                       8            2.0   \n",
       "20090312431273200           14.0                      10            6.0   \n",
       "20090312431273200            9.0                       9            8.0   \n",
       "20090312433251036            3.0                       5            3.0   \n",
       "20090312433251036          186.0                      14           45.0   \n",
       "\n",
       "                   observation_click_sum  checkpoint_sum  elapsed_time_sum  \n",
       "session_id                                                                  \n",
       "20090312431273200                      4               1          14155937  \n",
       "20090312431273200                      3               1         437052322  \n",
       "20090312431273200                      1               1         105732736  \n",
       "20090312433251036                      2               1          13571045  \n",
       "20090312433251036                      5               1        3241011333  \n",
       "\n",
       "[5 rows x 31 columns]"
      ]
     },
     "execution_count": 7,
     "metadata": {},
     "output_type": "execute_result"
    }
   ],
   "source": [
    "%%time\n",
    "df = feature_engineer(train)\n",
    "print( df.shape )\n",
    "df.head()"
   ]
  },
  {
   "cell_type": "markdown",
   "id": "7a1fe04a",
   "metadata": {
    "papermill": {
     "duration": 0.007201,
     "end_time": "2023-02-17T16:03:14.720157",
     "exception": false,
     "start_time": "2023-02-17T16:03:14.712956",
     "status": "completed"
    },
    "tags": []
   },
   "source": [
    "# Train XGBoost Model\n",
    "We train one model for each of 18 questions. Furthermore, we use data from `level_groups = '0-4'` to train model for questions 1-3, and `level groups '5-12'` to train questions 4 thru 13 and `level groups '13-22'` to train questions 14 thru 18. Because this is the data we get (to predict corresponding questions) from Kaggle's inference API during test inference. We can improve our model by saving a user's previous data from earlier `level_groups` and using that to predict future `level_groups`."
   ]
  },
  {
   "cell_type": "code",
   "execution_count": 8,
   "id": "04a3ed46",
   "metadata": {
    "execution": {
     "iopub.execute_input": "2023-02-17T16:03:14.735143Z",
     "iopub.status.busy": "2023-02-17T16:03:14.734162Z",
     "iopub.status.idle": "2023-02-17T16:03:14.742643Z",
     "shell.execute_reply": "2023-02-17T16:03:14.741872Z"
    },
    "papermill": {
     "duration": 0.018262,
     "end_time": "2023-02-17T16:03:14.744741",
     "exception": false,
     "start_time": "2023-02-17T16:03:14.726479",
     "status": "completed"
    },
    "tags": []
   },
   "outputs": [
    {
     "name": "stdout",
     "output_type": "stream",
     "text": [
      "We will train with 30 features\n",
      "We will train with 11779 users info\n"
     ]
    }
   ],
   "source": [
    "FEATURES = [c for c in df.columns if c != 'level_group']\n",
    "print('We will train with', len(FEATURES) ,'features')\n",
    "ALL_USERS = df.index.unique()\n",
    "print('We will train with', len(ALL_USERS) ,'users info')"
   ]
  },
  {
   "cell_type": "markdown",
   "id": "3a61ce58",
   "metadata": {
    "papermill": {
     "duration": 0.006248,
     "end_time": "2023-02-17T16:03:14.757586",
     "exception": false,
     "start_time": "2023-02-17T16:03:14.751338",
     "status": "completed"
    },
    "tags": []
   },
   "source": [
    "You can also use grid search and Bayesian optimization methods"
   ]
  },
  {
   "cell_type": "code",
   "execution_count": 9,
   "id": "3850d9c0",
   "metadata": {
    "execution": {
     "iopub.execute_input": "2023-02-17T16:03:14.772598Z",
     "iopub.status.busy": "2023-02-17T16:03:14.771860Z",
     "iopub.status.idle": "2023-02-17T16:40:29.655229Z",
     "shell.execute_reply": "2023-02-17T16:40:29.653950Z"
    },
    "papermill": {
     "duration": 2234.894611,
     "end_time": "2023-02-17T16:40:29.658639",
     "exception": false,
     "start_time": "2023-02-17T16:03:14.764028",
     "status": "completed"
    },
    "tags": []
   },
   "outputs": [
    {
     "name": "stdout",
     "output_type": "stream",
     "text": [
      "#########################\n",
      "### Fold 1\n",
      "#########################\n",
      "1(1499), 2(1326), 3(1062), 4(1328), 5(972), 6(531), 7(1339), 8(607), 9(850), 10(1142), 11(996), 12(544), 13(674), 14(903), 15(1087), 16(831), 17(771), 18(1500), \n",
      "#########################\n",
      "### Fold 2\n",
      "#########################\n",
      "1(1493), 2(839), 3(1002), 4(1489), 5(809), 6(710), 7(873), 8(623), 9(779), 10(1333), 11(898), 12(734), 13(1012), 14(605), 15(959), 16(479), 17(447), 18(1035), \n",
      "#########################\n",
      "### Fold 3\n",
      "#########################\n",
      "1(1500), 2(826), 3(1312), 4(1115), 5(609), 6(643), 7(529), 8(457), 9(1060), 10(551), 11(983), 12(838), 13(862), 14(706), 15(704), 16(891), 17(785), 18(1458), \n",
      "#########################\n",
      "### Fold 4\n",
      "#########################\n",
      "1(1271), 2(1111), 3(887), 4(1137), 5(1183), 6(1180), 7(801), 8(385), 9(394), 10(716), 11(1013), 12(682), 13(623), 14(1123), 15(660), 16(435), 17(663), 18(972), \n",
      "#########################\n",
      "### Fold 5\n",
      "#########################\n",
      "1(1500), 2(1397), 3(1076), 4(1319), 5(839), 6(1348), 7(799), 8(406), 9(1500), 10(653), 11(673), 12(863), 13(633), 14(805), 15(1499), 16(948), 17(652), 18(717), \n",
      "#########################\n",
      "### Fold 6\n",
      "#########################\n",
      "1(1020), 2(938), 3(993), 4(1476), 5(1500), 6(810), 7(816), 8(753), 9(700), 10(1006), 11(730), 12(909), 13(1500), 14(950), 15(1205), 16(520), 17(469), 18(1109), \n",
      "#########################\n",
      "### Fold 7\n",
      "#########################\n",
      "1(1500), 2(1074), 3(1500), 4(1279), 5(680), 6(804), 7(661), 8(550), 9(1222), 10(503), 11(371), 12(835), 13(1219), 14(700), 15(548), 16(611), 17(692), 18(859), \n",
      "#########################\n",
      "### Fold 8\n",
      "#########################\n",
      "1(1490), 2(1160), 3(1498), 4(924), 5(883), 6(580), 7(773), 8(385), 9(790), 10(508), 11(873), 12(1074), 13(750), 14(1248), 15(1071), 16(1058), 17(564), 18(1230), \n",
      "#########################\n",
      "### Fold 9\n",
      "#########################\n",
      "1(1500), 2(1002), 3(957), 4(1500), 5(949), 6(940), 7(973), 8(553), 9(1042), 10(506), 11(494), 12(844), 13(719), 14(1097), 15(931), 16(841), 17(452), 18(1140), \n",
      "#########################\n",
      "### Fold 10\n",
      "#########################\n",
      "1(1500), 2(1379), 3(1052), 4(842), 5(370), 6(882), 7(648), 8(609), 9(1054), 10(447), 11(560), 12(976), 13(860), 14(1020), 15(1086), 16(658), 17(671), 18(775), \n",
      "#########################\n",
      "### Fold 11\n",
      "#########################\n",
      "1(1500), 2(1276), 3(1065), 4(1497), 5(590), 6(1138), 7(637), 8(637), 9(728), 10(1386), 11(1500), 12(581), 13(1085), 14(1061), 15(939), 16(489), 17(782), 18(1030), \n",
      "#########################\n",
      "### Fold 12\n",
      "#########################\n",
      "1(1374), 2(980), 3(1500), 4(1378), 5(735), 6(853), 7(837), 8(370), 9(607), 10(1331), 11(478), 12(818), 13(1024), 14(1014), 15(1127), 16(885), 17(585), 18(1072), \n",
      "#########################\n",
      "### Fold 13\n",
      "#########################\n",
      "1(1500), 2(1136), 3(1391), 4(1264), 5(553), 6(918), 7(1500), 8(379), 9(1221), 10(356), 11(376), 12(664), 13(930), 14(1351), 15(1474), 16(889), 17(782), 18(1069), \n",
      "#########################\n",
      "### Fold 14\n",
      "#########################\n",
      "1(883), 2(954), 3(1048), 4(841), 5(1158), 6(909), 7(620), 8(981), 9(1488), 10(1230), 11(697), 12(812), 13(868), 14(771), 15(1089), 16(492), 17(1052), 18(991), \n",
      "#########################\n",
      "### Fold 15\n",
      "#########################\n",
      "1(1485), 2(1496), 3(1138), 4(836), 5(653), 6(1123), 7(1272), 8(556), 9(1282), 10(731), 11(734), 12(828), 13(1006), 14(993), 15(740), 16(454), 17(712), 18(1156), \n",
      "#########################\n",
      "### Fold 16\n",
      "#########################\n",
      "1(1500), 2(1349), 3(789), 4(1500), 5(534), 6(1499), 7(1407), 8(616), 9(928), 10(935), 11(1190), 12(1112), 13(1256), 14(1227), 15(886), 16(770), 17(720), 18(1341), \n",
      "#########################\n",
      "### Fold 17\n",
      "#########################\n",
      "1(1125), 2(1386), 3(1234), 4(890), 5(772), 6(1148), 7(1138), 8(518), 9(804), 10(598), 11(846), 12(562), 13(686), 14(1040), 15(862), 16(754), 17(326), 18(897), \n",
      "#########################\n",
      "### Fold 18\n",
      "#########################\n",
      "1(656), 2(1395), 3(1297), 4(945), 5(336), 6(690), 7(875), 8(621), 9(1432), 10(1164), 11(657), 12(696), 13(1172), 14(602), 15(1150), 16(643), 17(439), 18(903), \n",
      "#########################\n",
      "### Fold 19\n",
      "#########################\n",
      "1(1500), 2(1146), 3(950), 4(1095), 5(1308), 6(1093), 7(1462), 8(371), 9(605), 10(679), 11(848), 12(942), 13(1500), 14(905), 15(1253), 16(600), 17(640), 18(1437), \n",
      "#########################\n",
      "### Fold 20\n",
      "#########################\n",
      "1(965), 2(945), 3(1308), 4(1463), 5(450), 6(1146), 7(653), 8(632), 9(720), 10(818), 11(905), 12(846), 13(1260), 14(416), 15(1491), 16(709), 17(633), 18(675), \n"
     ]
    }
   ],
   "source": [
    "gkf = GroupKFold(n_splits=20)\n",
    "oof = pd.DataFrame(data=np.zeros((len(ALL_USERS),18)), index=ALL_USERS)\n",
    "models = {}\n",
    "\n",
    "# COMPUTE CV SCORE WITH 5 GROUP K FOLD\n",
    "for i, (train_index, test_index) in enumerate(gkf.split(X=df, groups=df.index)):\n",
    "    print('#'*25)\n",
    "    print('### Fold',i+1)\n",
    "    print('#'*25)\n",
    "    \n",
    "    xgb_params = {\n",
    "    'objective' : 'binary:logistic',\n",
    "    'eval_metric':'logloss',\n",
    "    'learning_rate': 0.005,\n",
    "    'max_depth': 4,\n",
    "    'n_estimators': 1500,\n",
    "    'early_stopping_rounds': 50,\n",
    "    'tree_method':'hist',\n",
    "    'subsample':0.8,\n",
    "    'colsample_bytree': 0.4,\n",
    "    'use_label_encoder' : False}\n",
    "    \n",
    "    # ITERATE THRU QUESTIONS 1 THRU 18\n",
    "    for t in range(1,19):\n",
    "        \n",
    "        # USE THIS TRAIN DATA WITH THESE QUESTIONS\n",
    "        if t<=3: grp = '0-4'\n",
    "        elif t<=13: grp = '5-12'\n",
    "        elif t<=22: grp = '13-22'\n",
    "            \n",
    "        # TRAIN DATA\n",
    "        train_x = df.iloc[train_index]\n",
    "        train_x = train_x.loc[train_x.level_group == grp]\n",
    "        train_users = train_x.index.values\n",
    "        train_y = targets.loc[targets.q==t].set_index('session').loc[train_users]\n",
    "        \n",
    "        # VALID DATA\n",
    "        valid_x = df.iloc[test_index]\n",
    "        valid_x = valid_x.loc[valid_x.level_group == grp]\n",
    "        valid_users = valid_x.index.values\n",
    "        valid_y = targets.loc[targets.q==t].set_index('session').loc[valid_users]\n",
    "        \n",
    "        # TRAIN MODEL        \n",
    "        clf =  XGBClassifier(**xgb_params)\n",
    "        clf.fit(train_x[FEATURES].astype('float32'), train_y['correct'],\n",
    "                eval_set=[ (valid_x[FEATURES].astype('float32'), valid_y['correct']) ],\n",
    "                verbose=0)\n",
    "        print(f'{t}({clf.best_ntree_limit}), ',end='')\n",
    "        \n",
    "        # SAVE MODEL, PREDICT VALID OOF\n",
    "        models[f'{grp}_{t}'] = clf\n",
    "        oof.loc[valid_users, t-1] = clf.predict_proba(valid_x[FEATURES].astype('float32'))[:,1]\n",
    "        \n",
    "    print()"
   ]
  },
  {
   "cell_type": "markdown",
   "id": "1bdd3818",
   "metadata": {
    "papermill": {
     "duration": 0.026858,
     "end_time": "2023-02-17T16:40:29.713555",
     "exception": false,
     "start_time": "2023-02-17T16:40:29.686697",
     "status": "completed"
    },
    "tags": []
   },
   "source": [
    "# Compute CV Score\n",
    "We need to convert prediction probabilities into `1s` and `0s`. The competition metric is F1 Score which is the harmonic mean of precision and recall. Let's find the optimal threshold for `p > threshold` when to predict `1` and when to predict `0` to maximize F1 Score."
   ]
  },
  {
   "cell_type": "code",
   "execution_count": 10,
   "id": "22d28278",
   "metadata": {
    "execution": {
     "iopub.execute_input": "2023-02-17T16:40:29.771173Z",
     "iopub.status.busy": "2023-02-17T16:40:29.770734Z",
     "iopub.status.idle": "2023-02-17T16:40:29.847894Z",
     "shell.execute_reply": "2023-02-17T16:40:29.846887Z"
    },
    "papermill": {
     "duration": 0.108718,
     "end_time": "2023-02-17T16:40:29.850242",
     "exception": false,
     "start_time": "2023-02-17T16:40:29.741524",
     "status": "completed"
    },
    "tags": []
   },
   "outputs": [],
   "source": [
    "# PUT TRUE LABELS INTO DATAFRAME WITH 18 COLUMNS\n",
    "true = oof.copy()\n",
    "for k in range(18):\n",
    "    # GET TRUE LABELS\n",
    "    tmp = targets.loc[targets.q == k+1].set_index('session').loc[ALL_USERS]\n",
    "    true[k] = tmp.correct.values"
   ]
  },
  {
   "cell_type": "code",
   "execution_count": 11,
   "id": "de01cd7b",
   "metadata": {
    "execution": {
     "iopub.execute_input": "2023-02-17T16:40:29.908221Z",
     "iopub.status.busy": "2023-02-17T16:40:29.907234Z",
     "iopub.status.idle": "2023-02-17T16:40:33.827812Z",
     "shell.execute_reply": "2023-02-17T16:40:33.826653Z"
    },
    "papermill": {
     "duration": 3.952791,
     "end_time": "2023-02-17T16:40:33.830597",
     "exception": false,
     "start_time": "2023-02-17T16:40:29.877806",
     "status": "completed"
    },
    "tags": []
   },
   "outputs": [
    {
     "name": "stdout",
     "output_type": "stream",
     "text": [
      "0.40, 0.41, 0.42, 0.43, 0.44, 0.45, 0.46, 0.47, 0.48, 0.49, 0.50, 0.51, 0.52, 0.53, 0.54, 0.55, 0.56, 0.57, 0.58, 0.59, 0.60, 0.61, 0.62, 0.63, 0.64, 0.65, 0.66, 0.67, 0.68, 0.69, 0.70, 0.71, 0.72, 0.73, 0.74, 0.75, 0.76, 0.77, 0.78, 0.79, 0.80, "
     ]
    }
   ],
   "source": [
    "# FIND BEST THRESHOLD TO CONVERT PROBS INTO 1s AND 0s\n",
    "scores = []; thresholds = []\n",
    "best_score = 0; best_threshold = 0\n",
    "\n",
    "for threshold in np.arange(0.4,0.81,0.01):\n",
    "    print(f'{threshold:.02f}, ',end='')\n",
    "    preds = (oof.values.reshape((-1))>threshold).astype('int')\n",
    "    m = f1_score(true.values.reshape((-1)), preds, average='macro')   \n",
    "    scores.append(m)\n",
    "    thresholds.append(threshold)\n",
    "    if m>best_score:\n",
    "        best_score = m\n",
    "        best_threshold = threshold"
   ]
  },
  {
   "cell_type": "code",
   "execution_count": 12,
   "id": "5dd01851",
   "metadata": {
    "execution": {
     "iopub.execute_input": "2023-02-17T16:40:33.890509Z",
     "iopub.status.busy": "2023-02-17T16:40:33.889784Z",
     "iopub.status.idle": "2023-02-17T16:40:34.192463Z",
     "shell.execute_reply": "2023-02-17T16:40:34.191204Z"
    },
    "papermill": {
     "duration": 0.335778,
     "end_time": "2023-02-17T16:40:34.195488",
     "exception": false,
     "start_time": "2023-02-17T16:40:33.859710",
     "status": "completed"
    },
    "tags": []
   },
   "outputs": [
    {
     "data": {
      "image/png": "[encoded data removed]",
      "text/plain": [
       "<Figure size 1440x360 with 1 Axes>"
      ]
     },
     "metadata": {
      "needs_background": "light"
     },
     "output_type": "display_data"
    }
   ],
   "source": [
    "import matplotlib.pyplot as plt\n",
    "\n",
    "# PLOT THRESHOLD VS. F1_SCORE\n",
    "plt.figure(figsize=(20,5))\n",
    "plt.plot(thresholds,scores,'-o',color='blue')\n",
    "plt.scatter([best_threshold], [best_score], color='blue', s=300, alpha=1)\n",
    "plt.xlabel('Threshold',size=14)\n",
    "plt.ylabel('Validation F1 Score',size=14)\n",
    "plt.title(f'Threshold vs. F1_Score with Best F1_Score = {best_score:.3f} at Best Threshold = {best_threshold:.3}',size=18)\n",
    "plt.show()"
   ]
  },
  {
   "cell_type": "code",
   "execution_count": 13,
   "id": "c804d9bd",
   "metadata": {
    "execution": {
     "iopub.execute_input": "2023-02-17T16:40:34.256947Z",
     "iopub.status.busy": "2023-02-17T16:40:34.256190Z",
     "iopub.status.idle": "2023-02-17T16:40:34.453666Z",
     "shell.execute_reply": "2023-02-17T16:40:34.452561Z"
    },
    "papermill": {
     "duration": 0.231439,
     "end_time": "2023-02-17T16:40:34.456079",
     "exception": false,
     "start_time": "2023-02-17T16:40:34.224640",
     "status": "completed"
    },
    "tags": []
   },
   "outputs": [
    {
     "name": "stdout",
     "output_type": "stream",
     "text": [
      "When using optimal threshold...\n",
      "Q0: F1 = 0.60613200139209\n",
      "Q1: F1 = 0.4946153516111039\n",
      "Q2: F1 = 0.48600449581649685\n",
      "Q3: F1 = 0.6089439824403108\n",
      "Q4: F1 = 0.574528931553344\n",
      "Q5: F1 = 0.6044762902143804\n",
      "Q6: F1 = 0.5900999527393911\n",
      "Q7: F1 = 0.5280867047939785\n",
      "Q8: F1 = 0.6022869048001157\n",
      "Q9: F1 = 0.5074771398795856\n",
      "Q10: F1 = 0.5953150420004631\n",
      "Q11: F1 = 0.4939001818721721\n",
      "Q12: F1 = 0.43992171532683544\n",
      "Q13: F1 = 0.611530199171884\n",
      "Q14: F1 = 0.5053477161316741\n",
      "Q15: F1 = 0.45075559765313383\n",
      "Q16: F1 = 0.5371307836954806\n",
      "Q17: F1 = 0.4888189337172301\n",
      "==> Overall F1 = 0.6798376650871869\n"
     ]
    }
   ],
   "source": [
    "print('When using optimal threshold...')\n",
    "for k in range(18):\n",
    "        \n",
    "    # COMPUTE F1 SCORE PER QUESTION\n",
    "    m = f1_score(true[k].values, (oof[k].values>best_threshold).astype('int'), average='macro')\n",
    "    print(f'Q{k}: F1 =',m)\n",
    "    \n",
    "# COMPUTE F1 SCORE OVERALL\n",
    "m = f1_score(true.values.reshape((-1)), (oof.values.reshape((-1))>best_threshold).astype('int'), average='macro')\n",
    "print('==> Overall F1 =',m)"
   ]
  },
  {
   "cell_type": "markdown",
   "id": "03514d4f",
   "metadata": {
    "papermill": {
     "duration": 0.028973,
     "end_time": "2023-02-17T16:40:34.514201",
     "exception": false,
     "start_time": "2023-02-17T16:40:34.485228",
     "status": "completed"
    },
    "tags": []
   },
   "source": [
    "# Infer Test Data"
   ]
  },
  {
   "cell_type": "code",
   "execution_count": 14,
   "id": "6442d8ba",
   "metadata": {
    "execution": {
     "iopub.execute_input": "2023-02-17T16:40:34.574599Z",
     "iopub.status.busy": "2023-02-17T16:40:34.573855Z",
     "iopub.status.idle": "2023-02-17T16:40:35.212991Z",
     "shell.execute_reply": "2023-02-17T16:40:35.211987Z"
    },
    "papermill": {
     "duration": 0.672292,
     "end_time": "2023-02-17T16:40:35.215446",
     "exception": false,
     "start_time": "2023-02-17T16:40:34.543154",
     "status": "completed"
    },
    "tags": []
   },
   "outputs": [],
   "source": [
    "# IMPORT KAGGLE API\n",
    "import jo_wilder\n",
    "env = jo_wilder.make_env()\n",
    "iter_test = env.iter_test()\n",
    "\n",
    "# CLEAR MEMORY\n",
    "import gc\n",
    "del train, targets, df, oof, true\n",
    "_ = gc.collect()"
   ]
  },
  {
   "cell_type": "code",
   "execution_count": 15,
   "id": "99f40922",
   "metadata": {
    "execution": {
     "iopub.execute_input": "2023-02-17T16:40:35.277971Z",
     "iopub.status.busy": "2023-02-17T16:40:35.277204Z",
     "iopub.status.idle": "2023-02-17T16:40:36.164412Z",
     "shell.execute_reply": "2023-02-17T16:40:36.163485Z"
    },
    "papermill": {
     "duration": 0.92221,
     "end_time": "2023-02-17T16:40:36.167111",
     "exception": false,
     "start_time": "2023-02-17T16:40:35.244901",
     "status": "completed"
    },
    "tags": []
   },
   "outputs": [
    {
     "name": "stdout",
     "output_type": "stream",
     "text": [
      "This version of the API is not optimized and should not be used to estimate the runtime of your code on the hidden test set.\n"
     ]
    }
   ],
   "source": [
    "limits = {'0-4':(1,4), '5-12':(4,14), '13-22':(14,19)}\n",
    "\n",
    "for (sample_submission, test) in iter_test:\n",
    "    test['room_coor_x'].fillna(0)\n",
    "    test['room_coor_y'].fillna(0)\n",
    "    test['screen_coor_y'].fillna(0)\n",
    "    test['screen_coor_x'].fillna(0)\n",
    "    test['hover_duration'].fillna(0)\n",
    "    test['page'].fillna(-1)\n",
    "    # FEATURE ENGINEER TEST DATA\n",
    "    df = feature_engineer(test)\n",
    "    \n",
    "    # INFER TEST DATA\n",
    "    grp = test.level_group.values[0]\n",
    "    a,b = limits[grp]\n",
    "    for t in range(a,b):\n",
    "        clf = models[f'{grp}_{t}']\n",
    "        p = clf.predict_proba(df[FEATURES].astype('float32'))[:,1]\n",
    "        mask = sample_submission.session_id.str.contains(f'q{t}')\n",
    "        sample_submission.loc[mask,'correct'] = int(p.item()>best_threshold)\n",
    "    \n",
    "    env.predict(sample_submission)"
   ]
  },
  {
   "cell_type": "markdown",
   "id": "be7df99b",
   "metadata": {
    "papermill": {
     "duration": 0.02884,
     "end_time": "2023-02-17T16:40:36.225644",
     "exception": false,
     "start_time": "2023-02-17T16:40:36.196804",
     "status": "completed"
    },
    "tags": []
   },
   "source": [
    "# EDA submission.csv"
   ]
  },
  {
   "cell_type": "code",
   "execution_count": 16,
   "id": "f0beff31",
   "metadata": {
    "execution": {
     "iopub.execute_input": "2023-02-17T16:40:36.402117Z",
     "iopub.status.busy": "2023-02-17T16:40:36.401710Z",
     "iopub.status.idle": "2023-02-17T16:40:36.414489Z",
     "shell.execute_reply": "2023-02-17T16:40:36.413409Z"
    },
    "papermill": {
     "duration": 0.161589,
     "end_time": "2023-02-17T16:40:36.416609",
     "exception": false,
     "start_time": "2023-02-17T16:40:36.255020",
     "status": "completed"
    },
    "tags": []
   },
   "outputs": [
    {
     "name": "stdout",
     "output_type": "stream",
     "text": [
      "(54, 2)\n"
     ]
    },
    {
     "data": {
      "text/html": [
       "<div>\n",
       "<style scoped>\n",
       "    .dataframe tbody tr th:only-of-type {\n",
       "        vertical-align: middle;\n",
       "    }\n",
       "\n",
       "    .dataframe tbody tr th {\n",
       "        vertical-align: top;\n",
       "    }\n",
       "\n",
       "    .dataframe thead th {\n",
       "        text-align: right;\n",
       "    }\n",
       "</style>\n",
       "<table border=\"1\" class=\"dataframe\">\n",
       "  <thead>\n",
       "    <tr style=\"text-align: right;\">\n",
       "      <th></th>\n",
       "      <th>session_id</th>\n",
       "      <th>correct</th>\n",
       "    </tr>\n",
       "  </thead>\n",
       "  <tbody>\n",
       "    <tr>\n",
       "      <th>0</th>\n",
       "      <td>20090109393214576_q1</td>\n",
       "      <td>1</td>\n",
       "    </tr>\n",
       "    <tr>\n",
       "      <th>1</th>\n",
       "      <td>20090109393214576_q2</td>\n",
       "      <td>1</td>\n",
       "    </tr>\n",
       "    <tr>\n",
       "      <th>2</th>\n",
       "      <td>20090109393214576_q3</td>\n",
       "      <td>1</td>\n",
       "    </tr>\n",
       "    <tr>\n",
       "      <th>3</th>\n",
       "      <td>20090312143683264_q1</td>\n",
       "      <td>0</td>\n",
       "    </tr>\n",
       "    <tr>\n",
       "      <th>4</th>\n",
       "      <td>20090312143683264_q2</td>\n",
       "      <td>1</td>\n",
       "    </tr>\n",
       "  </tbody>\n",
       "</table>\n",
       "</div>"
      ],
      "text/plain": [
       "             session_id  correct\n",
       "0  20090109393214576_q1        1\n",
       "1  20090109393214576_q2        1\n",
       "2  20090109393214576_q3        1\n",
       "3  20090312143683264_q1        0\n",
       "4  20090312143683264_q2        1"
      ]
     },
     "execution_count": 16,
     "metadata": {},
     "output_type": "execute_result"
    }
   ],
   "source": [
    "df = pd.read_csv('submission.csv')\n",
    "print( df.shape )\n",
    "df.head()"
   ]
  },
  {
   "cell_type": "code",
   "execution_count": 17,
   "id": "859a070a",
   "metadata": {
    "execution": {
     "iopub.execute_input": "2023-02-17T16:40:36.477956Z",
     "iopub.status.busy": "2023-02-17T16:40:36.477155Z",
     "iopub.status.idle": "2023-02-17T16:40:36.483088Z",
     "shell.execute_reply": "2023-02-17T16:40:36.481980Z"
    },
    "papermill": {
     "duration": 0.039949,
     "end_time": "2023-02-17T16:40:36.485681",
     "exception": false,
     "start_time": "2023-02-17T16:40:36.445732",
     "status": "completed"
    },
    "tags": []
   },
   "outputs": [
    {
     "name": "stdout",
     "output_type": "stream",
     "text": [
      "0.5370370370370371\n"
     ]
    }
   ],
   "source": [
    "print(df.correct.mean())"
   ]
  }
 ],
 "metadata": {
  "kernelspec": {
   "display_name": "Python 3",
   "language": "python",
   "name": "python3"
  },
  "language_info": {
   "codemirror_mode": {
    "name": "ipython",
    "version": 3
   },
   "file_extension": ".py",
   "mimetype": "text/x-python",
   "name": "python",
   "nbconvert_exporter": "python",
   "pygments_lexer": "ipython3",
   "version": "3.7.12"
  },
  "papermill": {
   "default_parameters": {},
   "duration": 2379.3963,
   "end_time": "2023-02-17T16:40:37.644639",
   "environment_variables": {},
   "exception": null,
   "input_path": "__notebook__.ipynb",
   "output_path": "__notebook__.ipynb",
   "parameters": {},
   "start_time": "2023-02-17T16:00:58.248339",
   "version": "2.3.4"
  }
 },
 "nbformat": 4,
 "nbformat_minor": 5
}
